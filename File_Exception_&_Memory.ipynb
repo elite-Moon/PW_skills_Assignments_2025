{
  "nbformat": 4,
  "nbformat_minor": 0,
  "metadata": {
    "colab": {
      "provenance": []
    },
    "kernelspec": {
      "name": "python3",
      "display_name": "Python 3"
    },
    "language_info": {
      "name": "python"
    }
  },
  "cells": [
    {
      "cell_type": "markdown",
      "source": [
        "#Files, exceptional handling,logging and memory management Questions"
      ],
      "metadata": {
        "id": "MSfLp7PzOa8_"
      }
    },
    {
      "cell_type": "markdown",
      "source": [
        "#**1 .  What is the difference between compiled and interpreted languages?**\n",
        "\n",
        "- **Compiled Language**\n",
        "\n",
        "  > Translated into machine code (binary) before execution, it is Faster (since machine code runs directly)\n",
        "\n",
        "  > Errors detected at compile time before running\n",
        "\n",
        "  > it is platform dependent (compiled code works only on the target OS/architecture) Ex - C, C++, Rust, Go\n",
        "\n",
        "\n",
        "\n",
        "\n",
        "- **Interpreted Languages**\n",
        "\n",
        "  > it works translated line by line at runtime and it is slower (translation happens during execution)\n",
        "\n",
        "  > Errors detected at runtime, when the line is executed\n",
        "\n",
        "  > Platform independent (requires the interpreter installed). Ex - Python, JavaScript, Ruby, PHP"
      ],
      "metadata": {
        "id": "W-As6XWvOjBa"
      }
    },
    {
      "cell_type": "markdown",
      "source": [
        "#**2. What is exception handling in Python ?**\n",
        "\n",
        "- Exception handling in Python is a way to handle errors gracefully during program execution, so the program does not crash and can continue running or exit smoothly.\n",
        "\n",
        "- This is typically done using try, except, else, and finally blocks.\n",
        "\n",
        "  > try → Code block to test for errors.\n",
        "\n",
        "  > except → Code block that runs if an error occurs.\n",
        "\n",
        "  > else → Runs if no error occurs.\n",
        "\n",
        "  > finally → Runs no matter what (used for cleanup like closing files).\n",
        "\n",
        "\n",
        "- Example\n",
        "    ```\n",
        "    try:\n",
        "        num = int(input(\"Enter a number: \"))\n",
        "        print(10 / num)\n",
        "    except ZeroDivisionError:\n",
        "        print(\"Error: Cannot divide by zero!\")\n",
        "    except ValueError:\n",
        "        print(\"Error: Please enter a valid number.\")\n",
        "    else:\n",
        "        print(\"No error occurred!\")\n",
        "    finally:\n",
        "        print(\"Execution finished.\")\n",
        "    ```\n",
        "\n",
        "- Exception handling in Python = try–except–else–finally block that helps manage runtime errors without crashing the program.\n",
        "\n"
      ],
      "metadata": {
        "id": "e3qE_LoaR84T"
      }
    },
    {
      "cell_type": "markdown",
      "source": [
        "#**3. What is the purpose of the finally block in exception handling ?**\n",
        "\n",
        "- The `finally` block in Python is used to define a set of statements that must be executed no matter what happens—whether an exception occurs or not.\n",
        "\n",
        "  > The finally block always executes, even if an exception occurs.\n",
        "\n",
        "  > It runs after the try and except blocks.\n",
        "\n",
        "  > If there’s a return statement in try or except, the finally block still executes before returning."
      ],
      "metadata": {
        "id": "NXg6oI8OThqT"
      }
    },
    {
      "cell_type": "markdown",
      "source": [
        "#**4.  What is logging in Python ?**\n",
        "\n",
        "- Logging in Python is a way to track events that happen when a program runs. It records messages about the program’s execution, which helps developers debug, monitor, and understand how the code behaves.\n",
        "\n",
        "- Instead of using `print()` for debugging, Python provides the `logging` module that is more flexible and professional.\n",
        "\n",
        "-  **Why logging is preffered** -->\n",
        "\n",
        "- print() is temporary and should not be used in production.\n",
        "\n",
        "- Logging provides different levels of importance (INFO, DEBUG, ERROR, etc.).\n",
        "\n",
        "- You can log messages to files, console, or even remote servers.\n",
        "\n",
        "- Easier to filter, format, and manage messages.\n",
        "\n",
        "- Example -->\n",
        "  ```\n",
        "  import logging\n",
        "\n",
        "  # Basic configuration\n",
        "  logging.basicConfig(level=logging.DEBUG)\n",
        "\n",
        "  logging.debug(\"This is a debug message\")\n",
        "  logging.info(\"This is an info message\")\n",
        "  logging.warning(\"This is a warning message\")\n",
        "  logging.error(\"This is an error message\")\n",
        "  logging.critical(\"This is a critical message\")\n",
        "\n",
        "  ```\n",
        "\n",
        "- Logging Levels (in increasing severity):\n",
        "\n",
        "  > DEBUG → Detailed info (useful for debugging).\n",
        "\n",
        "  > INFO → Confirmation that things are working as expected.\n",
        "\n",
        "  > WARNING → Something unexpected happened, but program continues.\n",
        "\n",
        "  > ERROR → A serious problem occurred; program may not run correctly.\n",
        "\n",
        "  > CRITICAL → Very serious error; program might crash.\n",
        "\n",
        "\n"
      ],
      "metadata": {
        "id": "UgY-vAL7T9Mc"
      }
    },
    {
      "cell_type": "markdown",
      "source": [
        "#**5.  What is the significance of the `__del__` method in Python ?**\n",
        "\n",
        "- `__del__` is a destructor method in Python.\n",
        "\n",
        "- It is called automatically when an object is about to be destroyed (i.e., when it goes out of scope or Python’s garbage collector removes it).\n",
        "\n",
        "- it is gernrally used in\n",
        "\n",
        "  > Cleanup tasks → free resources like closing files, network connections, or database connections.\n",
        "\n",
        "  > Memory management → helps Python release memory associated with the object.\n",
        "\n",
        "  > Final actions → perform any final operations before an object is deleted.\n",
        "\n",
        "- NOTE:\n",
        "\n",
        "  > Python has automatic garbage collection, so you don’t always need `__del__`.\n",
        "\n",
        "  > `__del__` may not be called immediately when you expect (depends on reference counting and garbage collector).\n",
        "\n",
        "  > Rely on context managers (with statement) for resource cleanup (preferred way)."
      ],
      "metadata": {
        "id": "STegAKdXWFCT"
      }
    },
    {
      "cell_type": "markdown",
      "source": [
        "#**6.   What is the difference between `import` and `from ... import` in Python ?**\n",
        "\n",
        "- **import**\n",
        "  > Imports the entire module into memory.\n",
        "\n",
        "  > You must use the module name prefix to access functions/variables.\n",
        "          ex -  \n",
        "            \n",
        "            ```\n",
        "            import math\n",
        "            print(math.sqrt(16))\n",
        "            ```\n",
        "\n",
        "  > Keeps the namespace clear, avoids conflicts between modules.\n",
        "\n",
        "  > Slightly longer to type, but safer for large projects.\n",
        "\n",
        "\n",
        "- **from ... import**\n",
        "\n",
        "    > Imports only the specific functions, classes, or variables from a module.\n",
        "\n",
        "    > You can use them directly without prefix.\n",
        "          ex -\n",
        "            \n",
        "            ```\n",
        "            from math import sqrt\n",
        "            print(sqrt(16))\n",
        "            ```\n",
        "\n",
        "    >  Code is shorter and easier to write.\n",
        "\n",
        "    > Can cause name conflicts if different modules have functions with the same name.\n",
        "\n",
        "    > You can also import everything with from module import * (⚠️ not recommended, as it pollutes the namespace)."
      ],
      "metadata": {
        "id": "de8rjJdnXk7q"
      }
    },
    {
      "cell_type": "markdown",
      "source": [
        "#**7.  How can you handle multiple exceptions in Python ?**\n",
        "\n",
        "- Multiple except blocks - One block for each error type.\n",
        "- Single except with tuple - Catch multiple errors in one block.\n",
        "  > This makes programs more robust by covering different possible problems.\n",
        "\n",
        "  > In Python, sometimes more than one type of error can occur. You can handle multiple exceptions using:\n",
        "\n",
        "- Example 1\n",
        "\n",
        "\n",
        "\n",
        "    ```\n",
        "\n",
        "    try:\n",
        "        num = int(\"abc\")  # ValueError\n",
        "    except (ValueError, ZeroDivisionError) as e:\n",
        "        print(\"Error occurred:\", e)\n",
        "    ```\n",
        "\n",
        "- Example 2\n",
        "\n",
        "\n",
        "\n",
        "  ```\n",
        "\n",
        "    try:\n",
        "      result = 10 / 0  # ZeroDivisionError\n",
        "  except ValueError:\n",
        "      print(\"Invalid value\")\n",
        "  except ZeroDivisionError:\n",
        "      print(\"Division by zero is not allowed\")\n",
        "  ```\n",
        "\n",
        "\n",
        "\n"
      ],
      "metadata": {
        "id": "YgpYoqm9ZZHr"
      }
    },
    {
      "cell_type": "markdown",
      "source": [
        "#**8.  What is the purpose of the `with` statement when handling files in Python ?**\n",
        "\n",
        "- The with statement is used to open and manage files in Python.\n",
        "\n",
        "- It ensures that the file is automatically closed once the block inside with is executed, even if an error occurs.\n",
        "\n",
        "- This prevents issues like file corruption, memory leaks, or forgetting to close the file.\n",
        "\n",
        "- It makes code cleaner and shorter compared to using open() and close() manually.\n",
        "\n",
        "- Example\n",
        "\n",
        "\n",
        "    ```\n",
        "    with open(\"data.txt\", \"r\") as file:\n",
        "        content = file.read()   # File will auto-close here\n",
        "    ```\n",
        "- The purpose of the with statement is to handle resource management automatically, making file handling safer and cleaner.\n"
      ],
      "metadata": {
        "id": "GbB9BVSXa09j"
      }
    },
    {
      "cell_type": "markdown",
      "source": [
        "#**9.  What is the difference between multithreading and multiprocessing ?**\n",
        "\n",
        "- **Mutlithreading**\n",
        "  > Runs multiple threads (smaller units of a process) within the same process.\n",
        "\n",
        "  > Threads share the same memory of the process.\n",
        "  \n",
        "  > Multithreading is lightweight and faster for tasks involving I/O operations (like file handling, web requests).\n",
        "  \n",
        "  > Multithreading is limited by GIL → only one thread executes Python bytecode at a time.\n",
        "\n",
        "  > Threads have less overhead (since they share memory).\n",
        "\n",
        "  > Multithreading = Multiple threads inside one process, share memory, good for I/O.\n",
        "\n",
        "  > Ex - Downloading multiple files, handling multiple user requests in a web server.\n",
        "\n",
        "\n",
        "- **Multiprocessing**\n",
        "\n",
        "  > Runs multiple processes simultaneously, each with its own memory space.\n",
        "\n",
        "  > Processes have separate memory spaces.\n",
        "\n",
        "  > Multiprocessing is better for CPU-intensive tasks (like calculations, data processing).\n",
        "\n",
        "  > Multiprocessing bypasses GIL → runs in separate processes, true parallelism.\n",
        "\n",
        "  > Processes have more overhead (need inter-process communication).\n",
        "\n",
        "  > Multiprocessing = Multiple processes, separate memory, good for CPU tasks.\n",
        "\n",
        "  > Ex - Image processing, machine learning, large computations."
      ],
      "metadata": {
        "id": "kQsx1e0DbePj"
      }
    },
    {
      "cell_type": "markdown",
      "source": [
        "#**10.  What are the advantages of using logging in a program ?**\n",
        "\n",
        "- Logging is a way to record events, errors, and information about a program’s execution. It is better than using print statements because it is more flexible and professional.\n",
        "\n",
        "- Advantages\n",
        "\n",
        "  > Error Tracking- Helps find where and why errors occurred.\n",
        "\n",
        "  > Debugging- Easier to debug large applications.\n",
        "\n",
        "  > Different Levels- Can record info as INFO, WARNING, ERROR, CRITICAL.\n",
        "\n",
        "  > Persistent Records- Logs can be saved to a file for future analysis.\n",
        "\n",
        "  > Non-intrusive - Doesn’t interrupt program flow like print().\n",
        "\n",
        "  > Scalability- Used in large projects, servers, and production systems\n",
        "\n",
        "  > example -\n",
        "  ```\n",
        "  import logging\n",
        "  logging.basicConfig(level=logging.INFO, format=\"%(levelname)s - %(message)s\")\n",
        "  logging.info(\"Program started\")   # Info message\n",
        "  logging.warning(\"Low memory\")     # Warning\n",
        "  logging.error(\"File not found\")   # Error\n",
        "  ```\n",
        "\n",
        "\n"
      ],
      "metadata": {
        "id": "3eTSYVuV5BbS"
      }
    },
    {
      "cell_type": "markdown",
      "source": [
        "#**11.  What is memory management in Python ?**\n",
        "\n",
        "- Memory management in Python is handled by the Python memory manager, using heap allocation, reference counting, and garbage collection, so developers can focus on coding instead of manual memory handling.\n",
        "\n",
        "\n",
        "- Automatic Memory Management\n",
        "  > Python manages memory automatically using a built-in memory manager.\n",
        "\n",
        "  > Developers don’t need to allocate or free memory manually (like in C/C++).\n",
        "\n",
        "- Heap Memory\n",
        "  > All objects and data structures in Python are stored in a private heap memory.\n",
        "\n",
        "  > The Python memory manager allocates this space.\n",
        "\n",
        "- Garbage Collection\n",
        "  > Python uses reference counting and a garbage collector to free unused memory.\n",
        "\n",
        "  > When an object has no references pointing to it, it is automatically destroyed.\n",
        "\n",
        "- Dynamic Typing\n",
        "  > Variables don’t have fixed types; Python allocates memory dynamically based on the object type.\n",
        "\n",
        "- Memory Pools (PyMalloc)\n",
        "\n",
        "  > Python uses an internal system called PyMalloc for efficient memory allocation of small objects.\n",
        "\n",
        "\n",
        "- Example\n",
        "    ```\n",
        "    import sys\n",
        "\n",
        "    x = [1, 2, 3]\n",
        "    print(sys.getrefcount(x))  # Shows how many references point to the object\n",
        "\n",
        "    ```\n",
        "\n",
        "\n",
        "\n"
      ],
      "metadata": {
        "id": "dvW2KXlT6CYY"
      }
    },
    {
      "cell_type": "markdown",
      "source": [
        "#**12.  What are the basic steps involved in exception handling in Python ?**\n",
        "\n",
        "- Basic Steps in Exception Handling in Python -->\n",
        "\n",
        "- **Try block** – Write the code that might cause an exception inside a try block.\n",
        "\n",
        "- **Except block** – Catch and handle the exception using one or more except blocks.\n",
        "\n",
        "- **Else block (optional)** – Code inside else runs if no exception occurs.\n",
        "\n",
        "- **Finally block (optional)** – Code inside finally always runs, whether an exception occurred or not (commonly used for cleanup).\n",
        "\n",
        "- Example\n",
        "\n",
        "  ```\n",
        "  try:\n",
        "      num = int(\"abc\")  # May raise ValueError\n",
        "  except ValueError:\n",
        "      print(\"Invalid input!\")\n",
        "  else:\n",
        "      print(\"No error occurred.\")\n",
        "  finally:\n",
        "      print(\"Execution finished.\")\n",
        "\n",
        "  ```\n",
        "\n"
      ],
      "metadata": {
        "id": "WVTE7cNWBeXI"
      }
    },
    {
      "cell_type": "markdown",
      "source": [
        "#**13.  Why is memory management important in Python ?**\n",
        "\n",
        "\n",
        "- Memory management is important in Python because it ensures efficient memory use, better performance, automatic cleanup, and prevention of memory leaks, making programs more reliable and scalable.\n",
        "\n",
        "- Efficient resource usage\n",
        "  > Prevents wastage of memory and ensures programs run smoothly without unnecessary memory consumption\n",
        "\n",
        "- Performance improvement\n",
        "  > Proper memory management speeds up execution by freeing unused objects and reusing space.\n",
        "\n",
        "- Automatic cleanup\n",
        "  > With garbage collection, Python automatically removes unused objects, reducing developer effort.\n",
        "\n",
        "- Avoids memory leaks\n",
        "  > Prevents the program from consuming excessive memory over time, which could lead to crashes.\n",
        "\n",
        "- Supports dynamic typing\n",
        "  > Since Python variables can change types, efficient memory allocation ensures smooth execution.\n",
        "\n",
        "- Scalability\n",
        "  > Good memory management allows Python applications to handle large datasets and complex operations effectively.\n"
      ],
      "metadata": {
        "id": "VOz9OjWqCEV9"
      }
    },
    {
      "cell_type": "markdown",
      "source": [
        "#**14.   What is the role of try and except in exception handling ?**\n",
        "\n",
        "- `try` block\n",
        "\n",
        "  > The code that might raise an exception is written inside a `try` block.\n",
        "\n",
        "  > Python executes this code and checks for errors.\n",
        "\n",
        "- `except` block\n",
        "\n",
        "  > If an exception occurs inside the `try` block, control immediately shifts to the matching `except` block.\n",
        "\n",
        "  > The `except` block handles the error gracefully, preventing program crashes.\n",
        "\n",
        "\n",
        "- Example -\n",
        "    ```\n",
        "    try:\n",
        "        num = int(\"abc\")  # Error: invalid conversion\n",
        "    except ValueError:\n",
        "        print(\"Invalid input! Please enter a number.\")\n",
        "\n",
        "\n",
        "\n",
        "        #output -- Invalid input! Please enter a number.\n",
        "\n",
        "    ```\n",
        "\n",
        "- `try` → contains risky code.\n",
        "\n",
        "- `except` → handles the error if it occurs.\n",
        "\n"
      ],
      "metadata": {
        "id": "zwQSecWBFiTI"
      }
    },
    {
      "cell_type": "markdown",
      "source": [
        "#**15.   How does Python's garbage collection system work ?**\n",
        "\n",
        "- The pyhton garbage collection system work with ----\n",
        "\n",
        "- Automatic memory management\n",
        "  > Python has a built-in garbage collector that automatically reclaims memory from unused objects.\n",
        "\n",
        "- Reference counting\n",
        "  > Every object in Python keeps a reference count (how many variables point to it).\n",
        "\n",
        "  > When the count becomes zero, the object is immediately destroyed.\n",
        "\n",
        "- Garbage collector for cyclic references\n",
        "  > If objects reference each other (like in a cycle), simple reference counting won’t work.\n",
        "\n",
        "  > Python’s garbage collector (gc module) detects and cleans up such cyclic references.\n",
        "\n",
        "- Generational approach\n",
        "  > Python’s garbage collector uses a generational algorithm:\n",
        "\n",
        "  > Young objects are collected more often.\n",
        "\n",
        "  >Old, long-lived objects are checked less frequently.\n",
        "\n",
        "- Manual control (optional)\n",
        "  > Developers can control garbage collection using the `gc` module:\n",
        "\n",
        "  >\n",
        "    ```\n",
        "    import gc\n",
        "    print(\"Garbage collection thresholds:\", gc.get_threshold())\n",
        "    ```\n",
        "\n",
        "\n",
        "- Python’s garbage collection system works by reference counting and a cyclic garbage collector (using a generational approach) to free up unused memory automatically, ensuring efficient memory management."
      ],
      "metadata": {
        "id": "hABTW0DMGgir"
      }
    },
    {
      "cell_type": "markdown",
      "source": [
        "#**16. What is the purpose of the `else` block in exception handling ?**\n",
        "\n",
        "\n",
        "- Purpose of `else` block in exception handling is :\n",
        "\n",
        "- To run code only when no exceptions are raised in the try block, keeping the success path separate from error handling.\n",
        "\n",
        "- The `else` block runs only if no exception occurs in the `try` block.\n",
        "\n",
        "- It is useful for code that should only execute when everything goes fine (i.e., no errors).\n",
        "\n",
        "- It helps keep the code cleaner by separating the error-handling logic (`except`) from the normal execution logic (`else`).\n",
        "\n",
        "\n",
        "-\n",
        "  ```\n",
        "  try:\n",
        "      num = int(\"10\")   # No error here\n",
        "  except ValueError:\n",
        "      print(\"Conversion failed!\")\n",
        "  else:\n",
        "      print(\"Conversion successful:\", num)\n",
        "\n",
        "\n",
        "  #O/P --> Conversion successful: 10\n",
        "\n",
        "\n",
        "  ```\n",
        "\n"
      ],
      "metadata": {
        "id": "8WSKy2W9H_2B"
      }
    },
    {
      "cell_type": "markdown",
      "source": [
        "#**17. What are the common logging levels in Python ?**\n",
        "\n",
        "- Python’s logging module defines five standard levels of logging severity (from lowest to highest):\n",
        "\n",
        "  > DEBUG → Detailed information, used for diagnosing problems (developer-level).\n",
        "\n",
        "  > INFO → Confirms that things are working as expected.\n",
        "\n",
        "  > WARNING → Indicates something unexpected happened, but the program still works.\n",
        "\n",
        "  > ERROR → A serious problem has occurred; some part of the program failed.\n",
        "\n",
        "  > CRITICAL → Very serious error; the program may not be able to continue running.\n",
        "\n",
        "\n",
        "-\n",
        "  ```\n",
        "  import logging\n",
        "\n",
        "  logging.basicConfig(level=logging.DEBUG)\n",
        "\n",
        "  logging.debug(\"Debugging details\")\n",
        "  logging.info(\"Information message\")\n",
        "  logging.warning(\"This is a warning\")\n",
        "  logging.error(\"An error occurred\")\n",
        "  logging.critical(\"Critical issue!\")\n",
        "\n",
        "  ```\n",
        "\n"
      ],
      "metadata": {
        "id": "ZkeM_LIdJNQ5"
      }
    },
    {
      "cell_type": "markdown",
      "source": [
        "#**18. What is the difference between `os.fork()` and multiprocessing in Python ?**\n",
        "\n",
        "- **`os.fork`** :\n",
        "\n",
        "  > A low-level Unix/Linux system call that creates a child process by duplicating the current process.\n",
        "\n",
        "  > Not available on Windows.\n",
        "\n",
        "  > More manual control, but harder to use (you must handle communication and synchronization yourself).\n",
        "\n",
        "  > Works only on Unix/Linux systems.\n",
        "\n",
        "  > No built-in mechanism; you need to use sockets, pipes, or shared memory manually.\n",
        "\n",
        "  > Example :\n",
        "  ```\n",
        "  import os\n",
        "\n",
        "  pid = os.fork()\n",
        "  if pid == 0:\n",
        "      print(\"Child process\")\n",
        "  else:\n",
        "      print(\"Parent process\")\n",
        "\n",
        "  ```\n",
        "\n",
        "\n",
        "\n",
        "\n",
        "-  **multiprocessing** module :\n",
        "\n",
        "    > A high-level Python module that provides an API for creating and managing multiple processes.\n",
        "\n",
        "   > Cross-platform (works on both Linux and Windows).\n",
        "\n",
        "   > Easier, as it provides classes like `Process`, `Queue`, `Pool`, `Pipe` for communication and task distribution.\n",
        "\n",
        "   > Works on all major platforms (Windows, macOS, Linux).\n",
        "\n",
        "   > Provides built-in support for Queues, Pipes, and shared memory.\n",
        "\n",
        "   > Example :\n",
        "      ```\n",
        "        from multiprocessing import Process\n",
        "\n",
        "        def worker():\n",
        "            print(\"Worker process\")\n",
        "\n",
        "        p = Process(target=worker)\n",
        "        p.start()\n",
        "        p.join()\n",
        "\n",
        "      ```\n",
        "\n"
      ],
      "metadata": {
        "id": "BiouvDhNJ-b6"
      }
    },
    {
      "cell_type": "markdown",
      "source": [
        "#**19. What is the importance of closing a file in Python ?**\n",
        "\n",
        "- Importance of closing a file in python becasue Closing a file is important to save data, release resources, prevent corruption, and follow best practices.\n",
        "\n",
        "- Releases system resources\n",
        "  > When a file is opened, Python allocates system resources (like file handles).\n",
        "\n",
        "  > Closing the file frees these resources.\n",
        "\n",
        "- Saves data properly\n",
        "\n",
        "  > Data written to a file is often stored in a buffer first (not immediately saved).\n",
        "\n",
        "  > Closing the file ensures all buffered data is flushed (saved) to disk.\n",
        "\n",
        "- Prevents file corruption\n",
        "  > If a file remains open and the program crashes, data may be lost or corrupted.\n",
        "\n",
        "- Avoids reaching file limit\n",
        "  > Operating systems limit the number of files that can be open at once.\n",
        "\n",
        "  > Closing files prevents running out of available file handles\n",
        "\n",
        "- Good practice\n",
        "  > Even if Python’s garbage collector may close files automatically, explicitly closing is safer and more predictable.\n",
        "\n",
        "\n",
        "- Example\n",
        "  ```\n",
        "  file = open(\"example.txt\", \"w\")\n",
        "  file.write(\"Hello, world!\")\n",
        "  file.close()  # Ensures data is written and resources are released\n",
        "\n",
        "  ```\n",
        "\n"
      ],
      "metadata": {
        "id": "fSGPnqsVL8Ow"
      }
    },
    {
      "cell_type": "markdown",
      "source": [
        "#**20. What is the difference between `file.read()` and `file.readline()` in Python ?**\n",
        "\n",
        "- **`file.read()`**\n",
        "\n",
        "  > Reads the entire file (or a specified number of bytes/characters) at once.\n",
        "\n",
        "  > Returns the content as a single string.\n",
        "\n",
        "  > Used when you want to process the whole file at once.\n",
        "\n",
        "  > ex :\n",
        "    ```\n",
        "    with open(\"test.txt\", \"r\") as f:\n",
        "        data = f.read()\n",
        "        print(data)   # Whole file content\n",
        "\n",
        "    ```\n",
        "\n",
        "\n",
        "- **`file.readline()`**\n",
        "\n",
        "  > Reads the file one line at a time.\n",
        "\n",
        "  > Each call returns the next line as a string, including the newline (\\n).\n",
        "\n",
        "  > Useful for processing files line by line (especially large files).\n",
        "\n",
        "  > ex :\n",
        "    ```\n",
        "    with open(\"test.txt\", \"r\") as f:\n",
        "        line1 = f.readline()\n",
        "        line2 = f.readline()\n",
        "        print(line1, line2)\n",
        "    ```\n",
        "\n"
      ],
      "metadata": {
        "id": "wtZa0UtdM-uw"
      }
    },
    {
      "cell_type": "markdown",
      "source": [
        "#**21. What is the logging module in Python used for ?**\n",
        "\n",
        "- The logging module in Python is used to:\n",
        "\n",
        "- **Record program events and message**s → Keeps track of what happens during program execution.\n",
        "\n",
        "- **Help with debugging and monitoring** → Makes it easier to find errors and analyze program flow.\n",
        "\n",
        "- **Provide different severity levels** → (DEBUG, INFO, WARNING, ERROR, CRITICAL) to classify messages.\n",
        "\n",
        "- **Save logs persistently** → Logs can be written to console, files, or remote servers.\n",
        "\n",
        "- **Replace print statements** → Unlike print(), logging is more flexible, configurable, and production-ready.\n",
        "\n",
        "- Example :\n",
        "\n",
        "  ```\n",
        "  import logging\n",
        "\n",
        "  logging.basicConfig(level=logging.INFO, filename=\"app.log\")\n",
        "\n",
        "  logging.info(\"Program started\")\n",
        "  logging.warning(\"Low disk space\")\n",
        "  logging.error(\"An error occurred\")\n",
        "\n",
        "  ```\n",
        "\n"
      ],
      "metadata": {
        "id": "k-L6wOFbN_7o"
      }
    },
    {
      "cell_type": "markdown",
      "source": [
        "#**22. What is the `os` module in Python used for in file handling ?**\n",
        "\n",
        "- The `os` module in Python provides functions to interact with the operating system, especially for working with files and directories.\n",
        "\n",
        "- Creating and removing files/directories → `os.mkdir()`, `os.rmdir()`, `os.remove()`.\n",
        "\n",
        "- Changing current working directory → `os.chdir()`.\n",
        "\n",
        "- Getting current working directory → `os.getcwd()`.\n",
        "\n",
        "- Listing files/directories → `os.listdir()`.\n",
        "\n",
        "- Checking file properties → `os.path.exists()`, `os.path.isfile()`, `os.path.isdir()`.\n",
        "\n",
        "- Renaming and moving files → `os.rename()`.\n",
        "\n",
        "\n",
        "- example :\n",
        "  ```\n",
        "  import os\n",
        "\n",
        "  print(\"Current directory:\", os.getcwd())\n",
        "  os.mkdir(\"new_folder\")          # Create a new directory\n",
        "  print(\"Files:\", os.listdir())   # List files and folders\n",
        "  os.rename(\"new_folder\", \"data\") # Rename folder\n",
        "\n",
        "  ```\n",
        "\n",
        "- The os module is used in file handling to create, delete, rename, and navigate files and directories, allowing interaction with the operating system.\n",
        "\n"
      ],
      "metadata": {
        "id": "DOGC3O25OksB"
      }
    },
    {
      "cell_type": "markdown",
      "source": [
        "#**23. What are the challenges associated with memory management in Python ?**\n",
        "\n",
        "- Reference Cycles\n",
        "\n",
        "  > When two or more objects reference each other, their reference count never reaches zero.\n",
        "\n",
        "  > Garbage collector handles this, but it can be slow and sometimes misses cycles.\n",
        "\n",
        "- Memory Leaks\n",
        "\n",
        "  > If objects are kept in memory unnecessarily (e.g., stored in global variables, caches, or unclosed files), they waste memory.\n",
        "\n",
        "- Fragmentation\n",
        "\n",
        "  > Continuous allocation and deallocation of objects may cause memory fragmentation, reducing efficiency.\n",
        "\n",
        "- Large Object Handling\n",
        "\n",
        "  > Handling big datasets (like images, large lists, or NumPy arrays) may consume excessive memory if not optimized.\n",
        "\n",
        "- Garbage Collection Overhead\n",
        "\n",
        "  > The garbage collector pauses execution to free memory, which can slow down performance in some cases.\n",
        "\n",
        "- External Libraries\n",
        "\n",
        "  > Memory leaks may occur if C/C++ extensions (used internally by some Python libraries) don’t manage memory properly.\n",
        "\n",
        "\n",
        "- Example :\n",
        "\n",
        "  ```\n",
        "  class A:\n",
        "      def __init__(self):\n",
        "          self.ref = None\n",
        "\n",
        "  obj1 = A()\n",
        "  obj2 = A()\n",
        "  obj1.ref = obj2\n",
        "  obj2.ref = obj1   # Reference cycle created\n",
        "\n",
        "\n",
        "  # even after deleting obj1 and obj2, memory may not be freed\n",
        "  immediately because they reference each other.\n",
        "\n",
        "  ```"
      ],
      "metadata": {
        "id": "YJ_iOiw8PZ1S"
      }
    },
    {
      "cell_type": "markdown",
      "source": [
        "#**24.  How do you raise an exception manually in Python ?**\n",
        "\n",
        "- We can raise exceptions manually using the `raise` keyword.\n",
        "\n",
        "-\n",
        "  ```\n",
        "  raise ExceptionType(\"Error message\")\n",
        "\n",
        "  ```\n",
        "\n",
        "\n",
        "-\n",
        "  ```\n",
        "\n",
        "  #   This will stop execution and raise a ValueError\n",
        "\n",
        "  x = -5\n",
        "  if x < 0:\n",
        "      raise ValueError(\"Negative value not allowed\")\n",
        "\n",
        "  ```\n",
        "\n",
        "- ExceptionType - built-in or user-defined exception (e.g., ValueError, TypeError)\n",
        "\n",
        "- \"Custom error message\" - explains the reason for raising the exception.\n",
        "\n",
        "\n",
        "\n",
        "\n"
      ],
      "metadata": {
        "id": "OD-L9RmHQZna"
      }
    },
    {
      "cell_type": "markdown",
      "source": [
        "#**25.  Why is it important to use multithreading in certain applications ?**\n",
        "\n",
        "- Multithreading is important because it allows programs to perform multiple tasks concurrently, improve responsiveness, and efficiently utilize CPU resources, especially in I/O-bound applications like servers, GUIs, and real-time systems.\n",
        "\n",
        "- Improves performance – Multiple tasks can run “concurrently” without waiting for one another.\n",
        "\n",
        "- Better resource utilization – CPU time is efficiently used while waiting for I/O (like file read, API call, or user input).\n",
        "\n",
        "- Faster responsiveness – Useful in applications like GUIs or web servers where the program should remain responsive.\n",
        "\n",
        "- Parallelism in tasks – Tasks like downloading files, processing data, or handling multiple clients can run in parallel.\n",
        "\n",
        "- Scalability – Helps applications handle more workload without blocking."
      ],
      "metadata": {
        "id": "_T2TWHxuRTdx"
      }
    },
    {
      "cell_type": "markdown",
      "source": [
        "#Practical Questions"
      ],
      "metadata": {
        "id": "_5mmUlHUihf4"
      }
    },
    {
      "cell_type": "markdown",
      "source": [
        "#**1.  How can you open a file for writing in Python and write a string to it ?**\n",
        "\n",
        "- Use Python’s built-in open()\n",
        "\n",
        "- function with mode \"w\" (write).\n",
        "\n",
        "- \"w\" mode creates a new file or overwrites the existing file.\n",
        "\n",
        "- Use write() method to write string data.\n",
        "\n",
        "- Always close the file using close() OR use the with statement for automatic closing.\n",
        "\n"
      ],
      "metadata": {
        "id": "rgoAWPfVjnAH"
      }
    },
    {
      "cell_type": "code",
      "source": [
        "\n",
        "# Writing a string to a file\n",
        "with open(\"example.txt\", \"w\") as file:\n",
        "    file.write(\"Hello, this is my first file write operation in Python!\")\n",
        "print(\"String written successfully to example.txt\")"
      ],
      "metadata": {
        "colab": {
          "base_uri": "https://localhost:8080/"
        },
        "id": "ft34RvSUoRbv",
        "outputId": "1283fbcb-5666-4d4e-c817-5c3b0f52d62c"
      },
      "execution_count": null,
      "outputs": [
        {
          "output_type": "stream",
          "name": "stdout",
          "text": [
            "String written successfully to example.txt\n"
          ]
        }
      ]
    },
    {
      "cell_type": "markdown",
      "source": [
        "#**2.  Write a Python program to read the contents of a file and print each line ?**\n",
        "\n"
      ],
      "metadata": {
        "id": "PfndQBJPoVX-"
      }
    },
    {
      "cell_type": "code",
      "source": [
        "# Open the file in read mode\n",
        "with open(\"example.txt\", \"r\") as file:\n",
        "    for line in file:\n",
        "        print(line.strip()) # strip() removes extra newline characters"
      ],
      "metadata": {
        "colab": {
          "base_uri": "https://localhost:8080/"
        },
        "id": "gA5q5VYeoR9H",
        "outputId": "4e190f1b-cca7-4cef-e422-ed6973e435da"
      },
      "execution_count": null,
      "outputs": [
        {
          "output_type": "stream",
          "name": "stdout",
          "text": [
            "Hello, this is my first file write operation in Python!\n"
          ]
        }
      ]
    },
    {
      "cell_type": "markdown",
      "source": [
        "#**3.  How would you handle a case where the file doesn't exist while trying to open it for reading ?**\n"
      ],
      "metadata": {
        "id": "W5gOI40ApeG3"
      }
    },
    {
      "cell_type": "code",
      "source": [
        "\n",
        "try:\n",
        "    with open(\"non_existing_file.txt\", \"r\") as file:\n",
        "        print(file.read())\n",
        "except FileNotFoundError:\n",
        "    print(\"Error: The file does not exist.\")"
      ],
      "metadata": {
        "colab": {
          "base_uri": "https://localhost:8080/"
        },
        "id": "oITtsssnozt7",
        "outputId": "816de40f-979b-48c6-88c0-f47a8a0ffc50"
      },
      "execution_count": null,
      "outputs": [
        {
          "output_type": "stream",
          "name": "stdout",
          "text": [
            "Error: The file does not exist.\n"
          ]
        }
      ]
    },
    {
      "cell_type": "markdown",
      "source": [
        "#**4.  Write a Python script that reads from one file and writes its content to another file ?**"
      ],
      "metadata": {
        "id": "5hzVx1b1qDFP"
      }
    },
    {
      "cell_type": "code",
      "source": [
        "\n",
        "# Open the source file in read mode\n",
        "with open(\"example.txt\", \"r\") as source_file:\n",
        "    content = source_file.read()\n",
        "# Open the destination file in write mode\n",
        "with open(\"copy_example.txt\", \"w\") as dest_file:\n",
        "    dest_file.write(content)\n",
        "print(\"Content copied from example.txt to copy_example.txt\")"
      ],
      "metadata": {
        "colab": {
          "base_uri": "https://localhost:8080/"
        },
        "id": "x0mL4RJ6poLv",
        "outputId": "b75d3c63-f358-4537-8941-8a5164f27351"
      },
      "execution_count": null,
      "outputs": [
        {
          "output_type": "stream",
          "name": "stdout",
          "text": [
            "Content copied from example.txt to copy_example.txt\n"
          ]
        }
      ]
    },
    {
      "cell_type": "markdown",
      "source": [
        "#**5.  How would you catch and handle division by zero error in Python ?**"
      ],
      "metadata": {
        "id": "_ea7f5StrWp-"
      }
    },
    {
      "cell_type": "code",
      "source": [
        "\n",
        "try:\n",
        "    numerator = 10\n",
        "    denominator = 0\n",
        "    result = numerator / denominator\n",
        "    print(\"Result:\", result)\n",
        "except ZeroDivisionError:\n",
        "    print(\"Error: Division by zero is not allowed.\")"
      ],
      "metadata": {
        "colab": {
          "base_uri": "https://localhost:8080/"
        },
        "id": "dEfpDu4dq-QY",
        "outputId": "99b785b6-cea1-44c5-e5ab-f337bc457a0c"
      },
      "execution_count": null,
      "outputs": [
        {
          "output_type": "stream",
          "name": "stdout",
          "text": [
            "Error: Division by zero is not allowed.\n"
          ]
        }
      ]
    },
    {
      "cell_type": "markdown",
      "source": [
        "#**6.  Write a Python program that logs an error message to a log file when a division by zero exception occurs ?**"
      ],
      "metadata": {
        "id": "wLQTNEYEsHQ3"
      }
    },
    {
      "cell_type": "code",
      "source": [
        "import logging\n",
        "\n",
        "# Configure logging to write messages to a file\n",
        "logging.basicConfig(filename=\"error.log\", level=logging.ERROR,\n",
        "                    format=\"%(asctime)s - %(levelname)s - %(message)s\")\n",
        "\n",
        "try:\n",
        "    a = 10\n",
        "    b = 0\n",
        "    result = a / b\n",
        "except ZeroDivisionError as e:\n",
        "    logging.error(\"Division by zero error occurred: %s\", e)\n",
        "    print(\"An error occurred. Check error.log file for details.\")"
      ],
      "metadata": {
        "colab": {
          "base_uri": "https://localhost:8080/"
        },
        "id": "kTqdiR8proHp",
        "outputId": "141c66b0-907d-4dec-81c1-ceb9a1f8612a"
      },
      "execution_count": null,
      "outputs": [
        {
          "output_type": "stream",
          "name": "stderr",
          "text": [
            "ERROR:root:Division by zero error occurred: division by zero\n"
          ]
        },
        {
          "output_type": "stream",
          "name": "stdout",
          "text": [
            "An error occurred. Check error.log file for details.\n"
          ]
        }
      ]
    },
    {
      "cell_type": "markdown",
      "source": [
        "#**7.   How do you log information at different levels (INFO, ERROR, WARNING) in Python using the logging module ?**"
      ],
      "metadata": {
        "id": "pRQJIIXcsnOm"
      }
    },
    {
      "cell_type": "code",
      "source": [
        "import logging\n",
        "\n",
        "# Configure logging\n",
        "logging.basicConfig(filename=\"app.log\", level=logging.DEBUG,\n",
        "                    format=\"%(asctime)s - %(levelname)s - %(message)s\")\n",
        "\n",
        "# Logging at different levels\n",
        "logging.debug(\"This is a debug message\")\n",
        "logging.info(\"This is an info message\")\n",
        "logging.warning(\"This is a warning message\")\n",
        "logging.error(\"This is an error message\")\n",
        "logging.critical(\"This is a critical message\")\n",
        "\n",
        "print(\"Logs have been written to app.log\")"
      ],
      "metadata": {
        "colab": {
          "base_uri": "https://localhost:8080/"
        },
        "id": "7W7DK4YusXt5",
        "outputId": "7abf2622-97ff-41f7-bfdb-1822a152ac64"
      },
      "execution_count": null,
      "outputs": [
        {
          "output_type": "stream",
          "name": "stderr",
          "text": [
            "WARNING:root:This is a warning message\n",
            "ERROR:root:This is an error message\n",
            "CRITICAL:root:This is a critical message\n"
          ]
        },
        {
          "output_type": "stream",
          "name": "stdout",
          "text": [
            "Logs have been written to app.log\n"
          ]
        }
      ]
    },
    {
      "cell_type": "markdown",
      "source": [
        "#**8.  Write a program to handle a file opening error using exception handling ?**"
      ],
      "metadata": {
        "id": "6ntMFb8MuIJZ"
      }
    },
    {
      "cell_type": "code",
      "source": [
        "\n",
        "try:\n",
        "    # Attempt to open a file that may not exist\n",
        "    file = open(\"non_existing_file.txt\", \"r\")\n",
        "    content = file.read()\n",
        "    print(content)\n",
        "    file.close()\n",
        "except FileNotFoundError:\n",
        "    print(\"Error: The file could not be opened because it does not exist.\")"
      ],
      "metadata": {
        "colab": {
          "base_uri": "https://localhost:8080/"
        },
        "id": "b17Uz0e7uC5P",
        "outputId": "251f9e74-4b21-4c82-de25-e14140d03a4d"
      },
      "execution_count": null,
      "outputs": [
        {
          "output_type": "stream",
          "name": "stdout",
          "text": [
            "Error: The file could not be opened because it does not exist.\n"
          ]
        }
      ]
    },
    {
      "cell_type": "markdown",
      "source": [
        "#**9.  How can you read a file line by line and store its content in a list in Python ?**"
      ],
      "metadata": {
        "id": "M7dxgVd-uvvm"
      }
    },
    {
      "cell_type": "code",
      "source": [
        "\n",
        "# Open the file in read mode\n",
        "with open(\"example.txt\", \"r\") as file:\n",
        "    lines = file.readlines() # reads all lines into a list\n",
        "# Print the list\n",
        "print(lines)"
      ],
      "metadata": {
        "colab": {
          "base_uri": "https://localhost:8080/"
        },
        "id": "vcVZ-RrcuTZb",
        "outputId": "3edfe22e-25e3-4903-8512-9f1b37bbf153"
      },
      "execution_count": null,
      "outputs": [
        {
          "output_type": "stream",
          "name": "stdout",
          "text": [
            "['Hello, this is my first file write operation in Python!']\n"
          ]
        }
      ]
    },
    {
      "cell_type": "markdown",
      "source": [
        "#**10.  How can you append data to an existing file in Python ?**"
      ],
      "metadata": {
        "id": "qHLYjFYvvC4C"
      }
    },
    {
      "cell_type": "code",
      "source": [
        "try:\n",
        "    # Open file in append mode\n",
        "    with open(\"sample.txt\", \"a\") as f:\n",
        "        f.write(\"\\nThis is new data appended to the file.\")\n",
        "\n",
        "    print(\"Data appended successfully!\")\n",
        "\n",
        "except Exception as e:\n",
        "    print(\"Error:\", e)"
      ],
      "metadata": {
        "colab": {
          "base_uri": "https://localhost:8080/"
        },
        "id": "0Fv1uNy1u_ji",
        "outputId": "bf6335d2-9ee3-4f14-9f4f-e9290e108a59"
      },
      "execution_count": null,
      "outputs": [
        {
          "output_type": "stream",
          "name": "stdout",
          "text": [
            "Data appended successfully!\n"
          ]
        }
      ]
    },
    {
      "cell_type": "markdown",
      "source": [
        "#**11.   Write a Python program that uses a try-except block to handle an error when attempting to access a dictionary key that doesn't exist ?**"
      ],
      "metadata": {
        "id": "ItKir2SKxMQP"
      }
    },
    {
      "cell_type": "code",
      "source": [
        "my_dict = {\"name\": \"Ritesh\", \"age\": 21}\n",
        "try:\n",
        "    # Attempt to access a key that doesn't exist\n",
        "    print(my_dict[\"city\"])\n",
        "except KeyError:\n",
        "    print(\"Error: The key does not exist in the dictionary.\")"
      ],
      "metadata": {
        "colab": {
          "base_uri": "https://localhost:8080/"
        },
        "id": "CpJeXdk7wY5N",
        "outputId": "00dd2ccf-7a47-437c-a8f4-cb680ddc0ca2"
      },
      "execution_count": null,
      "outputs": [
        {
          "output_type": "stream",
          "name": "stdout",
          "text": [
            "Error: The key does not exist in the dictionary.\n"
          ]
        }
      ]
    },
    {
      "cell_type": "markdown",
      "source": [
        "#**12.    Write a program that demonstrates using multiple except blocks to handle different types of exceptions ?**"
      ],
      "metadata": {
        "id": "MlGYZOeGzk6B"
      }
    },
    {
      "cell_type": "code",
      "source": [
        "try:\n",
        "    num1 = int(input(\"Enter first number: \"))\n",
        "    num2 = int(input(\"Enter second number: \"))\n",
        "\n",
        "    result = num1 / num2\n",
        "    print(\"Result:\", result)\n",
        "\n",
        "    my_list = [1, 2, 3]\n",
        "    print(\"Fourth element:\", my_list[3])  # This will raise IndexError\n",
        "\n",
        "except ZeroDivisionError:\n",
        "    print(\"Error: Division by zero is not allowed.\")\n",
        "\n",
        "except ValueError:\n",
        "    print(\"Error: Invalid input, please enter numbers only.\")\n",
        "\n",
        "except IndexError:\n",
        "    print(\"Error: List index out of range.\")\n",
        "\n",
        "except Exception as e:\n",
        "    print(\"Some other error occurred:\", e)\n",
        "\n",
        "finally:\n",
        "    print(\"Program execution completed.\")\n"
      ],
      "metadata": {
        "colab": {
          "base_uri": "https://localhost:8080/"
        },
        "id": "aY-f4S3ize5A",
        "outputId": "86192c92-bf0d-4791-e6c6-efd1ebe44248"
      },
      "execution_count": null,
      "outputs": [
        {
          "output_type": "stream",
          "name": "stdout",
          "text": [
            "Enter first number: 12\n",
            "Enter second number: 12\n",
            "Result: 1.0\n",
            "Error: List index out of range.\n",
            "Program execution completed.\n"
          ]
        }
      ]
    },
    {
      "cell_type": "markdown",
      "source": [
        "#**13.   How would you check if a file exists before attempting to read it in Python ?**"
      ],
      "metadata": {
        "id": "3IenseDn1Pdv"
      }
    },
    {
      "cell_type": "code",
      "source": [
        "import os\n",
        "\n",
        "file_name = \"example.txt\"\n",
        "\n",
        "# First create the file for testing\n",
        "with open(file_name, \"w\") as f:\n",
        "    f.write(\"Hello, this is my first file write operation in Python!\\n\")\n",
        "    f.write(\"This line is appended to the file.\")\n",
        "\n",
        "# Now check and read\n",
        "if os.path.exists(file_name):\n",
        "    with open(file_name, \"r\") as file:\n",
        "        content = file.read()\n",
        "        print(\"File content:\")\n",
        "        print(content)\n",
        "else:\n",
        "    print(\"Error: The file does not exist.\")"
      ],
      "metadata": {
        "id": "gM2ck5PA0Ykv",
        "colab": {
          "base_uri": "https://localhost:8080/",
          "height": 0
        },
        "outputId": "b245462a-d0bc-45d9-bfbb-128c90fdcbf0"
      },
      "execution_count": 7,
      "outputs": [
        {
          "output_type": "stream",
          "name": "stdout",
          "text": [
            "File content:\n",
            "Hello, this is my first file write operation in Python!\n",
            "This line is appended to the file.\n"
          ]
        }
      ]
    },
    {
      "cell_type": "markdown",
      "source": [
        "#**14.  Write a program that uses the logging module to log both informational and error messages ?**"
      ],
      "metadata": {
        "id": "CJ9UDXqtWZto"
      }
    },
    {
      "cell_type": "code",
      "source": [
        "\n",
        "import logging\n",
        "# Configure logging to write to a file\n",
        "logging.basicConfig(filename=\"app_log.txt\", level=logging.DEBUG,\n",
        "format='%(asctime)s - %(levelname)s - %(message)s')\n",
        "# Log informational message\n",
        "logging.info(\"This is an informational message.\")\n",
        "# Log error message\n",
        "logging.error(\"This is an error message.\")\n",
        "print(\"Informational and error messages have been logged to app_log.txt\")\n"
      ],
      "metadata": {
        "colab": {
          "base_uri": "https://localhost:8080/",
          "height": 0
        },
        "id": "_cYREU9LQ9SQ",
        "outputId": "a9cbb5b6-8f0d-43c2-c23e-aec78395b830"
      },
      "execution_count": 9,
      "outputs": [
        {
          "output_type": "stream",
          "name": "stderr",
          "text": [
            "ERROR:root:This is an error message.\n"
          ]
        },
        {
          "output_type": "stream",
          "name": "stdout",
          "text": [
            "Informational and error messages have been logged to app_log.txt\n"
          ]
        }
      ]
    },
    {
      "cell_type": "markdown",
      "source": [
        "#**15. Write a Python program that prints the content of a file and handles the case when the file is empty ?**"
      ],
      "metadata": {
        "id": "S9lXSpSxXKt0"
      }
    },
    {
      "cell_type": "code",
      "source": [
        "\n",
        "file_name = \"example.txt\"\n",
        "try:\n",
        "    with open(file_name, \"r\") as file:\n",
        "        content = file.read()\n",
        "        if content: # Check if file is not empty\n",
        "            print(\"File content:\")\n",
        "            print(content)\n",
        "        else:\n",
        "            print(\"The file is empty.\")\n",
        "except FileNotFoundError:\n",
        "    print(\"Error: The file does not exist.\")"
      ],
      "metadata": {
        "colab": {
          "base_uri": "https://localhost:8080/",
          "height": 0
        },
        "id": "iMig53k5XA4B",
        "outputId": "9a437936-f526-4f70-9441-6278d617632f"
      },
      "execution_count": 10,
      "outputs": [
        {
          "output_type": "stream",
          "name": "stdout",
          "text": [
            "File content:\n",
            "Hello, this is my first file write operation in Python!\n",
            "This line is appended to the file.\n"
          ]
        }
      ]
    },
    {
      "cell_type": "markdown",
      "source": [
        "#**16.  Demonstrate how to use memory profiling to check the memory usage of a small program ?**"
      ],
      "metadata": {
        "id": "jZIbcp4mXaLM"
      }
    },
    {
      "cell_type": "code",
      "source": [
        "# Step 1: Install memory-profiler (only need to run once)\n",
        "get_ipython().system('pip install memory-profiler')\n",
        "# Step 2: Import the module\n",
        "from memory_profiler import memory_usage\n",
        "# Step 3: Define a small function\n",
        "def create_list():\n",
        "    my_list = [i for i in range(100000)] # creates a list of 100,000 numbers\n",
        "    return my_list\n",
        "# Step 4: Measure memory usage\n",
        "mem_usage = memory_usage(create_list)\n",
        "print(\"Memory usage (in MB) during execution:\", mem_usage)"
      ],
      "metadata": {
        "colab": {
          "base_uri": "https://localhost:8080/",
          "height": 0
        },
        "id": "4WkOvtjWXXlP",
        "outputId": "b2058772-4501-4be2-8b0e-a2620ea9d929"
      },
      "execution_count": 11,
      "outputs": [
        {
          "output_type": "stream",
          "name": "stdout",
          "text": [
            "Collecting memory-profiler\n",
            "  Downloading memory_profiler-0.61.0-py3-none-any.whl.metadata (20 kB)\n",
            "Requirement already satisfied: psutil in /usr/local/lib/python3.12/dist-packages (from memory-profiler) (5.9.5)\n",
            "Downloading memory_profiler-0.61.0-py3-none-any.whl (31 kB)\n",
            "Installing collected packages: memory-profiler\n",
            "Successfully installed memory-profiler-0.61.0\n",
            "Memory usage (in MB) during execution: [107.36328125, 107.4921875, 107.671875, 107.671875, 107.671875, 107.671875, 107.671875, 107.671875, 107.671875, 107.671875, 107.671875]\n"
          ]
        }
      ]
    },
    {
      "cell_type": "markdown",
      "source": [
        "#**17.  Write a Python program to create and write a list of numbers to a file, one number per line ?**"
      ],
      "metadata": {
        "id": "Lz1B-7ADX0sc"
      }
    },
    {
      "cell_type": "code",
      "source": [
        "numbers = [10, 20, 30, 40, 50]\n",
        "# Open file in write mode\n",
        "with open(\"numbers.txt\", \"w\") as file:\n",
        "    for num in numbers:\n",
        "        file.write(str(num) + \"\\n\") # Convert number to string and add newline\n",
        "print(\"Numbers written to numbers.txt successfully\")"
      ],
      "metadata": {
        "colab": {
          "base_uri": "https://localhost:8080/",
          "height": 0
        },
        "id": "KuA_g-uQXk73",
        "outputId": "adcec08d-fdc9-4cea-f142-f885181305fc"
      },
      "execution_count": 12,
      "outputs": [
        {
          "output_type": "stream",
          "name": "stdout",
          "text": [
            "Numbers written to numbers.txt successfully\n"
          ]
        }
      ]
    },
    {
      "cell_type": "markdown",
      "source": [
        "#**18.  How would you implement a basic logging setup that logs to a file with rotation after 1MB ?**"
      ],
      "metadata": {
        "id": "bV_vHiOAX-PQ"
      }
    },
    {
      "cell_type": "code",
      "source": [
        "\n",
        "import logging\n",
        "from logging.handlers import RotatingFileHandler\n",
        "# Create a rotating file handler\n",
        "handler = RotatingFileHandler(\"rotating_log.txt\", maxBytes=1_000_000, backupCount=3)\n",
        "formatter = logging.Formatter('%(asctime)s - %(levelname)s - %(message)s')\n",
        "handler.setFormatter(formatter)\n",
        "# Configure logger\n",
        "logger = logging.getLogger()\n",
        "logger.setLevel(logging.DEBUG)\n",
        "logger.addHandler(handler)\n",
        "# Log messages\n",
        "logger.info(\"This is an INFO message.\")\n",
        "logger.warning(\"This is a WARNING message.\")\n",
        "logger.error(\"This is an ERROR message.\")\n",
        "print(\"Logging setup with rotation complete. Check rotating_log.txt\")"
      ],
      "metadata": {
        "colab": {
          "base_uri": "https://localhost:8080/",
          "height": 0
        },
        "id": "eFQ2Q1nEX8sD",
        "outputId": "662892d1-f76e-40a9-e5da-e42e4585e8be"
      },
      "execution_count": 13,
      "outputs": [
        {
          "output_type": "stream",
          "name": "stderr",
          "text": [
            "INFO:root:This is an INFO message.\n",
            "WARNING:root:This is a WARNING message.\n",
            "ERROR:root:This is an ERROR message.\n"
          ]
        },
        {
          "output_type": "stream",
          "name": "stdout",
          "text": [
            "Logging setup with rotation complete. Check rotating_log.txt\n"
          ]
        }
      ]
    },
    {
      "cell_type": "markdown",
      "source": [
        "#**19. Write a program that handles both IndexError and KeyError using a try-except block ?**"
      ],
      "metadata": {
        "id": "XQ_gSDhTYeIM"
      }
    },
    {
      "cell_type": "code",
      "source": [
        "my_list = [10, 20, 30]\n",
        "my_dict = {\"name\": \"Ritesh\", \"age\": 21}\n",
        "try:\n",
        "    # Accessing an index that may not exist\n",
        "    print(my_list[5])\n",
        "    # Accessing a key that may not exist\n",
        "    print(my_dict[\"city\"])\n",
        "except IndexError:\n",
        "    print(\"Error: The list index does not exist.\")\n",
        "except KeyError:\n",
        "    print(\"Error: The dictionary key does not exist.\")"
      ],
      "metadata": {
        "colab": {
          "base_uri": "https://localhost:8080/",
          "height": 0
        },
        "id": "olYKmlI5YbO_",
        "outputId": "f4e79cf0-ace9-402d-8f4a-ca042d525348"
      },
      "execution_count": 14,
      "outputs": [
        {
          "output_type": "stream",
          "name": "stdout",
          "text": [
            "Error: The list index does not exist.\n"
          ]
        }
      ]
    },
    {
      "cell_type": "markdown",
      "source": [
        "#**20.  How would you open a file and read its contents using a context manager in Python ?**"
      ],
      "metadata": {
        "id": "eSYURA-RYuhe"
      }
    },
    {
      "cell_type": "code",
      "source": [
        "\n",
        "# Using 'with' ensures the file is automatically closed\n",
        "with open(\"example.txt\", \"r\") as file:\n",
        "    content = file.read()\n",
        "    print(\"File content:\")\n",
        "    print(content)\n",
        ""
      ],
      "metadata": {
        "colab": {
          "base_uri": "https://localhost:8080/",
          "height": 0
        },
        "id": "y8N2HMl5YrFE",
        "outputId": "993de4ea-024e-48e2-d307-107e45c4256c"
      },
      "execution_count": 15,
      "outputs": [
        {
          "output_type": "stream",
          "name": "stdout",
          "text": [
            "File content:\n",
            "Hello, this is my first file write operation in Python!\n",
            "This line is appended to the file.\n"
          ]
        }
      ]
    },
    {
      "cell_type": "markdown",
      "source": [
        "#**21.  Write a Python program that reads a file and prints the number of occurrences of a specific word ?**"
      ],
      "metadata": {
        "id": "S8iJXyklY_ak"
      }
    },
    {
      "cell_type": "code",
      "source": [
        "word_to_count = \"Python\" # Word to search for\n",
        "with open(\"example.txt\", \"r\") as file:\n",
        "    content = file.read()\n",
        "# Convert content to lowercase for case-insensitive counting\n",
        "count = content.lower().count(word_to_count.lower())\n",
        "print(f\"The word '{word_to_count}' occurs {count} times in the file.\")"
      ],
      "metadata": {
        "colab": {
          "base_uri": "https://localhost:8080/",
          "height": 0
        },
        "id": "xBMNSq_QY8Kn",
        "outputId": "72586108-70c7-40c3-ef6b-81ea677e9412"
      },
      "execution_count": 18,
      "outputs": [
        {
          "output_type": "stream",
          "name": "stdout",
          "text": [
            "The word 'Python' occurs 1 times in the file.\n"
          ]
        }
      ]
    },
    {
      "cell_type": "markdown",
      "source": [
        "#**22. How can you check if a file is empty before attempting to read its contents ?**"
      ],
      "metadata": {
        "id": "dLXPNNxWZRzE"
      }
    },
    {
      "cell_type": "code",
      "source": [
        "file_name = \"example.txt\"\n",
        "try:\n",
        "    with open(file_name, \"r\") as file:\n",
        "        content = file.read()\n",
        "        if content: # Check if file has content\n",
        "            print(\"File content:\")\n",
        "            print(content)\n",
        "        else:\n",
        "            print(\"The file is empty.\")\n",
        "except FileNotFoundError:\n",
        "    print(\"Error: The file does not exist.\")\n",
        ""
      ],
      "metadata": {
        "colab": {
          "base_uri": "https://localhost:8080/",
          "height": 0
        },
        "id": "a8dZeWzsZG9b",
        "outputId": "21d10618-38ce-4bca-eac5-64488d5acef0"
      },
      "execution_count": 19,
      "outputs": [
        {
          "output_type": "stream",
          "name": "stdout",
          "text": [
            "File content:\n",
            "Hello, this is my first file write operation in Python!\n",
            "This line is appended to the file.\n"
          ]
        }
      ]
    },
    {
      "cell_type": "markdown",
      "source": [
        "#**23. Write a Python program that writes to a log file when an error occurs during file handling. ?**"
      ],
      "metadata": {
        "id": "3tiP72w3ZgR1"
      }
    },
    {
      "cell_type": "code",
      "source": [
        "\n",
        "import logging\n",
        "# Configure logging to write to a file\n",
        "logging.basicConfig(filename=\"file_error_log.txt\", level=logging.ERROR,\n",
        "format='%(asctime)s - %(levelname)s - %(message)s')\n",
        "file_name = \"non_existing_file.txt\"\n",
        "try:\n",
        "    with open(file_name, \"r\") as file:\n",
        "        content = file.read()\n",
        "except FileNotFoundError as e:\n",
        "    logging.error(f\"Error occurred: {e}\")\n",
        "    print(\"Error logged to file_error_log.txt\")"
      ],
      "metadata": {
        "colab": {
          "base_uri": "https://localhost:8080/",
          "height": 0
        },
        "id": "L8P377F8ZfDP",
        "outputId": "bca1c34b-3951-41e2-c81b-51c5e4dcca52"
      },
      "execution_count": 20,
      "outputs": [
        {
          "output_type": "stream",
          "name": "stderr",
          "text": [
            "ERROR:root:Error occurred: [Errno 2] No such file or directory: 'non_existing_file.txt'\n"
          ]
        },
        {
          "output_type": "stream",
          "name": "stdout",
          "text": [
            "Error logged to file_error_log.txt\n"
          ]
        }
      ]
    },
    {
      "cell_type": "code",
      "source": [],
      "metadata": {
        "id": "BSXo8DecZmw7"
      },
      "execution_count": null,
      "outputs": []
    }
  ]
}