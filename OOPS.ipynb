{
  "nbformat": 4,
  "nbformat_minor": 0,
  "metadata": {
    "colab": {
      "provenance": []
    },
    "kernelspec": {
      "name": "python3",
      "display_name": "Python 3"
    },
    "language_info": {
      "name": "python"
    }
  },
  "cells": [
    {
      "cell_type": "markdown",
      "source": [
        "#Python OOPs Questions\n"
      ],
      "metadata": {
        "id": "cC931avxxWI_"
      }
    },
    {
      "cell_type": "markdown",
      "source": [
        "# **1. What is Object-Oriented Programming (OOP)?**\n",
        "\n",
        "- Object-Oriented Programming (OOP) is a programming paradigm that organizes code into objects containing data (attributes) and behavior (methods). It focuses on real-world modeling using concepts like encapsulation, inheritance, polymorphism, and abstraction to make code reusable, modular, and easier to maintain."
      ],
      "metadata": {
        "id": "8jyIkUHIUbhS"
      }
    },
    {
      "cell_type": "markdown",
      "source": [
        "#**2. What is a class in OOP ?**\n",
        "\n",
        "- A class in OOP is a template for creating objcets, it defined the properties (attribites) and behaviours (methods) that the objects created for it will have\n",
        "\n",
        "- A class is not an object, but a defination of what object look like\n",
        "- Objects are instance of class\n",
        "- It helps in encapsulation, reuse and organization of the code  \n",
        "\n",
        "  ```\n",
        "    class Car:\n",
        "    def __init__(self, brand, color):                # Attributes\n",
        "        self.brand = brand\n",
        "        self.color = color\n",
        "\n",
        "                                                      # Method\n",
        "    def drive(self):\n",
        "        print(f\"{self.brand} car is driving.\")\n",
        "\n",
        "\n",
        "\n",
        "                                                 # Creating an object (instance)\n",
        "\n",
        "\n",
        "  my_car = Car(\"Toyota\", \"Red\")\n",
        "  my_car.drive()\n",
        "                                                   #Toyota car is driving.\n",
        "\n",
        "\n",
        "   ```"
      ],
      "metadata": {
        "id": "V1HOUaP30zZ5"
      }
    },
    {
      "cell_type": "markdown",
      "source": [
        "#**3. What is an object in OOP ?**\n",
        "\n",
        "- An object in OOP is an instance of a class, if a class is a blueprint then object is the actual entity  created based on that blueprint\n",
        "\n",
        "- **Identity** : Each object has an unique identity that is memory location\n",
        "\n",
        "- **Stats** (attributes) : Stores data and properties\n",
        "\n",
        "- **Behavior** (Methdos) : Define what the object can do\n",
        "\n",
        "\n",
        "- **In simple terms:**\n",
        "\n",
        "- A class is the design.\n",
        "\n",
        "- An object is the actual thing built from the design.\n",
        "\n",
        "\n",
        "\n",
        "\n",
        "  ```\n",
        "  class Car:\n",
        "      def __init__(self, brand, model):\n",
        "          self.brand = brand\n",
        "          self.model = model\n",
        "\n",
        "      def display(self):\n",
        "          print(f\"Car: {self.brand} {self.model}\")\n",
        "\n",
        "  # Creating objects\n",
        "  car1 = Car(\"Tesla\", \"Model X\")   # object 1\n",
        "  car2 = Car(\"BMW\", \"i8\")          # object 2\n",
        "\n",
        "  car1.display()\n",
        "  car2.display()\n",
        "  ```\n",
        "\n"
      ],
      "metadata": {
        "id": "y-T7Fcnh5CdU"
      }
    },
    {
      "cell_type": "markdown",
      "source": [
        "#**4. What is the difference between abstraction and encapsulation ?**\n",
        "\n",
        "- **Abstraction** : It is known for hiding implementation detials and showing essential details, Purpose of abstraction is focusing on what an object does.\n",
        "ABstraction is generally achieved by Abstract classes and interfaces ( In python  using abstract base classes )\n",
        "The goal of abstraction is to hide the implementation complexity\n",
        "\n",
        "- Abstraction Example\n",
        "\n",
        "  You drive a car without knowing the internal details of the engine.\n",
        "\n",
        "  You only know methods like start() or stop().\n",
        "\n",
        "  How the engine works is hidden → That’s abstraction.\n",
        "\n",
        "\n",
        "- **Encapsulation** :  Wrapping data and methods together into a single unit (class) and controlling access, it focuses on how the data and operations are bundled and protected.\n",
        "It is achieved by access modifiers (private,public and protected) and classes.\n",
        "The goal of encapsulation is hides data from outside interference and ensures security.\n",
        "\n",
        "- Encapsulation Example\n",
        "\n",
        "  The engine, fuel system, and transmission are all wrapped inside the car class.\n",
        "\n",
        "  Data like speed or fuel level is hidden from direct modification (e.g., private attributes).\n",
        "\n",
        "  Access is given through getter/setter methods → That’s encapsulation."
      ],
      "metadata": {
        "id": "4bDRxkLU3BqI"
      }
    },
    {
      "cell_type": "markdown",
      "source": [
        "#**5. What are dunder methods in Python ?**\n",
        "\n",
        "- Dunder methods in python are start and end with double underscore, they are pre - defined by pythonto allow you to define how objects of your classes behave with buit in operation, Dunder is also called magic methods or special methods\n",
        "\n",
        "- \"Dunder\" = Double UNDERscore (e.g., __init__, __str__).\n",
        "\n",
        "- They give special meaning to certain operations.\n",
        "\n",
        "- example -\n",
        "  `__init__`\n",
        "  `__str__`\n",
        "  `__repr__`\n",
        "  `__len__`\n",
        "  `__add__`\n",
        "  `__eq__`\n",
        "\n",
        "\n",
        "- They are automatically called by Python in certain situations.\n",
        "\n",
        "- Help in operator overloading and customizing object behavior."
      ],
      "metadata": {
        "id": "QoS8EH7OvpRp"
      }
    },
    {
      "cell_type": "markdown",
      "source": [
        "#**6. Explain the concept of inheritance in OOP ?**\n",
        "\n",
        "- Inheritance in OOP is the concept where one class (called the child class or subclass )  can acquire the properties and methods of another class (called the present class or superclass)\n",
        "\n",
        "- it helps in code modularity and reuse of code and also maintaine hierarchical relation between classes\n",
        "\n",
        "- The child class inherits attributes and methods of the parent class.\n",
        "\n",
        "- You can add new methods or override existing ones in the child class.\n",
        "\n",
        "- Supports polymorphism (same method name but different behavior).\n",
        "\n",
        "- Common in real-world modeling: e.g., Car inherits from Vehicle.\n",
        "\n",
        "- Types of Inheritance\n",
        "\n",
        "  > Single Inheritance → One child, one parent.\n",
        "\n",
        "  > Multiple Inheritance → One child, multiple parents.\n",
        "\n",
        "  > Multilevel Inheritance → Child inherits from a parent, which is itself a child.\n",
        "\n",
        "  > Hierarchical Inheritance → Multiple children inherit from the same parent.\n",
        "\n",
        "  > Hybrid Inheritance → Combination of above.\n"
      ],
      "metadata": {
        "id": "8iYAb_MR0IVD"
      }
    },
    {
      "cell_type": "markdown",
      "source": [
        "#**7. What is polymorphism in OOP ?**\n",
        "\n",
        "- Polymorphism in OOP means \"many forms\", it allows the same interface ( methods name or operator ) to perform different actions depending on the object. It means one method name , multiple implementation\n",
        "\n",
        "- Different classes can have methods with the same name, but each behaves differently.\n",
        "\n",
        "- Improves code flexibility and supports dynamic behavior.\n",
        "\n",
        "- Example\n",
        "  ```\n",
        "  class Car:\n",
        "        def move(self):\n",
        "            return \"Car is moving\"\n",
        "\n",
        "\n",
        "  class Plane:\n",
        "        def move(self):\n",
        "        return \"Plane is flying\"\n",
        "\n",
        "\n",
        "  for vehicle in [Car() , Plane()]:\n",
        "      print(vehicle.move())\n",
        "    \n",
        "  ```"
      ],
      "metadata": {
        "id": "y4DQef5C1vK7"
      }
    },
    {
      "cell_type": "markdown",
      "source": [
        "#**8. How is encapsulation achieved in Python ?**\n",
        "\n",
        "- Encapsulation in python achieved by restricting access to the internal data of a class and providing controlled access through methods.\n",
        "\n",
        "\n",
        "- Hides the internal details of an object to prevent unauthorized access.\n",
        "\n",
        "- Uses access modifiers to define visibility:\n",
        "\n",
        "  > a. Public (variable) → Accessible from anywhere.\n",
        "\n",
        "  > b. Protected (_variable) → Should not be accessed directly outside the class (convention).\n",
        "\n",
        "  > c. Private (__variable) → Not accessible directly from outside the class.\n",
        "\n",
        "\n",
        "\n",
        "\n",
        "\n"
      ],
      "metadata": {
        "id": "XKZ3CYwr8BDE"
      }
    },
    {
      "cell_type": "markdown",
      "source": [
        "#**9. What is a constructor in Python ?**\n",
        "\n",
        "- A constructor in python is a special methods used to initialize objects when they are created from a class. It is defined using the method `__init__` , it runs automatically when object is created and it is typically used to assign intial values to objects attributes.\n",
        "\n",
        "-\n",
        "  ```\n",
        "  class Student:\n",
        "      def __init__(self, name, age):\n",
        "          self.name = name\n",
        "          self.age = age\n",
        "\n",
        "  # Creating an object\n",
        "  s1 = Student(\"Alice\", 21)\n",
        "  print(s1.name, s1.age)                       # Alice 21\n",
        "\n",
        "  ```\n",
        "\n"
      ],
      "metadata": {
        "id": "cv4C7frsPJ7a"
      }
    },
    {
      "cell_type": "markdown",
      "source": [
        "#**10. What are class and static methods in Python ?**\n",
        "\n",
        "- Python provides three types of methods in a class:\n",
        "\n",
        "  > Instance Methods (regular methods – take self)\n",
        "\n",
        "  > Class Methods (take cls)\n",
        "\n",
        "  > Static Methods (do not take self or cls)\n",
        "\n",
        "\n",
        "- **Class Methods**\n",
        "  > Declared using `@classmethod` decorator\n",
        "\n",
        "  > First parameter is `cls`, which refers to the class itself (not the object)\n",
        "\n",
        "  > Used when you want to access or modify class-level data (shared by all objects)\n",
        "\n",
        "  > example-->\n",
        "\n",
        "    ```\n",
        "    class Student:\n",
        "            school = 'ABC school'\n",
        "\n",
        "            @classmethod\n",
        "            def get_school(cls):\n",
        "      \n",
        "              return cls.school\n",
        "      \n",
        "    print(Student.get_school())                    # Output: ABC School\n",
        "\n",
        "    ```\n",
        "\n",
        "\n",
        "- **Static Method**\n",
        "\n",
        "  > Declared using `@staticmethod` decorator.\n",
        "\n",
        "  > Does not take `self` or `cls` as the first argument.\n",
        "  \n",
        "  > Used for utility functions that are related to the class but don’t need object or class data.\n",
        "\n",
        "  > example -\n",
        "\n",
        "\n",
        "\n",
        "    ```\n",
        "    class Math:\n",
        "        @staticmethod\n",
        "        def add(a, b):\n",
        "            return a + b\n",
        "\n",
        "    print(Math.add(5, 3))  # Output: 8\n",
        "\n",
        "    ```\n",
        "\n"
      ],
      "metadata": {
        "id": "Uw9OChTOQmAR"
      }
    },
    {
      "cell_type": "markdown",
      "source": [
        "#**11.  What is method overloading in Python ?**\n",
        "\n",
        "- Method overloading means having multiple methods with same name but different parameter But actually python does not support true method overloading because functions identified by their name only not by signature\n",
        "\n",
        "- if we define multiple methods with the same name the last one overrides the previous one.\n",
        "\n",
        "- in conclusion Python doesn't have true method overloading.\n",
        "\n",
        "- Achieved using default arguments, `*args`, or function overloading from `functools.singledispatch`."
      ],
      "metadata": {
        "id": "ioQm_E3bW0wj"
      }
    },
    {
      "cell_type": "markdown",
      "source": [
        "#**12.  What is method overriding in OOP ?**\n",
        "\n",
        "- Method Overriding in OOP occurs when a child class provides its own implementation of a method that is already defined in its parent class.\n",
        "\n",
        "  >Key Points:\n",
        "\n",
        "  >1. Allows runtime polymorphism.\n",
        "\n",
        "  >2. The child class method overrides the parent class method with the same name, same parameters.\n",
        "\n",
        "  >3. Enables custom behavior in the child class while reusing the parent’s structure.\n"
      ],
      "metadata": {
        "id": "D1cbezkdZAtE"
      }
    },
    {
      "cell_type": "markdown",
      "source": [
        "#**13. What is a property decorator in Python ?**\n",
        "\n",
        "- A property decorator in python is built - in decorator that is used to turn a method into a read only attribute or define getter, setter and deleter for class attribute in a clean way\n",
        "\n",
        "- it allows you to  access methods like normal attributes, while still controlling behaviour internally\n",
        "\n",
        "- Key Points\n",
        "\n",
        "  >  @property makes a method behave like a read-only attribute.\n",
        "\n",
        "  >  Can define getter, setter, and deleter for controlled access.\n",
        "\n",
        "  >  Helps in encapsulation without changing how the variable is accessed.\n"
      ],
      "metadata": {
        "id": "6PRiO_KxUtnD"
      }
    },
    {
      "cell_type": "markdown",
      "source": [
        "#**14. Why is polymorphism important in OOP ?**\n",
        "\n",
        "- Polymorphism is important in OOP because it provides flexibility, reusablity and scalibilty in code desgin. it allows the same method or operetor to work differently for different objects , making programs more dynamics and easier to maintain\n",
        "\n",
        "- Key Reasons Why Polymorphism is Important\n",
        "\n",
        "    > Code Reusability\n",
        "\n",
        "      Common interfaces can be shared among different classes.\n",
        "\n",
        "    > Flexibility\n",
        "\n",
        "      You can write general code that works with different object types.\n",
        "\n",
        "    > Extensibility\n",
        "\n",
        "      New classes can be added without modifying existing code.\n",
        "\n",
        "    > Supports Dynamic Behavior\n",
        "\n",
        "      Methods behave differently based on the object at runtime (method overriding)."
      ],
      "metadata": {
        "id": "FOwL7Ut1DYwW"
      }
    },
    {
      "cell_type": "markdown",
      "source": [
        "#**15. What is an abstract class in Python ?**\n",
        "\n",
        "- An abstract class in Python is a class that cannot be instantiated and is meant to be inherited by other classes.\n",
        "It is used to define a common interface for a group of subclasses.\n",
        "\n",
        "- key points -->\n",
        "\n",
        "- Defined using ABC from abc module.\n",
        "\n",
        "- Abstract methods use the @abstractmethod decorator.\n",
        "\n",
        "- You cannot create objects of an abstract class.\n",
        "\n",
        "- Subclasses must implement all abstract methods."
      ],
      "metadata": {
        "id": "TC-5FUPFILlk"
      }
    },
    {
      "cell_type": "markdown",
      "source": [
        "#**16. What are the advantages of OOP ?**\n",
        "\n",
        "- Advantages of OOP\n",
        "\n",
        "  >  Modularity: Code is organized into classes and objects, making it easier to manage and debug.\n",
        "\n",
        "  >  Reusability: Classes can be reused across programs using inheritance.\n",
        "\n",
        "  >  Encapsulation: Data and methods are bundled together, protecting internal data from unauthorized access.\n",
        "\n",
        "  > Abstraction: Hides complex implementation details and shows only essential features.\n",
        "\n",
        "  >  Polymorphism: Same interface can be used for different object types, providing flexibility.\n",
        "\n",
        "  >  Maintainability: OOP code is easier to update and maintain due to modular structure.\n",
        "\n",
        "  >  Real-world modeling: Objects can represent real-world entities, making programs intuitive.\n",
        "\n",
        "  >  Extensibility: New features can be added with minimal changes to existing code."
      ],
      "metadata": {
        "id": "GXV9RSPgJUML"
      }
    },
    {
      "cell_type": "markdown",
      "source": [
        "#**17. What is the difference between a class variable and an instance variable ?**\n",
        "\n",
        "- **Class Variable**\n",
        "  > A variable shared by all object of the class, it declared inside the class and outside any method, and accessed through using class name object. it is stored in class namespace the most common use case of class variable is data is common to all objects\n",
        "\n",
        "\n",
        "- **Instance variable**\n",
        "\n",
        "  > A Variable unique to each object , it is declared inside the class , inside the `__init__` method it is accessed through the object, it is stored instance namespace the most common use case of instance variable is Data specific to each object\n",
        "\n",
        "\n",
        "- Example\n",
        "\n",
        "  ```\n",
        "  class Employee:\n",
        "      company = \"ABC Corp\"                            # Class variable\n",
        "\n",
        "      def __init__(self, name):\n",
        "          self.name = name                            # Instance variable\n",
        "\n",
        "  e1 = Employee(\"Alice\")\n",
        "  e2 = Employee(\"Bob\")\n",
        "\n",
        "  print(e1.name)                                       # Alice (instance variable)\n",
        "  print(e2.name)                                       # Bob\n",
        "  print(e1.company)                                    # ABC Corp (shared)\n",
        "  print(e2.company)                                    # ABC Corp\n",
        "\n",
        "  ```\n"
      ],
      "metadata": {
        "id": "G-x3C8iZa75z"
      }
    },
    {
      "cell_type": "markdown",
      "source": [
        "#**18. What is multiple inheritance in Python ?**\n",
        "\n",
        "- Multiple inheritance means that a class can inherit from more than one parent class at the same time this allows a child to use attributes and methods from multiple base classes\n",
        "\n",
        "- Supported in Python using comma-separated parent classes.\n",
        "\n",
        "- Can lead to ambiguity if the same method exists in multiple parents (resolved by Method Resolution Order (MRO)).\n",
        "\n",
        "- Increases code reuse, but should be used carefully to avoid complexity.\n",
        "\n",
        "\n",
        "-\n",
        "  ```\n",
        "  class A:\n",
        "      def feature_a(self):\n",
        "          return \"Feature from A\"\n",
        "\n",
        "  class B:\n",
        "      def feature_b(self):\n",
        "          return \"Feature from B\"\n",
        "\n",
        "  class C(A, B):  # Multiple Inheritance\n",
        "      pass\n",
        "\n",
        "  obj = C()\n",
        "  print(obj.feature_a())  # From class A\n",
        "  print(obj.feature_b())  # From class B\n",
        "\n",
        "  ```"
      ],
      "metadata": {
        "id": "639RG4jXhtyu"
      }
    },
    {
      "cell_type": "markdown",
      "source": [
        "#**19.  Explain the purpose of  `__str__`  and `__repr__`  methods in Python ?**\n",
        "\n",
        "- In python `__str__` and `__repr__` are special method used to define string representation of objects, but they are used for different purposes\n",
        "\n",
        "- `__str__`\n",
        "\n",
        "  > Used by the `print()` function or `str()`.\n",
        "\n",
        "  > It provide a readable, user-friendly description of the object.\n",
        "  \n",
        "  > Should return a string for end-users.\n",
        "\n",
        "- `__repr__`\n",
        "\n",
        "  > Used by `repr()` or in interactive console.\n",
        "\n",
        "  >It provide an unambiguous representation, ideally something that can recreate the object.\n",
        "\n",
        "  > Intended for developers (debugging).\n",
        "\n",
        "\n",
        "- Example\n",
        "  ```\n",
        "  class Book:\n",
        "      def __init__(self, title, pages):\n",
        "          self.title = title\n",
        "          self.pages = pages\n",
        "\n",
        "      def __str__(self):\n",
        "          return f\"{self.title} ({self.pages} pages)\"  # Readable format\n",
        "\n",
        "      def __repr__(self):\n",
        "          return f\"Book('{self.title}', {self.pages})\"  # Debug/developer format\n",
        "\n",
        "  b = Book(\"Python Basics\", 200)\n",
        "  print(str(b))    # Uses __str__\n",
        "  print(repr(b))   # Uses __repr__\n",
        "\n",
        "  ```"
      ],
      "metadata": {
        "id": "BybzSDa9mRTy"
      }
    },
    {
      "cell_type": "markdown",
      "source": [
        "#**20. What is the significance of the `super()` function in Python ?**\n",
        "\n",
        "- The `super()` function in python is used to call a method from the parent class (superclass) inside a child class , it is gernrally used in inheritance to access and extend parent class functionality without explicitly naming the parent class\n",
        "\n",
        "- Example\n",
        "  ```\n",
        "  class Parent:\n",
        "      def __init__(self):\n",
        "          print(\"Parent constructor\")\n",
        "\n",
        "  class Child(Parent):\n",
        "      def __init__(self):\n",
        "          super().__init__()  # Calls Parent's constructor\n",
        "          print(\"Child constructor\")\n",
        "\n",
        "  c = Child()\n",
        "\n",
        "\n",
        "  ```\n",
        "\n",
        "- Avoids hardcoding the parent class name → makes code maintainable.\n",
        "\n",
        "- Supports multiple inheritance using the Method Resolution Order (MRO).\n",
        "\n",
        "- Allows calling the parent class constructor (__init__) or any overridden method."
      ],
      "metadata": {
        "id": "wKxlp8a1qatB"
      }
    },
    {
      "cell_type": "markdown",
      "source": [
        "#**21. What is the significance of the `__del__` method in Python ?**\n",
        "\n",
        "-  The __del__ method in Python is a destructor method, which is called automatically when an object is about to be destroyed (i.e., when it is no longer referenced in memory).\n",
        "\n",
        "- Significance of __del__:\n",
        "\n",
        "  >  Resource Cleanup → Used to release resources like closing files, network connections, or database connections before the object is deleted.\n",
        "\n",
        "  >  Finalization → Provides a way to define custom cleanup behavior when an object’s life ends.\n",
        "\n",
        "  >  Garbage Collection Support → Called automatically by Python’s garbage collector when an object’s reference count becomes zero.\n",
        "\n",
        "- Example\n",
        "    ```\n",
        "    class Demo:\n",
        "        def __init__(self):\n",
        "            print(\"Object created\")\n",
        "            \n",
        "        def __del__(self):\n",
        "            print(\"Object destroyed\")\n",
        "\n",
        "    d = Demo()\n",
        "    del d  # Explicit deletion\n",
        "\n",
        "\n",
        "    ```\n"
      ],
      "metadata": {
        "id": "hqVtfRjssd1Z"
      }
    },
    {
      "cell_type": "markdown",
      "source": [
        "#**22. What is the difference between `@staticmethod` and `@classmethod` in Python ?**\n",
        "\n",
        "\n",
        "- `@staticmethod` and `@classmethod` are decorators in Python used to define special methods in a class\n",
        "\n",
        "- **`@staticmethod`**\n",
        "  > it belongs to the class, but does not access class or instance data.\n",
        "  \n",
        "  > Does not take `self` or `cls` as the first argument\n",
        "  \n",
        "  > Used for utility/helper function related tot the class\n",
        "\n",
        "  >\n",
        "  ```\n",
        "    class Demo:\n",
        "      @staticmethod\n",
        "      def greet():\n",
        "          return \"Hello!\"\n",
        "\n",
        "  print(Demo.greet())  # Output: Hello!\n",
        "\n",
        "  ```\n",
        "\n",
        "- **`@classmethod`**\n",
        "\n",
        "  > it belongs to the class and takes `cls` as the first argument\n",
        "\n",
        "  > it can access and modify class variables\n",
        "\n",
        "  > Often used as alternative constructors\n",
        "\n",
        "  >\n",
        "\n",
        "    ```\n",
        "  class Demo:\n",
        "      count = 0\n",
        "      \n",
        "      @classmethod\n",
        "      def increment(cls):\n",
        "          cls.count += 1\n",
        "          return cls.count\n",
        "\n",
        "  print(Demo.increment())  # Output: 1\n",
        "\n",
        "    ```"
      ],
      "metadata": {
        "id": "pdGk96Z4RdJi"
      }
    },
    {
      "cell_type": "markdown",
      "source": [
        "#**23.  How does polymorphism work in Python with inheritance ?**\n",
        "\n",
        "- Polymorphism in python allows the same method name to perform different tasks depending on the objects calling it , When used with inheritance, it means a child class can override a parent class method, and the correct method is chosen at runtime based on the object type (dynamic method dispatch).\n",
        "\n",
        "- Example\n",
        "\n",
        "    ```\n",
        "    class Animal:\n",
        "        def speak(self):\n",
        "            return \"Some sound\"\n",
        "\n",
        "    class Dog(Animal):\n",
        "        def speak(self):\n",
        "            return \"Bark\"\n",
        "\n",
        "    class Cat(Animal):\n",
        "        def speak(self):\n",
        "            return \"Meow\"\n",
        "\n",
        "    # Polymorphism in action\n",
        "    animals = [Dog(), Cat(), Animal()]\n",
        "    for a in animals:\n",
        "        print(a.speak())\n",
        "\n",
        "    ```\n",
        "\n",
        "\n",
        "- Working of Inheritance\n",
        "  > Parent class defines a method\n",
        "\n",
        "  > child class overrides that method\n",
        "\n",
        "  > When calling the method on an object , Python decides which version to call based on the object's class"
      ],
      "metadata": {
        "id": "1_y8X--kUdwd"
      }
    },
    {
      "cell_type": "markdown",
      "source": [
        "#**24. What is method chaining in Python OOP ?**\n",
        "\n",
        "- Method chaining is a technique where multiple methods are called on the same objects in a single statement, by making each method return the object(self)\n",
        "it makes the code reusablility and makes the API works smooth\n",
        "\n",
        "- Example\n",
        "\n",
        "  ```\n",
        "  class TextBuilder:\n",
        "      def __init__(self):\n",
        "          self.text = \"\"\n",
        "      \n",
        "      def add_word(self, word):\n",
        "          self.text += word + \" \"\n",
        "          return self\n",
        "      \n",
        "      def add_exclamation(self):\n",
        "          self.text = self.text.strip() + \"!\"\n",
        "          return self\n",
        "      \n",
        "      def get_text(self):\n",
        "          return self.text\n",
        "\n",
        "  msg = TextBuilder().add_word(\"Hello\").add_word(\"World\").add_exclamation().get_text()\n",
        "  print(msg)  # Output: Hello World!\n",
        "\n",
        "\n",
        "  ```\n",
        "\n",
        "- Method chaining in Python allows calling multiple methods on the same object in one line, by having each method return self. It is used for fluent, readable code."
      ],
      "metadata": {
        "id": "yQe7Lwvmash-"
      }
    },
    {
      "cell_type": "markdown",
      "source": [
        "#**25. What is the purpose of the `__call__` method in Python ?**\n",
        "\n",
        "- The __call__ method in Python is a special (dunder) method that makes an object callable like a function.\n",
        "If a class defines __call__, you can use its instances as functions.\n",
        "\n",
        "- Example\n",
        "\n",
        "  ```\n",
        "  class Adder:\n",
        "      def __init__(self, x):\n",
        "          self.x = x\n",
        "      \n",
        "      def __call__(self, y):\n",
        "          return self.x + y\n",
        "\n",
        "  add5 = Adder(5)\n",
        "  print(add5(10))  # Output: 15\n",
        "\n",
        "  ```\n",
        "\n",
        "- When we use it\n",
        "\n",
        "  > Encapsulate logic with state in an object that acts like a fucntion\n",
        "\n",
        "  > Common in machine learning models, function decorators, or caching objects."
      ],
      "metadata": {
        "id": "Zljq8PsMcodo"
      }
    },
    {
      "cell_type": "markdown",
      "source": [
        "\n",
        "\n",
        "# Practical Questions"
      ],
      "metadata": {
        "id": "wljfSOUYeUVG"
      }
    },
    {
      "cell_type": "markdown",
      "source": [
        "#**1. Create a parent class Animal with a method `speak()` that prints a generic message. Create a child class Dog that overrides the `speak()` method to print \"Bark!\". ?**"
      ],
      "metadata": {
        "id": "AJbqlg8keVKL"
      }
    },
    {
      "cell_type": "code",
      "source": [
        "class Animal:\n",
        "    def speak(self):\n",
        "        return \"Voice of animal\"\n",
        "\n",
        "class Dog(Animal):\n",
        "    def speak(self):\n",
        "        return \"Bark!\"\n",
        "\n",
        "obj1 = Animal()\n",
        "obj2 = Dog()\n",
        "\n",
        "print(\"Parent class speak:\", obj1.speak())\n",
        "print(\"Method overridden by child class:\", obj2.speak())"
      ],
      "metadata": {
        "id": "KjZRCBx1hFBn",
        "colab": {
          "base_uri": "https://localhost:8080/",
          "height": 0
        },
        "outputId": "e95fd8f3-746f-4e98-cc3e-a253e46c8f67"
      },
      "execution_count": 2,
      "outputs": [
        {
          "output_type": "stream",
          "name": "stdout",
          "text": [
            "Parent class speak: Voice of animal\n",
            "Method overridden by child class: Bark!\n"
          ]
        }
      ]
    },
    {
      "cell_type": "markdown",
      "source": [
        "#**2.  Write a program to create an abstract class Shape with a method `area()`. Derive classes Circle and Rectangle from it and implement the `area()` method in both ?**\n",
        "\n"
      ],
      "metadata": {
        "id": "t7oBDIUngcaG"
      }
    },
    {
      "cell_type": "code",
      "source": [
        "from abc import ABC, abstractmethod\n",
        "import math\n",
        "\n",
        "class Shape(ABC):\n",
        "    @abstractmethod\n",
        "    def area(self):\n",
        "        pass\n",
        "\n",
        "class Circle(Shape):\n",
        "    def __init__(self, radius):\n",
        "        self.radius = radius\n",
        "\n",
        "    def area(self):\n",
        "        return math.pi * (self.radius ** 2)\n",
        "\n",
        "class Rectangle(Shape):\n",
        "    def __init__(self, length, width):\n",
        "        self.length = length\n",
        "        self.width = width\n",
        "\n",
        "    def area(self):\n",
        "        return self.length * self.width\n",
        "\n",
        "# Objects\n",
        "obj1 = Circle(4)\n",
        "obj2 = Rectangle(3, 4)\n",
        "\n",
        "print(\"Area of circle:\", obj1.area())\n",
        "print(\"Area of rectangle:\", obj2.area())\n"
      ],
      "metadata": {
        "colab": {
          "base_uri": "https://localhost:8080/",
          "height": 0
        },
        "id": "yYVxVi35fzGw",
        "outputId": "104dd248-aa34-40fd-9d2f-1783f50687e3"
      },
      "execution_count": 3,
      "outputs": [
        {
          "output_type": "stream",
          "name": "stdout",
          "text": [
            "Area of circle: 50.26548245743669\n",
            "Area of rectangle: 12\n"
          ]
        }
      ]
    },
    {
      "cell_type": "markdown",
      "source": [
        "#**3.   Implement a multi-level inheritance scenario where a class Vehicle has an attribute type. Derive a class Car and further derive a class ElectricCar that adds a battery attribute ?**\n"
      ],
      "metadata": {
        "id": "ZCc6aDi_hs5o"
      }
    },
    {
      "cell_type": "code",
      "source": [
        "class Vehicle:\n",
        "    def start(self):\n",
        "        return \"Vehicle is starting\"\n",
        "\n",
        "class Car(Vehicle):\n",
        "    def engine(self):\n",
        "        return \"Car engine started\"\n",
        "\n",
        "class AutomaticCar(Car):\n",
        "    def move(self):\n",
        "        return \"The automatic car is moving\"\n",
        "\n",
        "obj1 = Car()\n",
        "obj2 = AutomaticCar()\n",
        "\n",
        "print(\"Car:\", obj1.start())\n",
        "print(\"Car:\", obj1.engine())\n",
        "print(\"Automatic Car:\", obj2.start())\n",
        "print(\"Automatic Car:\", obj2.engine())\n",
        "print(\"Automatic Car:\", obj2.move())"
      ],
      "metadata": {
        "colab": {
          "base_uri": "https://localhost:8080/",
          "height": 0
        },
        "id": "-GEszNx2hMyH",
        "outputId": "fee43693-564f-4a9c-e536-3e1bd8c6e59d"
      },
      "execution_count": 4,
      "outputs": [
        {
          "output_type": "stream",
          "name": "stdout",
          "text": [
            "Car: Vehicle is starting\n",
            "Car: Car engine started\n",
            "Automatic Car: Vehicle is starting\n",
            "Automatic Car: Car engine started\n",
            "Automatic Car: The automatic car is moving\n"
          ]
        }
      ]
    },
    {
      "cell_type": "markdown",
      "source": [
        "#**4.  Demonstrate polymorphism by creating a base class Bird with a method `fly()`. Create two derived classes Sparrow and Penguin that override the `fly()` method ?**\n"
      ],
      "metadata": {
        "id": "a3vvaUTYi51s"
      }
    },
    {
      "cell_type": "code",
      "source": [
        "# Base class\n",
        "class Bird:\n",
        "    def fly(self):\n",
        "        return \"Bird is flying\"\n",
        "\n",
        "# Derived class Sparrow\n",
        "class Sparrow(Bird):\n",
        "    def fly(self):\n",
        "        return \"Sparrow can fly high\"\n",
        "\n",
        "# Derived class Penguin\n",
        "class Penguin(Bird):\n",
        "    def fly(self):\n",
        "        return \"Penguin cannot fly\"\n",
        "\n",
        "# Polymorphism in action\n",
        "birds = [Sparrow(), Penguin(), Bird()]\n",
        "\n",
        "for b in birds:\n",
        "    print(b.fly())\n"
      ],
      "metadata": {
        "colab": {
          "base_uri": "https://localhost:8080/",
          "height": 0
        },
        "id": "uHRBSreZizMN",
        "outputId": "ee39109c-bd8d-4bf6-d37e-f0e71af552de"
      },
      "execution_count": 5,
      "outputs": [
        {
          "output_type": "stream",
          "name": "stdout",
          "text": [
            "Sparrow can fly high\n",
            "Penguin cannot fly\n",
            "Bird is flying\n"
          ]
        }
      ]
    },
    {
      "cell_type": "markdown",
      "source": [
        "#**5.  Write a program to demonstrate encapsulation by creating a class BankAccount with private attributes balance and methods to deposit, withdraw, and check balance ?**\n"
      ],
      "metadata": {
        "id": "8l94H4H3j7oj"
      }
    },
    {
      "cell_type": "code",
      "source": [
        "class BankAccount:\n",
        "    def __init__(self, initial_balance=0):\n",
        "        self.__balance = initial_balance  # Private attribute\n",
        "\n",
        "    def deposit(self, amount):\n",
        "        if amount > 0:\n",
        "            self.__balance += amount\n",
        "            return f\"Deposited: {amount}\"\n",
        "        return \"Invalid deposit amount\"\n",
        "\n",
        "    def withdraw(self, amount):\n",
        "        if 0 < amount <= self.__balance:\n",
        "            self.__balance -= amount\n",
        "            return f\"Withdrawn: {amount}\"\n",
        "        return \"Insufficient balance or invalid amount\"\n",
        "\n",
        "    def get_balance(self):\n",
        "        return f\"Current Balance: {self.__balance}\"\n",
        "\n",
        "# Test\n",
        "account = BankAccount(1000)\n",
        "print(account.deposit(500))\n",
        "print(account.withdraw(300))\n",
        "print(account.get_balance())"
      ],
      "metadata": {
        "colab": {
          "base_uri": "https://localhost:8080/",
          "height": 0
        },
        "id": "5uFggGnHj1oi",
        "outputId": "8a60e390-c498-4b58-988e-0c3d36b77f2f"
      },
      "execution_count": 6,
      "outputs": [
        {
          "output_type": "stream",
          "name": "stdout",
          "text": [
            "Deposited: 500\n",
            "Withdrawn: 300\n",
            "Current Balance: 1200\n"
          ]
        }
      ]
    },
    {
      "cell_type": "markdown",
      "source": [
        "#**6.  Demonstrate runtime polymorphism using a method `play()` in a base class Instrument. Derive classes Guitar and Piano that implement their own version of `play()` ?**"
      ],
      "metadata": {
        "id": "55hvzzhcknM9"
      }
    },
    {
      "cell_type": "code",
      "source": [
        "# Base class\n",
        "class Instrument:\n",
        "    def play(self):\n",
        "        return \"Playing an instrument\"\n",
        "\n",
        "# Derived class Guitar\n",
        "class Guitar(Instrument):\n",
        "    def play(self):\n",
        "        return \"Playing the guitar\"\n",
        "\n",
        "# Derived class Piano\n",
        "class Piano(Instrument):\n",
        "    def play(self):\n",
        "        return \"Playing the piano\"\n",
        "\n",
        "# Runtime polymorphism in action\n",
        "instruments = [Instrument(), Guitar(), Piano()]\n",
        "\n",
        "for i in instruments:\n",
        "    print(i.play())\n"
      ],
      "metadata": {
        "colab": {
          "base_uri": "https://localhost:8080/",
          "height": 0
        },
        "id": "5KhTaG1NkL0N",
        "outputId": "d7a43322-1d5a-4ed2-d0f9-bf8c548d647b"
      },
      "execution_count": 7,
      "outputs": [
        {
          "output_type": "stream",
          "name": "stdout",
          "text": [
            "Playing an instrument\n",
            "Playing the guitar\n",
            "Playing the piano\n"
          ]
        }
      ]
    },
    {
      "cell_type": "markdown",
      "source": [
        "#**7.  Create a class MathOperations with a class method add_numbers() to add two numbers and a static method subtract_numbers() to subtract two numbers ?**"
      ],
      "metadata": {
        "id": "gMN4W1vkgDnm"
      }
    },
    {
      "cell_type": "code",
      "source": [
        "class MathOperation:\n",
        "    @classmethod\n",
        "    def add_numbers(cls,*args):\n",
        "      return sum(args)\n",
        "\n",
        "    @staticmethod\n",
        "    def subtract_numbers(num1,num2):\n",
        "      return num1-num2\n",
        "\n",
        "\n",
        "print(\"Add numbers (2,9)\" , MathOperation.add_numbers(2,9))\n",
        "print(\"Subtract numbers (9,2)\" , MathOperation.subtract_numbers(9,2))"
      ],
      "metadata": {
        "colab": {
          "base_uri": "https://localhost:8080/",
          "height": 0
        },
        "id": "aA3iXAwyk8tG",
        "outputId": "790b6d0e-dba9-4479-9913-cc544e86cbc0"
      },
      "execution_count": 1,
      "outputs": [
        {
          "output_type": "stream",
          "name": "stdout",
          "text": [
            "Add numbers (2,9) 11\n",
            "Subtract numbers (9,2) 7\n"
          ]
        }
      ]
    },
    {
      "cell_type": "markdown",
      "source": [
        "#**8.  Implement a class Person with a class method to count the total number of persons created ?**"
      ],
      "metadata": {
        "id": "egMxAmGvuyAd"
      }
    },
    {
      "cell_type": "code",
      "source": [
        "class Person:\n",
        "    count = 0\n",
        "    def __init__(self, name):\n",
        "        self.name = name\n",
        "        Person.count += 1\n",
        "    @classmethod\n",
        "    def total_persons(cls):\n",
        "        return f\"Total Persons created: {cls.count}\"\n",
        "\n",
        "p1 = Person(\"Himu\")\n",
        "p2 = Person(\"Tinku\")\n",
        "p3 = Person(\"Gullu\")\n",
        "\n",
        "\n",
        "print(Person.total_persons())\n",
        "\n"
      ],
      "metadata": {
        "colab": {
          "base_uri": "https://localhost:8080/",
          "height": 0
        },
        "id": "X3-lVLfBpYsu",
        "outputId": "a2e925c6-0f9b-4446-9609-ef3ed2519477"
      },
      "execution_count": 3,
      "outputs": [
        {
          "output_type": "stream",
          "name": "stdout",
          "text": [
            "Total Persons created: 3\n"
          ]
        }
      ]
    },
    {
      "cell_type": "markdown",
      "source": [
        "#**9.  Write a class Fraction with attributes numerator and denominator. Override the str method to display the fraction as \"numerator/denominator\".**"
      ],
      "metadata": {
        "id": "jVvb5VJovNOS"
      }
    },
    {
      "cell_type": "code",
      "source": [
        "class Fraction:\n",
        "  def __init__(self,denominator,numerator):\n",
        "    self.denominator=denominator\n",
        "    self.numerator=numerator\n",
        "  def __str__(self):\n",
        "    return f\"{self.numerator}/{self.denominator}\"\n",
        "\n",
        "f1 = Fraction(3, 4)\n",
        "f2 = Fraction(7, 2)\n",
        "\n",
        "print(f1)\n",
        "print(f2)"
      ],
      "metadata": {
        "colab": {
          "base_uri": "https://localhost:8080/",
          "height": 0
        },
        "id": "yaTQeKjLvEQx",
        "outputId": "a6084bf5-ccba-4cca-c8cc-dbdab21f1d70"
      },
      "execution_count": 4,
      "outputs": [
        {
          "output_type": "stream",
          "name": "stdout",
          "text": [
            "4/3\n",
            "2/7\n"
          ]
        }
      ]
    },
    {
      "cell_type": "markdown",
      "source": [
        "#**10.  Demonstrate operator overloading by creating a class Vector and overriding the add method to add two vectors.**"
      ],
      "metadata": {
        "id": "FRo3eHtJyOYU"
      }
    },
    {
      "cell_type": "code",
      "source": [
        "class Vector:\n",
        "    def __init__(self, x, y):\n",
        "        self.x = x\n",
        "        self.y = y\n",
        "\n",
        "    # Overload the + operator\n",
        "    def __add__(self, other):\n",
        "        return Vector(self.x + other.x, self.y + other.y)\n",
        "\n",
        "    # Overload str to display the vector nicely\n",
        "    def __str__(self):\n",
        "        return f\"({self.x}, {self.y})\"\n",
        "\n",
        "\n",
        "v1 = Vector(4, 5)\n",
        "v2 = Vector(3, 6)\n",
        "\n",
        "v3 = v1 + v2  # Calls v1.__add__(v2)\n",
        "\n",
        "print(v3)"
      ],
      "metadata": {
        "colab": {
          "base_uri": "https://localhost:8080/",
          "height": 0
        },
        "id": "B6ldzJmuyBs4",
        "outputId": "2f279362-7c95-4e58-d1b3-dfd1a6073669"
      },
      "execution_count": 6,
      "outputs": [
        {
          "output_type": "stream",
          "name": "stdout",
          "text": [
            "(7, 11)\n"
          ]
        }
      ]
    },
    {
      "cell_type": "markdown",
      "source": [
        "#**11.   Create a class Person with attributes name and age. Add a method `greet()` that prints \"Hello, my name is {name} and I am {age} years old.\"**"
      ],
      "metadata": {
        "id": "DGNlZfuh01D8"
      }
    },
    {
      "cell_type": "code",
      "source": [
        "class Person:\n",
        "  def __init__(self,name,age):\n",
        "    self.name=name\n",
        "    self.age=age\n",
        "  def greet(self):\n",
        "   return f\"Hello, my name is {self.name} and I am {self.age} years old.\"\n",
        "\n",
        "p=Person('Himanshu',27)\n",
        "\n",
        "print(p.greet())"
      ],
      "metadata": {
        "colab": {
          "base_uri": "https://localhost:8080/",
          "height": 0
        },
        "id": "V_qMdpV20YyA",
        "outputId": "f6a6dd9c-e0dd-4bd4-b956-173f0fa72cf4"
      },
      "execution_count": 8,
      "outputs": [
        {
          "output_type": "stream",
          "name": "stdout",
          "text": [
            "Hello, my name is Himanshu and I am 27 years old.\n"
          ]
        }
      ]
    },
    {
      "cell_type": "markdown",
      "source": [
        "#**12.    Implement a class Student with attributes name and grades. Create a method `average_grade()` to compute the average of the grades.**"
      ],
      "metadata": {
        "id": "UfngDO5J2EC7"
      }
    },
    {
      "cell_type": "code",
      "source": [
        "class Student:\n",
        "  def __init__(self,name,grades):\n",
        "    self.name=name\n",
        "    self.grades=grades\n",
        "  def avg_grade(self):\n",
        "    if len(self.grades)==0:\n",
        "      return 0\n",
        "    return sum(self.grades)/len(self.grades)\n",
        "\n",
        "s=Student(\"Himanhu\", [75, 80, 98, 82])\n",
        "print(\"Student Name:\", s.name)\n",
        "print(\"Average Grade:\", s.avg_grade())"
      ],
      "metadata": {
        "colab": {
          "base_uri": "https://localhost:8080/",
          "height": 0
        },
        "id": "pYv6BphU1cbX",
        "outputId": "7f811456-39c4-43f6-a4ef-c898e2b0c6f5"
      },
      "execution_count": 9,
      "outputs": [
        {
          "output_type": "stream",
          "name": "stdout",
          "text": [
            "Student Name: Himanhu\n",
            "Average Grade: 83.75\n"
          ]
        }
      ]
    },
    {
      "cell_type": "markdown",
      "source": [
        "#**13.    Create a class Rectangle with methods set_dimensions() to set the dimensions and area() to calculate the area.**"
      ],
      "metadata": {
        "id": "O_ufTMDg3afZ"
      }
    },
    {
      "cell_type": "code",
      "source": [
        "class Rectangle:\n",
        "    def __init__(self):\n",
        "        self.length = 0\n",
        "        self.width = 0\n",
        "\n",
        "    def set_dimensions(self, length, width):\n",
        "        self.length = length\n",
        "        self.width = width\n",
        "\n",
        "    def area(self):\n",
        "        return self.length * self.width\n",
        "\n",
        "r1 = Rectangle()\n",
        "r1.set_dimensions(15, 3)\n",
        "print(\"Length:\", r1.length)\n",
        "print(\"Width:\", r1.width)\n",
        "print(\"Area of Rectangle:\", r1.area())"
      ],
      "metadata": {
        "colab": {
          "base_uri": "https://localhost:8080/",
          "height": 0
        },
        "id": "3ohmQPaA2e4Z",
        "outputId": "f07b5a96-ae84-4e6a-9c91-daa8519701fd"
      },
      "execution_count": 11,
      "outputs": [
        {
          "output_type": "stream",
          "name": "stdout",
          "text": [
            "Length: 15\n",
            "Width: 3\n",
            "Area of Rectangle: 45\n"
          ]
        }
      ]
    },
    {
      "cell_type": "markdown",
      "source": [
        "#**14.    Create a class Employee with a method calculate_salary() that computes the salary based on hours worked and hourly rate. Create a derived class Manager that adds a bonus to the salary**"
      ],
      "metadata": {
        "id": "qjvFenZV4mGo"
      }
    },
    {
      "cell_type": "code",
      "source": [
        "class Employee:\n",
        "    def __init__(self, name, hours_worked, hourly_rate):\n",
        "        self.name = name\n",
        "        self.hours_worked = hours_worked\n",
        "        self.hourly_rate = hourly_rate\n",
        "\n",
        "    def calculate_salary(self):\n",
        "        return self.hours_worked * self.hourly_rate\n",
        "\n",
        "\n",
        "class Manager(Employee):\n",
        "    def __init__(self, name, hours_worked, hourly_rate, bonus):\n",
        "        super().__init__(name, hours_worked, hourly_rate)\n",
        "        self.bonus = bonus\n",
        "\n",
        "    def calculate_salary(self):\n",
        "        base_salary = super().calculate_salary()\n",
        "        return base_salary + self.bonus\n",
        "\n",
        "\n",
        "\n",
        "emp1 = Employee(\"Mohan\", 40, 200)\n",
        "mgr1 = Manager(\"Himanshu\", 40, 300, 5000)\n",
        "\n",
        "print(f\"Employee {emp1.name} Salary: {emp1.calculate_salary()}\")\n",
        "print(f\"Manager {mgr1.name} Salary: {mgr1.calculate_salary()}\")"
      ],
      "metadata": {
        "colab": {
          "base_uri": "https://localhost:8080/",
          "height": 0
        },
        "id": "F4Tym42U4B0Q",
        "outputId": "fce24cfb-7bbc-4c73-c9bd-fc87f35c235d"
      },
      "execution_count": 13,
      "outputs": [
        {
          "output_type": "stream",
          "name": "stdout",
          "text": [
            "Employee Mohan Salary: 8000\n",
            "Manager Himanshu Salary: 17000\n"
          ]
        }
      ]
    },
    {
      "cell_type": "markdown",
      "source": [
        "#**15. Create a class Product with attributes name, price, and quantity. Implement a method total_price() that calculates the total price of the product.**"
      ],
      "metadata": {
        "id": "ZmyWL2qo48GK"
      }
    },
    {
      "cell_type": "code",
      "source": [
        "class Product:\n",
        "    def __init__(self, name, price, quantity):\n",
        "        self.name = name\n",
        "        self.price = price\n",
        "        self.quantity = quantity\n",
        "\n",
        "    def total_price(self):\n",
        "        return self.price * self.quantity\n",
        "\n",
        "\n",
        "# Example usage\n",
        "p1 = Product(\"Laptop\", 50000, 2)\n",
        "p2 = Product(\"Mobile\", 15000, 3)\n",
        "\n",
        "print(f\"Product: {p1.name}, Total Price: {p1.total_price()}\")\n",
        "print(f\"Product: {p2.name}, Total Price: {p2.total_price()}\")\n"
      ],
      "metadata": {
        "colab": {
          "base_uri": "https://localhost:8080/",
          "height": 0
        },
        "id": "BmzQJcI_4vgl",
        "outputId": "8a8c180f-8d82-49f7-b6d2-2e4c4111024b"
      },
      "execution_count": 14,
      "outputs": [
        {
          "output_type": "stream",
          "name": "stdout",
          "text": [
            "Product: Laptop, Total Price: 100000\n",
            "Product: Mobile, Total Price: 45000\n"
          ]
        }
      ]
    },
    {
      "cell_type": "markdown",
      "source": [
        "#**16.  Create a class Animal with an abstract method sound(). Create two derived classes Cow and Sheep that implement the sound() method.**"
      ],
      "metadata": {
        "id": "4J_a8soe5Z71"
      }
    },
    {
      "cell_type": "code",
      "source": [
        "from abc import ABC, abstractmethod\n",
        "\n",
        "class Animal(ABC):   # Abstract class\n",
        "    @abstractmethod\n",
        "    def sound(self):\n",
        "        pass\n",
        "\n",
        "class Cow(Animal):\n",
        "    def sound(self):\n",
        "        return \"Moo\"\n",
        "\n",
        "class Sheep(Animal):\n",
        "    def sound(self):\n",
        "        return \"Baa\"\n",
        "\n",
        "cow = Cow()\n",
        "sheep = Sheep()\n",
        "\n",
        "print(\"Cow Sound:\", cow.sound())\n",
        "print(\"Sheep Sound:\", sheep.sound())"
      ],
      "metadata": {
        "colab": {
          "base_uri": "https://localhost:8080/",
          "height": 0
        },
        "id": "-6lVy_by5JVJ",
        "outputId": "914bb191-0bca-4648-ebff-9c0f77916b0e"
      },
      "execution_count": 15,
      "outputs": [
        {
          "output_type": "stream",
          "name": "stdout",
          "text": [
            "Cow Sound: Moo\n",
            "Sheep Sound: Baa\n"
          ]
        }
      ]
    },
    {
      "cell_type": "markdown",
      "source": [
        "#**17.  Create a class Book with attributes title, author, and year_published. Add a method get_book_info() that returns a formatted string with the book's details**"
      ],
      "metadata": {
        "id": "JgBtNQOI5-pY"
      }
    },
    {
      "cell_type": "code",
      "source": [
        "\n",
        "class Book:\n",
        "    def __init__(self, title, author, year_published):\n",
        "        self.title = title\n",
        "        self.author = author\n",
        "        self.year_published = year_published\n",
        "\n",
        "    def get_book_info(self):\n",
        "        return f\"'{self.title}' by {self.author}, published in {self.year_published}\"\n",
        "\n",
        "\n",
        "b1 = Book(\"The Alchemist\", \"Paulo Coelho\", 1988)\n",
        "b2 = Book(\"Python Crash Course\", \"Eric Matthes\", 2015)\n",
        "\n",
        "print(b1.get_book_info())\n",
        "print(b2.get_book_info())\n"
      ],
      "metadata": {
        "colab": {
          "base_uri": "https://localhost:8080/",
          "height": 0
        },
        "id": "Y7qN6OmG5hxJ",
        "outputId": "bc39d7b7-bd3e-4b16-e69d-d982ea229d31"
      },
      "execution_count": 16,
      "outputs": [
        {
          "output_type": "stream",
          "name": "stdout",
          "text": [
            "'The Alchemist' by Paulo Coelho, published in 1988\n",
            "'Python Crash Course' by Eric Matthes, published in 2015\n"
          ]
        }
      ]
    },
    {
      "cell_type": "markdown",
      "source": [
        "#**18. Create a class House with attributes address and price. Create a derived class Mansion that adds an attribute number_of_rooms**"
      ],
      "metadata": {
        "id": "ISNJj4TP63IR"
      }
    },
    {
      "cell_type": "code",
      "source": [
        "class House:\n",
        "    def __init__(self, address, price):\n",
        "        self.address = address\n",
        "        self.price = price\n",
        "\n",
        "    def get_info(self):\n",
        "        return f\"House located at {self.address}, Price: ₹{self.price}\"\n",
        "\n",
        "\n",
        "class Mansion(House):\n",
        "    def __init__(self, address, price, number_of_rooms):\n",
        "        super().__init__(address, price)\n",
        "        self.number_of_rooms = number_of_rooms\n",
        "\n",
        "    def get_info(self):\n",
        "        return f\"Mansion located at {self.address}, Price: ₹{self.price}, Rooms: {self.number_of_rooms}\"\n",
        "\n",
        "h1 = House(\"123 Green Street\", 5000000)\n",
        "m1 = Mansion(\"45 Royal Avenue\", 20000000, 15)\n",
        "\n",
        "print(h1.get_info())\n",
        "print(m1.get_info())"
      ],
      "metadata": {
        "colab": {
          "base_uri": "https://localhost:8080/",
          "height": 0
        },
        "id": "LNZ6w3Eg6XOv",
        "outputId": "a76d9980-9d81-44a6-89a9-b2954ed2b151"
      },
      "execution_count": 17,
      "outputs": [
        {
          "output_type": "stream",
          "name": "stdout",
          "text": [
            "House located at 123 Green Street, Price: ₹5000000\n",
            "Mansion located at 45 Royal Avenue, Price: ₹20000000, Rooms: 15\n"
          ]
        }
      ]
    },
    {
      "cell_type": "code",
      "source": [],
      "metadata": {
        "id": "WVHYuKRo7H1f"
      },
      "execution_count": null,
      "outputs": []
    }
  ]
}