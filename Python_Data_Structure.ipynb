{
  "nbformat": 4,
  "nbformat_minor": 0,
  "metadata": {
    "colab": {
      "provenance": []
    },
    "kernelspec": {
      "name": "python3",
      "display_name": "Python 3"
    },
    "language_info": {
      "name": "python"
    }
  },
  "cells": [
    {
      "cell_type": "markdown",
      "source": [
        "#Data types and Structure Questions"
      ],
      "metadata": {
        "id": "ctJQ9ZgWmfcl"
      }
    },
    {
      "cell_type": "markdown",
      "source": [
        "# **1.  What are data structures, and why are they important ?**\n",
        "\n",
        "  - Data structure is a way of organizing and storing data so that it can be accessed and manipulated efficiently.\n",
        "  \n",
        "  it includes - lists, sets, tuples, dictionaries, stacks,arrays etc\n",
        "\n",
        "  - **Why data structure are important** -->\n",
        "  -> Memory optimization - proper choice of data structure can reduce memory usage\n",
        "\n",
        "  -> Efficiency - it helps in fast access of operations like insertion, deletion of data.\n",
        "\n",
        "  -> Organization - it keeps the data in structured format that we can easily manipulate it.\n",
        "\n",
        "  -> Scalability - helpfull in handling large data sets in applications"
      ],
      "metadata": {
        "id": "-cdm1pUOmwE9"
      }
    },
    {
      "cell_type": "markdown",
      "source": [
        "# **2. Explain the difference between mutable and immutable data types with examples ?**\n",
        "\n",
        "- Mutable objects are those objects which can be changed after created ( with same memory reference )\n",
        "**example - list, sets, dict*\n",
        "```\n",
        "myData = [1,2,3]\n",
        "myData[0] = 100\n",
        "print(myData)           #[100, 2, 3]\n",
        "```\n",
        "\n",
        "\n",
        "\n",
        "- Immutable objects are those objects can not be changed and any change created a new memory reference\n",
        "**example - int, float, str*\n",
        "```\n",
        "myNewData = (1,2,3)\n",
        "myNewData[0] = 900\n",
        "print(myNewData)      #TypeError : 'tuple' object does not support item assignment\n",
        "```"
      ],
      "metadata": {
        "id": "DHMNpfz0q1j-"
      }
    },
    {
      "cell_type": "markdown",
      "source": [
        "# **3. What are the main differences between lists and tuples in Python ?**\n",
        "\n",
        "- Differences between lists and tuples -->\n",
        "-> Mutability - **Lists are mutable** and **tuples are immutable**\n",
        "-> Syntax - **List create with [ square bracket ]** and **tuples are created with ( Parenthesis )**\n",
        "-> Use cases - List are used for **dynamic data** and tuples are used for **fixed data**\n",
        "-> Memory uses - Tuples are uses less memory than lists\n",
        "-> performance - lists are slower than tuples\n"
      ],
      "metadata": {
        "id": "Vh-Cg-dXu2_N"
      }
    },
    {
      "cell_type": "markdown",
      "source": [
        "# **4. Describe how dictionaries store data ?**\n",
        "\n",
        "- Dictionaries stores the data in key - value pair where all the keys are unique.\n",
        "-> it allows the faster access, update and delete of data using keys\n",
        "->  keys are used to identify the data\n",
        "-> values are nothing but the data which is associated with keys\n"
      ],
      "metadata": {
        "id": "RczuIgGaxeNs"
      }
    },
    {
      "cell_type": "markdown",
      "source": [
        "# **5. Why might you use a set instead of a list in Python ?**\n",
        "\n",
        "- We might use set instead of list in  python because -  \n",
        "- **No duplicates** - sets automatic removes duplicates\n",
        "```\n",
        "my_set = {1, 2, 2, 3}  # Output: {1, 2, 3}\n",
        "my_list = [1, 2, 2, 3] # Output: [1, 2, 2, 3]\n",
        "```\n",
        "- **Faster checking** - Checking if an element exists in a set is much faster (average O(1)) because sets use hashing, whereas lists take O(n) time.\n",
        "\n",
        "- **Mathematical operators** - sets allows us to use operations like union, intersection and differences which helps us to compare data\n",
        "\n",
        "\n",
        "- We can use a set when we need unique items and fast lookups, and a list when we care about order or duplicates.\n",
        "\n",
        "\n"
      ],
      "metadata": {
        "id": "WKBCazRU1dv1"
      }
    },
    {
      "cell_type": "markdown",
      "source": [
        "# **6. What is a string in Python, and how is it different from a list ?**\n",
        "\n",
        "- A string is a sequence of characters enclosed within single, double, triple quotes according to situations. string represent the textual data which can be manipulated with string methods\n",
        "\n",
        "- String is different from list in terms of ----->\n",
        "\n",
        "- **Data type** - string stores only characters data and lists stores any type of data like int, float, string.\n",
        "\n",
        "- **Mutability** - strings are immutable and lists are mutable\n",
        "\n",
        "- **Representation** : Strings are written inside quotes (' ', \" \"), while lists are written inside square brackets [ ].\n",
        "\n",
        "- **Modification** : You cannot directly change a character in a string, but you can change, add, or remove elements in a list."
      ],
      "metadata": {
        "id": "Dx9qY92M3QkR"
      }
    },
    {
      "cell_type": "markdown",
      "source": [
        "# **7.  How do tuples ensure data integrity in Python ?**\n",
        "\n",
        "- Tuples ensures data integrity in python because they are immutable and once the tuple is created its element can not be added or removed\n",
        "\n",
        "- when the data is not changes accidentally then it is safe choice\n",
        "- They prevent unintentional changes in critical data, which is important for constants, configurations, or keys in dictionaries.\n",
        "\n",
        "- example -->\n",
        "```\n",
        "config = (\"localhost\", 8080)  \n",
        "# config[0] = \"127.0.0.1\"  # ❌ Not allowed  \n",
        "```\n",
        "- Predictable behavior : No unexpected changes in tuple data make debugging and tracking logic easier.\n",
        "\n",
        "- Thread - safety - In multi threaded programming, immutable data structures like tuples reduce the chances of data corruption with modifications\n",
        ""
      ],
      "metadata": {
        "id": "GgLdKmfR50JN"
      }
    },
    {
      "cell_type": "markdown",
      "source": [
        "#**8. What is a hash table, and how does it relate to dictionaries in Python ?**\n",
        "\n",
        "- A hash - table is a data structure that stores data in key - value pairs and use a hash function to compute the index where the value will be stored\n",
        "\n",
        "- In Python, a dictionary is implemented using a hash table internally. When you create a dictionary and add a key-value pair, Python calculates the hash of the key and stores the value at a position in memory based on that hash. This is why dictionary operations like dict[key] are usually very fast (average O(1) time complexity).\n",
        "```\n",
        "my_Data  = {\"name\":\"Joe\" , \"role\":\"student\"}\n",
        "# 'name' and 'role' are keys stored using their hash values\n",
        "```\n",
        "\n",
        "- So, dictionaries in Python are built on top of hash tables, which is why they require keys to be hashable (like strings, numbers, or tuples)\n",
        "\n",
        "- hash tables allows dict to lookup data very fast , even with the large amount of data\n"
      ],
      "metadata": {
        "id": "0GJkfYdU8vHU"
      }
    },
    {
      "cell_type": "markdown",
      "source": [
        "#**9. Can lists contain different data types in Python ?**\n",
        "\n",
        "- Yes, lists can store multiple data type in python, it can holds data type like int , float,  string , bool and also nested list and it is because python lists are dynamic in nature and it stores refrences of objects not fixed - type elements\n",
        "\n",
        "- example ---> my_list = [10, \"Hello\", 3.14, True, [1, 2, 3]]\n",
        "print(my_list)"
      ],
      "metadata": {
        "id": "dE_BE0BL-vXf"
      }
    },
    {
      "cell_type": "markdown",
      "source": [
        "#**10 . Explain why strings are immutable in Python ?**\n",
        "\n",
        "- Strings in python are immutable, it means once it is created then it is not changed, it is because string is designed to hashable and memory - efficient\n",
        "\n",
        "- strings are immutable also because -->\n",
        "-> Data integrity - prevents accidental changes and ensure the reliable behavior in programming\n",
        "-> Hashability - strings need to be used as keys in dict and elements in sets\n",
        "-> Performance optimization : Immutable strings can be stored and accessed in a way that speeds up certain operations\n",
        "-> Thread safety - As we know string can not be modified they can shared between threads without risk of corrupt programm\n",
        "\n"
      ],
      "metadata": {
        "id": "H2wDP7BmSmTL"
      }
    },
    {
      "cell_type": "markdown",
      "source": [
        "#**11 . What advantages do dictionaries offer over lists for certain tasks ?**\n",
        "\n",
        "- The advantages do dictionaries offer over lists for certain tasks are following -\n",
        "-> Dynamic and flexible : Keys can be number, strings and even tuples making dict more versatile\n",
        "-> Faster lookup : Dictionaries use hash table , So key based lookups are much more faster with O(1) with compare to list that is O(n)\n",
        "-> Direct access : We can search values with keys without searching the whole collection of data\n",
        "->Better for Mapped Data : Ideal for scenarios where each piece of data has a unique identifier, like storing user details by username.  \n",
        "-> Unordered but organized : Data is stored in a way that’s easy to manage when you care about associations rather than order.\n"
      ],
      "metadata": {
        "id": "w8gK4FtZVlYj"
      }
    },
    {
      "cell_type": "markdown",
      "source": [
        "#**12 .  Describe a scenario where using a tuple would be preferable over a list ?**\n",
        "\n",
        "- Scenario where tuples is preferable over a list are ---->\n",
        "- Color codes (RGB) – Represents fixed values that should not change.\n",
        "```\n",
        "color = (255, 255, 255)\n",
        "```\n",
        "-> using tuples in this case ensures data integrity because tuples are immutables\n",
        "-> tuples provide less memory usage and better performance than list which is useful for large datasets that are read only  \n",
        "-> Tuples can be used as dictionary keys (unlike lists), making them ideal for situations where the data needs to be hashed or stored in a set."
      ],
      "metadata": {
        "id": "pvgLtMAnXagJ"
      }
    },
    {
      "cell_type": "markdown",
      "source": [
        "#**13 . How do sets handle duplicate values in Python ?**\n",
        "\n",
        "- Sets in python **do not allow duplicate values** because sets are based on hashing and every element is unique, it automatically remove duplicate values\n",
        "```\n",
        "my_set = {1, 2, 2, 3}\n",
        "print(my_set)  \n",
        "# Output: {1, 2, 3}\n",
        "```\n",
        "\n"
      ],
      "metadata": {
        "id": "mzUJnRCRjZSx"
      }
    },
    {
      "cell_type": "markdown",
      "source": [
        "#**14 .  How does the “in” keyword work differently for lists and dictionaries ?**\n",
        "\n",
        "- The in keyword checks membership, but it works differently for lists and dictionaries:\n",
        "\n",
        "- lists -->\n",
        "-> ' in ' checks whether value exists in the lists\n",
        "-> it searches element by element\n",
        "->\n",
        "```\n",
        "my_Data = [1,2,3,4]\n",
        "print(2 in my_Data)             # True (because 2 is in the my_Data)\n",
        "```\n",
        "\n",
        "\n",
        "- Dictonaries -->\n",
        "-> ' in ' checks whether a keys is exist in dict or not (NOT VALUES)\n",
        "-> This is done by hashing so it is faster\n",
        "->\n",
        "```\n",
        "my_dict = {\"a\": 1, \"b\": 2}\n",
        "print(\"a\" in my_dict)   # True (checks for key)\n",
        "print(1 in my_dict)     # False (values are not checked by default)\n",
        "```\n",
        "\n",
        "\n"
      ],
      "metadata": {
        "id": "9S3zPNpgkYtW"
      }
    },
    {
      "cell_type": "markdown",
      "source": [
        "#**15 .   Can you modify the elements of a tuple? Explain why or why not ?**\n",
        "\n",
        "- No we can not modify the elements of tuple because tuples are immutable once they are created there content can not be changed\n",
        "- the nature of immutablity nature of tuples allows it for data integrity and making them useful for fixed data\n",
        "\n",
        "- Example -\n",
        "```\n",
        "my_data = (1,2,3)\n",
        "my_data[0] = 999\n",
        "print(my_data)            # ❌ This will raise a TypeError\n",
        "```\n",
        "\n",
        "- tuples stores references to a object in a fixed structure\n",
        "\n",
        "- However, if a tuple contains a mutable object (like a list), you can modify the object inside it, but not the tuple itself:\n",
        "\n",
        "-\n",
        "```\n",
        "my_tuple = (1, [2, 3])\n",
        "my_tuple[1].append(4)  # ✅ This works because the list inside the tuple is mutable\n",
        "print(my_tuple)  # (1, [2, 3, 4])\n",
        "```\n",
        "\n",
        "\n"
      ],
      "metadata": {
        "id": "VNa6GHQzoJKI"
      }
    },
    {
      "cell_type": "markdown",
      "source": [
        "#**16 .  What is a nested dictionary, and give an example of its use case ?**\n",
        "\n",
        "- A nested dictionaries in python is where values themselves are dictionaries and it is used to store hierarchical or structure data in key - value pairs\n",
        "\n",
        "- example -->\n",
        "```\n",
        "student_data = {\n",
        "    \"student1\": {\"name\": \"Alice\", \"age\": 20, \"grade\": \"A\"},\n",
        "    \"student2\": {\"name\": \"Bob\", \"age\": 22, \"grade\": \"B\"}\n",
        "}\n",
        "```\n",
        "\n",
        "- Use cases -\n",
        "- Storing structured data such as database-like records or JSON data.\n",
        "\n",
        "- Example: In a school management system, each student can have details like name, age, and grade stored inside a nested dictionary.\n",
        "\n",
        "\n"
      ],
      "metadata": {
        "id": "0jVMadIUp6pF"
      }
    },
    {
      "cell_type": "markdown",
      "source": [
        "#**17 .  Describe the time complexity of accessing elements in a dictionary ?**\n",
        "\n",
        "- Time complexity of accessing elements in  dictionary --\n",
        "\n",
        "- Average case :\n",
        "-> Accessing an elements with key usually takes O(1) time because dictionaries in python implemented using hash - tables which allow constant time lookups on an average\n",
        "\n",
        "- Worst case :\n",
        "-> In rare cases of hash collisions, the time complexity can degrade to O(n), but this is extremely uncommon in practice because Python uses a good hashing mechanism.\n"
      ],
      "metadata": {
        "id": "0gbCQImYrJe6"
      }
    },
    {
      "cell_type": "markdown",
      "source": [
        "#**18 . In what situations are lists preferred over dictionaries ?**\n",
        "\n",
        "- Situations where lists are preferred over dictionaries\n",
        "-Index based Access : When we need to access the elements by their index positions instead of key\n",
        "\n",
        "- Ordered collection of elements : when the order of item is priority and we want to maintain a sequence order\n",
        "\n",
        "- No unique key requirement : When duplicate elements are allowed\n",
        "\n",
        "- Small datasets :  when working with small datasets ( where key value pair is not required )\n",
        "\n",
        "- Iteration over values : When you want to loop through elements directly without worrying about keys.\n",
        "\n",
        "- Lightweight Data Structure : Lists have less overhead than dictionaries if you only need simple sequential data.\n"
      ],
      "metadata": {
        "id": "KtJbeQUqsjHT"
      }
    },
    {
      "cell_type": "markdown",
      "source": [
        "#**19 .  Why are dictionaries considered unordered, and how does that affect data retrieval ?**\n",
        "\n",
        "- Impact of data retrieval :\n",
        "-> We cannot rely on the position of elements like in a list (index-based access is not possible).\n",
        "-> We access values by their keys, not by order.\n",
        "-> The order of insertion is preserved only from Python 3.7+, but it's still not intended for operations that depend on positional ordering.\n",
        "\n",
        "- Unordered Nature :\n",
        "-> Dictionaries store data as key-value pairs using a hash table. The keys are hashed, and the values are stored based on the hash, not in the order you insert them.\n"
      ],
      "metadata": {
        "id": "2umzIc0NujtF"
      }
    },
    {
      "cell_type": "markdown",
      "source": [
        "#**20 .  Explain the difference between a list and a dictionary in terms of data retrieval. ?**\n",
        "\n",
        "\n",
        "- Differences between list and dictionary in terms of data retrieval\n",
        "- Access Methods :---\n",
        "-> List: Elements are retrieved using index positions (integer-based access).\n",
        "-> Example -->\n",
        "```\n",
        "my_list = [10, 20, 30]\n",
        "print(my_list[1])  # Output: 20\n",
        "```\n",
        "->Dictionary: Elements are retrieved using keys (hash-based access).\n",
        "\n",
        "- Lookup speed :---\n",
        "-> List: Index lookup is O(1), but searching by value is O(n) because it requires scanning all elements.\n",
        "-> Dictionary: Key lookup is O(1) on average due to hashing.\n",
        "\n",
        "- Data organization :---\n",
        "-> List: Stores elements in an ordered sequence and allows duplicates.\n",
        "-> Dictionary: Stores data as key-value pairs; keys are unique.\n",
        "\n",
        "- When to use :---\n",
        "-> List: Best for ordered collections where position matters.\n",
        "-> Dictionary: Best for fast lookups based on a unique identifier (key).\n",
        "\n",
        "\n",
        "\n"
      ],
      "metadata": {
        "id": "2HXc7ljIvecU"
      }
    },
    {
      "cell_type": "markdown",
      "source": [
        "\n",
        "\n",
        "# Practical Questions"
      ],
      "metadata": {
        "id": "y6vUMPGQw97_"
      }
    },
    {
      "cell_type": "markdown",
      "source": [
        "#**1 .  Write a code to create a string with your name and print it ?**\n"
      ],
      "metadata": {
        "id": "0uaLb3whxDVV"
      }
    },
    {
      "cell_type": "code",
      "source": [
        "my_intro = input(\" Enter your name \")\n",
        "print(f\"My name is {my_intro}\")"
      ],
      "metadata": {
        "colab": {
          "base_uri": "https://localhost:8080/",
          "height": 0
        },
        "id": "8ORAbbF0xaZT",
        "outputId": "ea7b9e1e-e2da-4823-ceed-affbecb4c98b"
      },
      "execution_count": 2,
      "outputs": [
        {
          "output_type": "stream",
          "name": "stdout",
          "text": [
            " Enter your name himu\n",
            "My name is himu\n"
          ]
        }
      ]
    },
    {
      "cell_type": "code",
      "source": [],
      "metadata": {
        "id": "J0OMSvw_xogK"
      },
      "execution_count": null,
      "outputs": []
    },
    {
      "cell_type": "markdown",
      "source": [
        "#**2 . Write a code to find the length of the string \"Hello World\" ?**"
      ],
      "metadata": {
        "id": "yOyLoMhZx28i"
      }
    },
    {
      "cell_type": "code",
      "source": [
        "my_data = \"Hello World\"\n",
        "print(f\"The length of given string is :  {len(my_data)}\")"
      ],
      "metadata": {
        "colab": {
          "base_uri": "https://localhost:8080/",
          "height": 0
        },
        "id": "U5eEd7Qfx8Zr",
        "outputId": "acf12b0a-86ff-4525-b9ee-c577991cea58"
      },
      "execution_count": 85,
      "outputs": [
        {
          "output_type": "stream",
          "name": "stdout",
          "text": [
            "The length of given string is :  11\n"
          ]
        }
      ]
    },
    {
      "cell_type": "markdown",
      "source": [
        "#**3 . Write a code to slice the first 3 characters from the string \"Python Programming\" ?**"
      ],
      "metadata": {
        "id": "9MbtZkgSy11y"
      }
    },
    {
      "cell_type": "code",
      "source": [
        "string = \"Python Programming\"\n",
        "print(string[:3])\n"
      ],
      "metadata": {
        "colab": {
          "base_uri": "https://localhost:8080/",
          "height": 0
        },
        "id": "thC052ycy8OK",
        "outputId": "7319a951-32e5-4ef2-ae64-12111439815d"
      },
      "execution_count": 84,
      "outputs": [
        {
          "output_type": "stream",
          "name": "stdout",
          "text": [
            "Pyt\n"
          ]
        }
      ]
    },
    {
      "cell_type": "markdown",
      "source": [
        "#**4 . Write a code to convert the string \"hello\" to uppercase ?**"
      ],
      "metadata": {
        "id": "OyX7J646d2b9"
      }
    },
    {
      "cell_type": "code",
      "source": [
        "string = \"hello\"\n",
        "print(f\"the upper case of given string is : {string.upper()}\")"
      ],
      "metadata": {
        "colab": {
          "base_uri": "https://localhost:8080/",
          "height": 0
        },
        "id": "CWuJcZZqyIzl",
        "outputId": "a7a6704c-82b5-4e8c-9862-e16dc33d6efc"
      },
      "execution_count": 18,
      "outputs": [
        {
          "output_type": "stream",
          "name": "stdout",
          "text": [
            "the upper case of given string is : HELLO\n"
          ]
        }
      ]
    },
    {
      "cell_type": "markdown",
      "source": [
        "#**5 .  Write a code to replace the word \"apple\" with \"orange\" in the string \"I like apple\" ?**"
      ],
      "metadata": {
        "id": "vhVZLyX2emoz"
      }
    },
    {
      "cell_type": "code",
      "source": [
        "string_data = \"I Like apple\"\n",
        "replaced_string = string_data.replace(\"apple\",\"orange\")\n",
        "print(replaced_string)"
      ],
      "metadata": {
        "colab": {
          "base_uri": "https://localhost:8080/",
          "height": 0
        },
        "id": "D-Ba2h6ieZFD",
        "outputId": "1de052db-e7dc-40e6-8ddb-4f553116d8b3"
      },
      "execution_count": 23,
      "outputs": [
        {
          "output_type": "stream",
          "name": "stdout",
          "text": [
            "I Like orange\n"
          ]
        }
      ]
    },
    {
      "cell_type": "markdown",
      "source": [
        "#**6 . Write a code to create a list with numbers 1 to 5 and print it ?**"
      ],
      "metadata": {
        "id": "Ol23scBsgl1e"
      }
    },
    {
      "cell_type": "code",
      "source": [
        "numbers = []\n",
        "\n",
        "for i in range(1,6):\n",
        "  numbers.append(i)\n",
        "\n",
        "print(numbers)        # this shhould be outside the loop"
      ],
      "metadata": {
        "colab": {
          "base_uri": "https://localhost:8080/",
          "height": 0
        },
        "id": "Jj_hO85qgqgc",
        "outputId": "80db2981-59ee-477b-86ee-d863ee0d2698"
      },
      "execution_count": 31,
      "outputs": [
        {
          "output_type": "stream",
          "name": "stdout",
          "text": [
            "[1, 2, 3, 4, 5]\n"
          ]
        }
      ]
    },
    {
      "cell_type": "markdown",
      "source": [
        "#**7 . Write a code to append the number 10 to the list [1, 2, 3, 4] ?**"
      ],
      "metadata": {
        "id": "BJs6QQNAh3eK"
      }
    },
    {
      "cell_type": "code",
      "source": [
        "list_item = [1,2,3,4]\n",
        "\n",
        "list_item.append(10)\n",
        "print(f\"the updated list items are now : {list_item}\")"
      ],
      "metadata": {
        "colab": {
          "base_uri": "https://localhost:8080/",
          "height": 0
        },
        "id": "PFe2wvMrh-g8",
        "outputId": "c4bd423e-d5a1-4dbe-996f-cdb769b77cef"
      },
      "execution_count": 32,
      "outputs": [
        {
          "output_type": "stream",
          "name": "stdout",
          "text": [
            "the updated list items are now : [1, 2, 3, 4, 10]\n"
          ]
        }
      ]
    },
    {
      "cell_type": "markdown",
      "source": [
        "#**8 . Write a code to remove the number 3 from the list [1, 2, 3, 4, 5] ?**"
      ],
      "metadata": {
        "id": "VIpmkYiaiTja"
      }
    },
    {
      "cell_type": "code",
      "source": [
        "list_data = [1,2,3,4,5]\n",
        "list_data.remove(3)\n",
        "print(f\"the updated list after removed item is : {list_data}\")"
      ],
      "metadata": {
        "colab": {
          "base_uri": "https://localhost:8080/",
          "height": 0
        },
        "id": "d-yYjapriYyZ",
        "outputId": "35acf407-76d8-4538-ebbd-1fd7b44f3738"
      },
      "execution_count": 33,
      "outputs": [
        {
          "output_type": "stream",
          "name": "stdout",
          "text": [
            "the updated list after removed item is : [1, 2, 4, 5]\n"
          ]
        }
      ]
    },
    {
      "cell_type": "markdown",
      "source": [
        "#**9 .  Write a code to access the second element in the list ['a', 'b', 'c', 'd'] ?**"
      ],
      "metadata": {
        "id": "I7fyBWN9i0xJ"
      }
    },
    {
      "cell_type": "code",
      "source": [
        "items = ['a','b','c','d']\n",
        "print(f\"the second element of the list is : {items[1]}\")          # 2nd element position at index 1"
      ],
      "metadata": {
        "colab": {
          "base_uri": "https://localhost:8080/",
          "height": 0
        },
        "id": "gEVooVjmi92p",
        "outputId": "91eeda60-0c67-4938-d18f-b601cf014c19"
      },
      "execution_count": 35,
      "outputs": [
        {
          "output_type": "stream",
          "name": "stdout",
          "text": [
            "the second element of the list is : b\n"
          ]
        }
      ]
    },
    {
      "cell_type": "markdown",
      "source": [
        "#**10 .  Write a code to reverse the list [10, 20, 30, 40, 50].?**\n",
        "\n",
        "- reversing here we can do it with two methods - one is by using inbuilt funtion and other is by using slicing method"
      ],
      "metadata": {
        "id": "VufM6-v9johF"
      }
    },
    {
      "cell_type": "code",
      "source": [
        "# by using inbuilt function\n",
        "\n",
        "item_list = [10,20,30,40,50]\n",
        "\n",
        "item_list.reverse()\n",
        "\n",
        "print(f\"the reverse list items are : {item_list}\")\n",
        "\n",
        "\n",
        "# by using slicing method\n",
        "\n",
        "item_data = [10,20,30,40,50]\n",
        "\n",
        "print(f\"the reverse list items with slice method : {item_data[::-1]}\")\n",
        "\n"
      ],
      "metadata": {
        "colab": {
          "base_uri": "https://localhost:8080/",
          "height": 0
        },
        "id": "2TOmwXKHjKsG",
        "outputId": "8e24dfa2-15f2-45e4-958e-21158dc5d02c"
      },
      "execution_count": 38,
      "outputs": [
        {
          "output_type": "stream",
          "name": "stdout",
          "text": [
            "the reverse list items are : [50, 40, 30, 20, 10]\n",
            "the reverse list items are : [50, 40, 30, 20, 10]\n"
          ]
        }
      ]
    },
    {
      "cell_type": "markdown",
      "source": [
        "#**11 .   Write a code to create a tuple with the elements 100, 200, 300 and print it.?**"
      ],
      "metadata": {
        "id": "Qbz18y65mfJh"
      }
    },
    {
      "cell_type": "code",
      "source": [
        "my_tuple = (100,200,300)\n",
        "print(f\"tuples data are : {my_tuple}\")"
      ],
      "metadata": {
        "colab": {
          "base_uri": "https://localhost:8080/",
          "height": 0
        },
        "id": "8c9X0bH8m0l6",
        "outputId": "53c58caa-24f3-4efb-a690-c1c319da1a66"
      },
      "execution_count": 39,
      "outputs": [
        {
          "output_type": "stream",
          "name": "stdout",
          "text": [
            "tuples data are : (100, 200, 300)\n"
          ]
        }
      ]
    },
    {
      "cell_type": "markdown",
      "source": [
        "#**12 .    Write a code to access the second-to-last element of the tuple ('red', 'green', 'blue', 'yellow') ?**"
      ],
      "metadata": {
        "id": "qFlP6uIVnBqg"
      }
    },
    {
      "cell_type": "code",
      "source": [
        "my_elements = ('red','green','blue','yellow')\n",
        "my_updated_item = my_elements[-2]\n",
        "\n",
        "print(f\"the second last element of the tuple is : {my_updated_item}\")"
      ],
      "metadata": {
        "colab": {
          "base_uri": "https://localhost:8080/",
          "height": 0
        },
        "id": "Is1KrdWPm-Ly",
        "outputId": "7c4853c5-9c7c-4800-c8c8-96a640adcd33"
      },
      "execution_count": 40,
      "outputs": [
        {
          "output_type": "stream",
          "name": "stdout",
          "text": [
            "the second last element of the tuple is : blue\n"
          ]
        }
      ]
    },
    {
      "cell_type": "markdown",
      "source": [
        "#**13 .     Write a code to find the minimum number in the tuple (10, 20, 5, 15) ?**"
      ],
      "metadata": {
        "id": "R4lNb5-toWs8"
      }
    },
    {
      "cell_type": "code",
      "source": [
        "numbers = (10,20,5,15)\n",
        "\n",
        "min_num = min(numbers)\n",
        "\n",
        "print(f\"minimum number in the tuple is : {min_num}\")"
      ],
      "metadata": {
        "colab": {
          "base_uri": "https://localhost:8080/",
          "height": 0
        },
        "id": "phPuqQYIn1qD",
        "outputId": "b07a4636-cff2-4f40-d13e-edc10c10549c"
      },
      "execution_count": 42,
      "outputs": [
        {
          "output_type": "stream",
          "name": "stdout",
          "text": [
            "minimum number in the tuple is : 5\n"
          ]
        }
      ]
    },
    {
      "cell_type": "markdown",
      "source": [
        "#**14 . Write a code to find the index of the element \"cat\" in the tuple ('dog', 'cat', 'rabbit'). ?**"
      ],
      "metadata": {
        "id": "PtYeyfzBqh5L"
      }
    },
    {
      "cell_type": "code",
      "source": [
        "animals = ('dog','cat','rabbit')\n",
        "\n",
        "cat_index = animals.index('cat')\n",
        "\n",
        "print(f\"the index of cat is : {cat_index}\")"
      ],
      "metadata": {
        "colab": {
          "base_uri": "https://localhost:8080/",
          "height": 0
        },
        "id": "AyKyhA9LqX9s",
        "outputId": "2d7219d6-efff-4a65-c341-47fe7fd23afc"
      },
      "execution_count": 43,
      "outputs": [
        {
          "output_type": "stream",
          "name": "stdout",
          "text": [
            "the index of cat is : 1\n"
          ]
        }
      ]
    },
    {
      "cell_type": "markdown",
      "source": [
        "#**15 .  Write a code to create a tuple containing three different fruits and check if \"kiwi\" is in it ?**"
      ],
      "metadata": {
        "id": "am5aJaq8rGeY"
      }
    },
    {
      "cell_type": "code",
      "source": [
        "fruits = (\"banana\",\"apple\",\"orange\")\n",
        "\n",
        "if 'kiwi' in fruits:\n",
        "  print(\"kiwi is in the tuple\")\n",
        "else:\n",
        "  print(\"kiwi is not in the tuple\")"
      ],
      "metadata": {
        "colab": {
          "base_uri": "https://localhost:8080/",
          "height": 0
        },
        "id": "ysyJ9fuPq-BG",
        "outputId": "cde3c9d4-8706-4432-aea3-4a3bda91c421"
      },
      "execution_count": 45,
      "outputs": [
        {
          "output_type": "stream",
          "name": "stdout",
          "text": [
            "kiwi is not in the tuple\n"
          ]
        }
      ]
    },
    {
      "cell_type": "markdown",
      "source": [
        "#**16 . Write a code to create a set with the elements 'a', 'b', 'c' and print it**"
      ],
      "metadata": {
        "id": "D55jPRqwsT8i"
      }
    },
    {
      "cell_type": "code",
      "source": [
        "my_set = {'a','b','c'}\n",
        "\n",
        "print(f\"the set items are : {my_set}\")"
      ],
      "metadata": {
        "colab": {
          "base_uri": "https://localhost:8080/",
          "height": 0
        },
        "id": "qGBDbBMyr1vu",
        "outputId": "c7857570-d576-45e4-cee4-e43674eb884d"
      },
      "execution_count": 48,
      "outputs": [
        {
          "output_type": "stream",
          "name": "stdout",
          "text": [
            "the set items are : {'b', 'a', 'c'}\n"
          ]
        }
      ]
    },
    {
      "cell_type": "markdown",
      "source": [
        "#**17 . Write a code to clear all elements from the set {1, 2, 3, 4, 5}.**"
      ],
      "metadata": {
        "id": "GlLzSO1Psyst"
      }
    },
    {
      "cell_type": "code",
      "source": [
        "set_items = {1,2,3,4,5}\n",
        "\n",
        "set_items.clear()\n",
        "\n",
        "print(f\"the set items after clear : {set_items}\")"
      ],
      "metadata": {
        "colab": {
          "base_uri": "https://localhost:8080/",
          "height": 0
        },
        "id": "aSY_PxyAsnJv",
        "outputId": "e81ce6b0-4e7a-4a39-de22-2d97b1124eba"
      },
      "execution_count": 49,
      "outputs": [
        {
          "output_type": "stream",
          "name": "stdout",
          "text": [
            "the set items after clear : set()\n"
          ]
        }
      ]
    },
    {
      "cell_type": "markdown",
      "source": [
        "#**18 . Write a code to remove the element 4 from the set {1, 2, 3, 4}.**"
      ],
      "metadata": {
        "id": "qvs9M9Spu4cL"
      }
    },
    {
      "cell_type": "code",
      "source": [
        "numbers = {1,2,3,4}\n",
        "\n",
        "numbers.remove(4)\n",
        "\n",
        "print(f\"the set items after removing 4 : {numbers}\")"
      ],
      "metadata": {
        "colab": {
          "base_uri": "https://localhost:8080/",
          "height": 0
        },
        "id": "SZoa5oqntKax",
        "outputId": "1f9cad36-0333-4e10-c223-6d7a25de8c12"
      },
      "execution_count": 50,
      "outputs": [
        {
          "output_type": "stream",
          "name": "stdout",
          "text": [
            "the set items after removing 4 : {1, 2, 3}\n"
          ]
        }
      ]
    },
    {
      "cell_type": "markdown",
      "source": [
        "#**19 . Write a code to find the union of two sets {1, 2, 3} and {3, 4, 5}.**"
      ],
      "metadata": {
        "id": "00MPyJervjAP"
      }
    },
    {
      "cell_type": "code",
      "source": [
        "set_data1 = {1,2,3}\n",
        "set_data2 = {3,4,5}\n",
        "\n",
        "union_sets = set_data1.union(set_data2)\n",
        "\n",
        "print(f\"the union of two given sets is : {union_sets}\")"
      ],
      "metadata": {
        "colab": {
          "base_uri": "https://localhost:8080/",
          "height": 0
        },
        "id": "BOw7tbcjvTvy",
        "outputId": "31b6b81f-173c-499a-ca86-ea607d0ad9ec"
      },
      "execution_count": 51,
      "outputs": [
        {
          "output_type": "stream",
          "name": "stdout",
          "text": [
            "the union of two given sets is : {1, 2, 3, 4, 5}\n"
          ]
        }
      ]
    },
    {
      "cell_type": "markdown",
      "source": [
        "#**20 . Write a code to find the intersection of two sets {1, 2, 3} and {2, 3, 4}**"
      ],
      "metadata": {
        "id": "c48YUzmbwdgo"
      }
    },
    {
      "cell_type": "code",
      "source": [
        "set1 = {1,2,3}\n",
        "set2 = {2,3,4}\n",
        "\n",
        "intersection_sets = set1.intersection(set2)\n",
        "\n",
        "print(f\"the intersection of two given sets is : {intersection_sets}\")"
      ],
      "metadata": {
        "colab": {
          "base_uri": "https://localhost:8080/",
          "height": 0
        },
        "id": "jd6bqQEIwMJM",
        "outputId": "3cfb7b3e-3ae8-4add-b66d-ea45cadbbeef"
      },
      "execution_count": 52,
      "outputs": [
        {
          "output_type": "stream",
          "name": "stdout",
          "text": [
            "the intersection of two given sets is : {2, 3}\n"
          ]
        }
      ]
    },
    {
      "cell_type": "markdown",
      "source": [
        "#**21 . Write a code to create a dictionary with the keys \"name\", \"age\", and \"city\", and print it**"
      ],
      "metadata": {
        "id": "pb_6rX6xwrxw"
      }
    },
    {
      "cell_type": "code",
      "source": [
        "my_data = {\n",
        "    \"name\":\"Himanshu\",\n",
        "    \"age\":27,\n",
        "    \"city\":\"Varanasi\"\n",
        "}\n",
        "\n",
        "print(f\"the dictionary items are : {my_data}\")\n"
      ],
      "metadata": {
        "colab": {
          "base_uri": "https://localhost:8080/",
          "height": 0
        },
        "id": "KvbaV1GhwlaC",
        "outputId": "d66ee880-b995-437c-c69b-dc4f46c0b5e0"
      },
      "execution_count": 54,
      "outputs": [
        {
          "output_type": "stream",
          "name": "stdout",
          "text": [
            "the dictionary items are : {'name': 'Himanshu', 'age': 27, 'city': 'Varanasi'}\n"
          ]
        }
      ]
    },
    {
      "cell_type": "markdown",
      "source": [
        "#**22 . Write a code to add a new key-value pair \"country\": \"USA\" to the dictionary {'name': 'John', 'age': 25}**"
      ],
      "metadata": {
        "id": "4VjhkGDe4g9a"
      }
    },
    {
      "cell_type": "code",
      "source": [
        "my_dict = {\n",
        "    'name' : 'John',\n",
        "    'age':25\n",
        "}\n",
        "\n",
        "my_dict['country'] = 'USA'\n",
        "\n",
        "print (f\"the updated dictionary is : {my_dict}\")"
      ],
      "metadata": {
        "colab": {
          "base_uri": "https://localhost:8080/",
          "height": 0
        },
        "id": "DO92xWXVxP0z",
        "outputId": "021b64d3-d19b-4752-c1df-b7e759ce38a4"
      },
      "execution_count": 55,
      "outputs": [
        {
          "output_type": "stream",
          "name": "stdout",
          "text": [
            "the updated dictionary is : {'name': 'John', 'age': 25, 'country': 'USA'}\n"
          ]
        }
      ]
    },
    {
      "cell_type": "markdown",
      "source": [
        "#**23 . Write a code to access the value associated with the key \"name\" in the dictionary {'name': 'Alice', 'age': 30}.**"
      ],
      "metadata": {
        "id": "QMq2ZDlE5BeO"
      }
    },
    {
      "cell_type": "code",
      "source": [
        "my_dict = {\n",
        "    'name':\"Alice\",\n",
        "    'age':30\n",
        "}\n",
        "\n",
        "print(f\"the value of name is : {my_dict.get('name')}\")"
      ],
      "metadata": {
        "colab": {
          "base_uri": "https://localhost:8080/",
          "height": 0
        },
        "id": "FJDgaQOo4-BD",
        "outputId": "ea19f398-0342-4399-d1d3-77e4ff848827"
      },
      "execution_count": 60,
      "outputs": [
        {
          "output_type": "stream",
          "name": "stdout",
          "text": [
            "the value of name is : Alice\n"
          ]
        }
      ]
    },
    {
      "cell_type": "markdown",
      "source": [
        "#**24 . Write a code to remove the key \"age\" from the dictionary {'name': 'Bob', 'age': 22, 'city': 'New York'}.**"
      ],
      "metadata": {
        "id": "N5gflwpj69pG"
      }
    },
    {
      "cell_type": "code",
      "source": [
        "person = {\n",
        "    'name':'Bob',\n",
        "    'age':22,\n",
        "    'city':'New York'\n",
        "}\n",
        "\n",
        "person.pop('age')\n",
        "\n",
        "print(f\"the updated dictionary after removing age is : {person}\")"
      ],
      "metadata": {
        "colab": {
          "base_uri": "https://localhost:8080/",
          "height": 0
        },
        "id": "ccZ-RUE26QzL",
        "outputId": "e3966c5f-e14f-4007-e196-33b1aff05527"
      },
      "execution_count": 61,
      "outputs": [
        {
          "output_type": "stream",
          "name": "stdout",
          "text": [
            "the updated dictionary after removing age is : {'name': 'Bob', 'city': 'New York'}\n"
          ]
        }
      ]
    },
    {
      "cell_type": "markdown",
      "source": [
        "#**25 .  Write a code to check if the key \"city\" exists in the dictionary {'name': 'Alice', 'city': 'Paris'}**"
      ],
      "metadata": {
        "id": "TCrXZJyw7rN1"
      }
    },
    {
      "cell_type": "code",
      "source": [
        "person_data = {\n",
        "    'name':'Alice',\n",
        "    'city':'Paris'\n",
        "}\n",
        "\n",
        "if 'city' in person_data:\n",
        "  print(\"city is present in the dictionary\")\n",
        "else:\n",
        "  print(\"city is not present in dictionary\")"
      ],
      "metadata": {
        "colab": {
          "base_uri": "https://localhost:8080/",
          "height": 0
        },
        "id": "9hMV9I9-7dzr",
        "outputId": "5735ccd2-6a5f-46e2-af52-452a66d31df9"
      },
      "execution_count": 62,
      "outputs": [
        {
          "output_type": "stream",
          "name": "stdout",
          "text": [
            "city is present in the dictionary\n"
          ]
        }
      ]
    },
    {
      "cell_type": "markdown",
      "source": [
        "#**26 .  Write a code to create a list, a tuple, and a dictionary, and print them all**"
      ],
      "metadata": {
        "id": "AfhtguEG8TtV"
      }
    },
    {
      "cell_type": "code",
      "source": [
        "my_list = [ 1,2,3,4 ,\"hello\",False ]\n",
        "my_tuple = (2,3,4,5)\n",
        "my_dict = {\n",
        "    \"name\":\"Himanshu\",\n",
        "    \"age\":27,\n",
        "    \"city\":\"Varanasi\"\n",
        "}\n",
        "\n",
        "print(f\"the list items are : {my_list} and there type is : {type(my_list)}\")\n",
        "print(f\"the tuple items are : {my_tuple} and there type is : {type(my_tuple)}\")\n",
        "print(f\"the dictionary items are : {my_dict} and there type is : {type(my_dict)}\")"
      ],
      "metadata": {
        "colab": {
          "base_uri": "https://localhost:8080/",
          "height": 0
        },
        "id": "avVo_OSP8Pbp",
        "outputId": "bed1ccef-5d93-4a04-8970-7ae34697b28b"
      },
      "execution_count": 82,
      "outputs": [
        {
          "output_type": "stream",
          "name": "stdout",
          "text": [
            "the list items are : [1, 2, 3, 4, 'hello', False] and there type is : <class 'list'>\n",
            "the tuple items are : (2, 3, 4, 5) and there type is : <class 'tuple'>\n",
            "the dictionary items are : {'name': 'Himanshu', 'age': 27, 'city': 'Varanasi'} and there type is : <class 'dict'>\n"
          ]
        }
      ]
    },
    {
      "cell_type": "markdown",
      "source": [
        "#**27 .   Write a code to create a list of 5 random numbers between 1 and 100, sort it in ascending order, and print the result.(replaced)**"
      ],
      "metadata": {
        "id": "kCEVni9k9c_V"
      }
    },
    {
      "cell_type": "code",
      "source": [
        "import random\n",
        "\n",
        "# Create a list of 5 random numbers between 1 and 100\n",
        "random_numbers = [random.randint(1, 100) for _ in range(5)]\n",
        "\n",
        "# Sort the list in ascending order\n",
        "random_numbers.sort()\n",
        "\n",
        "# Print the sorted list\n",
        "print(\"Sorted random numbers:\", random_numbers)\n"
      ],
      "metadata": {
        "colab": {
          "base_uri": "https://localhost:8080/",
          "height": 0
        },
        "id": "8HGtvAOA9Hwi",
        "outputId": "46e54e23-dba3-4694-c613-554266a80e51"
      },
      "execution_count": 69,
      "outputs": [
        {
          "output_type": "stream",
          "name": "stdout",
          "text": [
            "Sorted random numbers: [27, 52, 68, 77, 98]\n"
          ]
        }
      ]
    },
    {
      "cell_type": "markdown",
      "source": [
        "#**28 .  Write a code to create a list with strings and print the element at the third index.**"
      ],
      "metadata": {
        "id": "jXn6jbCF-kJ9"
      }
    },
    {
      "cell_type": "code",
      "source": [
        "my_list = [\"hello\",\"how\",\"are\",\"you\"]\n",
        "\n",
        "print(f\"the element at third index is : {my_list[3]}\")\n",
        "\n",
        "#Python indexing starts at 0,\n",
        "#so my_list[3] is 4th element, not the 3rd. If the question asks 3rd index, my_list[3] is correct. But if it’s 3rd element, it should be my_list[2]."
      ],
      "metadata": {
        "colab": {
          "base_uri": "https://localhost:8080/",
          "height": 0
        },
        "id": "1wNYhcst-HOt",
        "outputId": "8aa7a0e1-406e-4dc2-a273-02ecd7acfbc4"
      },
      "execution_count": 78,
      "outputs": [
        {
          "output_type": "stream",
          "name": "stdout",
          "text": [
            "the element at third index is : you\n"
          ]
        }
      ]
    },
    {
      "cell_type": "markdown",
      "source": [
        "#**29 .   Write a code to combine two dictionaries into one and print the result.**"
      ],
      "metadata": {
        "id": "x4azHmVHDm6z"
      }
    },
    {
      "cell_type": "code",
      "source": [
        "# Define two dictionaries\n",
        "dict1 = {'a': 1, 'b': 2}\n",
        "dict2 = {'c': 3, 'd': 4}\n",
        "\n",
        "# Combine dict2 into dict1\n",
        "dict1.update(dict2)\n",
        "\n",
        "print(\"Combined dictionary:\", dict1)\n"
      ],
      "metadata": {
        "colab": {
          "base_uri": "https://localhost:8080/",
          "height": 0
        },
        "id": "d2KNBhHn_0eB",
        "outputId": "94a74553-51b8-4b7a-d65b-ab4306495609"
      },
      "execution_count": 73,
      "outputs": [
        {
          "output_type": "stream",
          "name": "stdout",
          "text": [
            "Combined dictionary: {'a': 1, 'b': 2, 'c': 3, 'd': 4}\n"
          ]
        }
      ]
    },
    {
      "cell_type": "markdown",
      "source": [
        "#**30 .  Write a code to convert a list of strings into a set.**"
      ],
      "metadata": {
        "id": "rlLG2GOeECmL"
      }
    },
    {
      "cell_type": "code",
      "source": [
        "# List of strings\n",
        "my_list = [\"apple\", \"banana\", \"cherry\", \"apple\", \"date\"]\n",
        "\n",
        "# Convert list to set\n",
        "my_set = set(my_list)\n",
        "\n",
        "\n",
        "print(\"Set format of given string is :\", my_set)\n"
      ],
      "metadata": {
        "colab": {
          "base_uri": "https://localhost:8080/",
          "height": 0
        },
        "id": "7ddcyPAAD6Ys",
        "outputId": "712639cd-d000-40ff-c8aa-4cf846813cd7"
      },
      "execution_count": 77,
      "outputs": [
        {
          "output_type": "stream",
          "name": "stdout",
          "text": [
            "Set format of given string is : {'cherry', 'apple', 'banana', 'date'}\n"
          ]
        }
      ]
    },
    {
      "cell_type": "code",
      "source": [],
      "metadata": {
        "id": "Z11ciQIEEVq0"
      },
      "execution_count": null,
      "outputs": []
    }
  ]
}