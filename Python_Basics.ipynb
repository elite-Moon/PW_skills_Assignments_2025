{
  "nbformat": 4,
  "nbformat_minor": 0,
  "metadata": {
    "colab": {
      "provenance": []
    },
    "kernelspec": {
      "name": "python3",
      "display_name": "Python 3"
    },
    "language_info": {
      "name": "python"
    }
  },
  "cells": [
    {
      "cell_type": "markdown",
      "source": [
        "#Python Basics Questions"
      ],
      "metadata": {
        "id": "kD6a9DZ-wQgM"
      }
    },
    {
      "cell_type": "markdown",
      "source": [
        "# **1. What is Python, and why is it popular ?**\n",
        "  - Python is a high - level programming language that is known for its simplicity, readiblity, versatility and good eco - system for libraries it uses two - step execution process - first compiling the source code into **byte code** and then interpreting the bytecode via **python virtual machine (PVM)**\n",
        "\n",
        "  It is popular because:\n",
        "  - Easy to learn - syntax is close to normal english language\n",
        "  - Rich eco - system - libraries like numpy, panda, matplotlib is used for data analysis\n",
        "  - Strong community support - millions of developers contributing continiously to improve\n",
        "  - Large Standarrd libraries - Python has near about 137,000 libraries"
      ],
      "metadata": {
        "id": "oTu7dHUSwmfY"
      }
    },
    {
      "cell_type": "markdown",
      "source": [
        "# **2.  What is an interpreter in Python  ?**\n",
        "  - An interpretor is the part of python runtime environment that executes bytecode instructions line  by  line\n",
        "\n",
        "  Example:\n",
        "  print(\"Hello, Python Assignment\")\n",
        "  \n",
        "  compiler step: First the code converts into bytecode.\n",
        "  \n",
        "  Interpretor step: The PVM executes the bytecode and show the output to the user\n",
        "\n"
      ],
      "metadata": {
        "id": "FWuHy5GgAcuJ"
      }
    },
    {
      "cell_type": "markdown",
      "source": [
        "# **3.  What are pre-defined keywords in Python   ?**\n",
        "  - Pre - defined keywords in python are reserved words that holds special meaning and have special purpose in python and it is part of syntax rules\n",
        "  to check the keyword list use : help('Keywords).\n",
        "\n",
        "  so in genral keywords are the kind of vocabulary in pythono language\n",
        "\n",
        "  Ex - 'None', 'True', 'and', 'as', 'assert', 'async', 'await',\n",
        " 'break', 'class', 'def', 'elif', 'else', 'except',\n",
        " 'finally', 'for', 'from', 'if', 'import', 'in', 'is', 'not', 'or', 'pass',"
      ],
      "metadata": {
        "id": "2xhiWs0YFYg9"
      }
    },
    {
      "cell_type": "markdown",
      "source": [
        "# **4.  Can keywords be used as variable names ?**\n",
        "  - No, Keywords can not be used as variable name because it is reserved in python language for specific purpoose like it helps to define syntax and structure for programming.\n",
        "  if we use forcefully it throws syntax error\n",
        "\n",
        "  Ex - for = 5  \n",
        "  print(for)\n",
        "  \n",
        "  output - SyntaxError: invalid syntax\n"
      ],
      "metadata": {
        "id": "zYXRTq08IWOr"
      }
    },
    {
      "cell_type": "markdown",
      "source": [
        "# **5. What is mutability in Python  ?**\n",
        "  - mutability is the property of Objects/Containers in python whose state or value can be changed after they are created are called as mutable objects in python and this property is known as mutabality\n",
        "  important thing is during this mutability process memory reference is NOT changed internally ,  Only content value is changed   \n",
        "\n",
        "  mutable types - list, dict, set\n",
        "\n",
        "  Ex -\n",
        "\n",
        "```\n",
        "my_data = [1, 2, 3]\n",
        "print(\"Before change:\", my_data)         # [1, 2, 3]\n",
        "print(\"Memory address:\", id(my_data))    # Example: 140452562076352\n",
        "\n",
        "my_data[0] = 100\n",
        "print(\"After change:\", my_data)          # [100, 2, 3]\n",
        "print(\"Memory address:\", id(my_data))    # Same as before\n",
        "```\n",
        "\n",
        "\n"
      ],
      "metadata": {
        "id": "j7K0gGutKAvY"
      }
    },
    {
      "cell_type": "markdown",
      "source": [
        "# **6. Why are lists mutable, but tuples are immutable  ?**\n",
        "\n",
        "  - Lists in python are mutable because:\n",
        "\n",
        "  -> They are specific for holding dynamic data\n",
        "  -> We can modify the data like update, delete etc\n",
        "  -> The objects stores references to its elements which is resizable elements we can update these without creating new objects\n",
        "\n",
        "  - Tuples are Immutable because:\n",
        "\n",
        "  -> They are specific for holding static data\n",
        "  -> Python not allows to modify elements in Tuples We have to create new tuple object\n",
        "  -> tuples are **hashable** in nature\n",
        "\n",
        "\n",
        "\n",
        "  - Example:\n",
        "\n",
        "  Mutable ->\n",
        "\n",
        "\n",
        "```\n",
        "#  Mutable ->\n",
        "\n",
        "my_list = [1,2,3]\n",
        "print(id(my_list))\n",
        "\n",
        "my_list[0] = 100\n",
        "print(my_list , id(my_list))                    #memory address is same\n",
        "\n",
        "\n",
        "#  Immutable ->\n",
        "\n",
        "my_tuple = (1,2,3)\n",
        "print(id(my_tuple))\n",
        "my_tuple[0] = 0                 #Error:tuple object not support item assignment\n",
        "\n",
        "```"
      ],
      "metadata": {
        "id": "ap7VDXzN9H5R"
      }
    },
    {
      "cell_type": "markdown",
      "source": [
        "# **7. What is the differences between ' == ' and ' is ' operator in Python  ?**\n",
        "\n",
        "- **Eqality operator** ( == )\n",
        "\n",
        " > It compares the value of two objects      \n",
        "\n",
        " > It return **TRUE** when two values are same even if we stored them at different memory location\n",
        "\n",
        " >Used for content equality\n",
        "\n",
        "\n",
        " - **Identity operator** ( is )\n",
        "\n",
        " > It Compares the memory references of two objects\n",
        "\n",
        " > It returns TRUE only when two operands are refers same objetcs with respect to memory\n",
        "\n",
        " > Used for object identity (Same memory location)"
      ],
      "metadata": {
        "id": "shQDTUCLB7vr"
      }
    },
    {
      "cell_type": "markdown",
      "source": [
        "# **8. What are logical operators in Python   ?**\n",
        "\n",
        "- Logical operators are used in python for combine multiple conditional statments and it returna a Bool value\n",
        "\n",
        "- ' **AND** ' operator\n",
        "  > it returns TRUE only when both conditions are true\n",
        "```\n",
        "x = 5\n",
        "print(x > 3 and x < 10)  # True\n",
        "```\n",
        "\n",
        "- ' **OR** ' operator\n",
        "  > It returns TRUE if atleast one condition is true\n",
        "```\n",
        "x = 5\n",
        "print(x > 3 or x < 4)  # True\n",
        "```\n",
        "\n",
        "- ' **NOT** ' operator\n",
        "  > it gives reverse of boolean result\n",
        "```\n",
        "x = 5\n",
        "print(not(x > 3 and x < 10))  # False\n",
        "```"
      ],
      "metadata": {
        "id": "4VidURaLEkXN"
      }
    },
    {
      "cell_type": "markdown",
      "source": [
        "# **9. What is type casting in Python  ?**\n",
        "\n",
        "- Type casting in python is changing the data type of a value is called type casting , its also called type conversion\n",
        "\n",
        "\n"
      ],
      "metadata": {
        "id": "G49-4WYWIEf5"
      }
    },
    {
      "cell_type": "markdown",
      "source": [
        "# **10. What is the differences between implicit and explicit type casting   ?**\n",
        "\n",
        " - The common differences between them are :\n",
        "  \n",
        " > **Implicit Type casting**: it can be done by python automatically\n",
        "\n",
        " > **Explicit Type casting**: it can be done by mannualy using built in function it may cause data loss\n",
        "\n",
        " > common type casting functions are  -->\n",
        "\n",
        " > int() → Converts to integer\n",
        "\n",
        " > float() → Converts to float\n",
        "\n",
        " > str() → Converts to string\n",
        "\n",
        " > list() → Converts to list\n",
        "\n",
        " > tuple() → Converts to tuple\n",
        "\n",
        " > set() → Converts to set"
      ],
      "metadata": {
        "id": "jk4c-RrhJ1bB"
      }
    },
    {
      "cell_type": "markdown",
      "source": [
        "# **11. What is the purpose of conditional statements in Python ?**\n",
        "\n",
        "- The purpose of conditonal statement in python is to make decisions in program by executing the certain blocks of code only when it is TRUE,  it can helps to control the flow of program by deciding the which statements should run based on given condition is TRUE or FALSE by using if, elif, else\n"
      ],
      "metadata": {
        "id": "0e2Mdd4gLb57"
      }
    },
    {
      "cell_type": "markdown",
      "source": [
        "# **12. How does the elif statement work  ?**\n",
        "\n",
        "- The elif statement is used when we want to check multiple conditions in a sequence order, Actually python checks conditons from top to bottom if one conditon is TURE its corrresponding block will run and others are skipped.\n",
        "\n",
        "\n",
        "Ex ->\n",
        "\n",
        "```\n",
        "x = 15\n",
        "\n",
        "if x < 10:\n",
        "    print(\"Less than 10\")\n",
        "elif x < 20:\n",
        "    print(\"Less than 20\")   # This runs, then Python skips the rest\n",
        "else:\n",
        "    print(\"20 or more\")\n",
        "\n",
        "```\n",
        "\n",
        "\n"
      ],
      "metadata": {
        "id": "erXu0WooNc-K"
      }
    },
    {
      "cell_type": "markdown",
      "source": [
        "# **13. What is the difference between for and while loops   ?**\n",
        "\n",
        "- ' FOR ' loop\n",
        "  > It is used  when we know how many times we want to iterate over a range , it automatically iterates over item sequence (lists, tuple, string, etc).\n",
        "  ex -\n",
        "```\n",
        "for i in range(5)\n",
        "     print(i)\n",
        "```\n",
        "\n",
        "\n",
        "\n",
        "- ' WHILE ' loop\n",
        "  > When you want to loop until a condition becomes FALSE and number of iterations may be unknown\n",
        "   ex -\n",
        "```\n",
        "while i < 5:\n",
        "   print(i);\n",
        "    i += 1\n",
        "```\n"
      ],
      "metadata": {
        "id": "7evKGFEyXD0_"
      }
    },
    {
      "cell_type": "markdown",
      "source": [
        "# **14.  Describe a scenario where a while loop is more suitable than a for loop ?**\n",
        "\n",
        "- A WHILE loop is ideal when we don't know in advance how many times we need to repeat an action\n",
        "\n",
        "  > Password Verification example:\n",
        "\n",
        "\n",
        "```\n",
        "correct_pin = \"1234\"\n",
        "entered_pin = \"\"\n",
        "  while entered_pin != correct_pin:\n",
        "        entered_pin = input(\"Enter your pin\")\n",
        "        if entered_pin != correct_pin:\n",
        "        print(\"Incorrect PIN, please try again\")\n",
        "\n",
        "  print(\"Login successfully\")\n",
        "```\n",
        "\n",
        "\n"
      ],
      "metadata": {
        "id": "ds6vNh8JgAwu"
      }
    },
    {
      "cell_type": "markdown",
      "source": [
        "#Python Practical Questions\n",
        "\n",
        "\n"
      ],
      "metadata": {
        "id": "brS_QB3B1s2f"
      }
    },
    {
      "cell_type": "markdown",
      "source": [
        "# **1. Write a Python program to print \"Hello, World! ?**\n"
      ],
      "metadata": {
        "id": "nnvpfqhA2G3H"
      }
    },
    {
      "cell_type": "code",
      "source": [
        "print(\"Hello, World!\")"
      ],
      "metadata": {
        "colab": {
          "base_uri": "https://localhost:8080/"
        },
        "id": "JwpBE-uW2oZ7",
        "outputId": "83bd7b28-8797-4ecc-ffd6-8be950d790e2"
      },
      "execution_count": null,
      "outputs": [
        {
          "output_type": "stream",
          "name": "stdout",
          "text": [
            "Hello, World!\n"
          ]
        }
      ]
    },
    {
      "cell_type": "markdown",
      "source": [
        "# **2. Write a Python program that displays your name and age   ?**"
      ],
      "metadata": {
        "id": "i3nbGJcA6zxU"
      }
    },
    {
      "cell_type": "code",
      "source": [
        "name = \"Himanshu\"\n",
        "age = 27\n",
        "\n",
        "print(f\"Your name is, {name}\")\n",
        "print(f\"Your Age is, {age}\")"
      ],
      "metadata": {
        "colab": {
          "base_uri": "https://localhost:8080/"
        },
        "id": "Agz-vJDm6_MO",
        "outputId": "70b5260d-6409-4304-b726-c868f0a375b3"
      },
      "execution_count": null,
      "outputs": [
        {
          "output_type": "stream",
          "name": "stdout",
          "text": [
            "Your name is, Himanshu\n",
            "Your Age is, 27\n"
          ]
        }
      ]
    },
    {
      "cell_type": "markdown",
      "source": [
        "# **3. Write code to print all the pre-defined keywords in Python using the keyword library   ?**\n"
      ],
      "metadata": {
        "id": "JHHGuLixA2jA"
      }
    },
    {
      "cell_type": "code",
      "source": [
        "import keyword\n",
        "\n",
        "keyword_list = keyword.kwlist\n",
        "print(keyword_list)"
      ],
      "metadata": {
        "colab": {
          "base_uri": "https://localhost:8080/"
        },
        "id": "pfAM4JCa7Xii",
        "outputId": "362decf3-7870-446d-9589-e6ea1695159a"
      },
      "execution_count": null,
      "outputs": [
        {
          "output_type": "stream",
          "name": "stdout",
          "text": [
            "['False', 'None', 'True', 'and', 'as', 'assert', 'async', 'await', 'break', 'class', 'continue', 'def', 'del', 'elif', 'else', 'except', 'finally', 'for', 'from', 'global', 'if', 'import', 'in', 'is', 'lambda', 'nonlocal', 'not', 'or', 'pass', 'raise', 'return', 'try', 'while', 'with', 'yield']\n"
          ]
        }
      ]
    },
    {
      "cell_type": "markdown",
      "source": [
        "# **4. Write a program that checks if a given word is a Python keyword   ?**\n"
      ],
      "metadata": {
        "id": "7rEdxfgLBy2S"
      }
    },
    {
      "cell_type": "code",
      "source": [
        "import keyword\n",
        "\n",
        "word = input(\"Enter the word to check is Python keyword or not\")\n",
        "\n",
        "if keyword.iskeyword(word):\n",
        "    print(f\"{word} is Python keyword\")\n",
        "else:\n",
        "    print(f\"{word} is not python keyword\")"
      ],
      "metadata": {
        "colab": {
          "base_uri": "https://localhost:8080/"
        },
        "id": "d-ZEkSh6BxS0",
        "outputId": "8e57b4e7-9f30-4039-93a7-5ee7f1bd5521"
      },
      "execution_count": null,
      "outputs": [
        {
          "output_type": "stream",
          "name": "stdout",
          "text": [
            "Enter the word to check is Python keyword or notelse\n",
            "else is Python keyword\n"
          ]
        }
      ]
    },
    {
      "cell_type": "markdown",
      "source": [
        "# **5. Create a list and tuple in Python, and demonstrate how attempting to change an element works differently for each   ?**\n"
      ],
      "metadata": {
        "id": "rPUTpcP2EtNb"
      }
    },
    {
      "cell_type": "code",
      "source": [
        "my_list  = [1,2,3,4]\n",
        "print(f\"original list {my_list}\")\n",
        "\n",
        "my_list[0] = 99\n",
        "print(f\"modified list {my_list}\")\n",
        "\n",
        "my_tuple = (1,2,3,4)\n",
        "print(f\"original tuple {my_tuple}\")\n",
        "\n",
        "my_tuple[0] = 199\n",
        "print(f\"modified tuple {my_tuple}\")           #at the end of this code it throws error because tuple not support mutability"
      ],
      "metadata": {
        "colab": {
          "base_uri": "https://localhost:8080/",
          "height": 245
        },
        "collapsed": true,
        "id": "-wDvQ1ExGF6a",
        "outputId": "8763cc51-5c95-46eb-a82d-2245402d5d63"
      },
      "execution_count": null,
      "outputs": [
        {
          "output_type": "stream",
          "name": "stdout",
          "text": [
            "original list [1, 2, 3, 4]\n",
            "modified list [99, 2, 3, 4]\n",
            "original tuple (1, 2, 3, 4)\n"
          ]
        },
        {
          "output_type": "error",
          "ename": "TypeError",
          "evalue": "'tuple' object does not support item assignment",
          "traceback": [
            "\u001b[0;31m---------------------------------------------------------------------------\u001b[0m",
            "\u001b[0;31mTypeError\u001b[0m                                 Traceback (most recent call last)",
            "\u001b[0;32m/tmp/ipython-input-3602470638.py\u001b[0m in \u001b[0;36m<cell line: 0>\u001b[0;34m()\u001b[0m\n\u001b[1;32m      8\u001b[0m \u001b[0mprint\u001b[0m\u001b[0;34m(\u001b[0m\u001b[0;34mf\"original tuple {my_tuple}\"\u001b[0m\u001b[0;34m)\u001b[0m\u001b[0;34m\u001b[0m\u001b[0;34m\u001b[0m\u001b[0m\n\u001b[1;32m      9\u001b[0m \u001b[0;34m\u001b[0m\u001b[0m\n\u001b[0;32m---> 10\u001b[0;31m \u001b[0mmy_tuple\u001b[0m\u001b[0;34m[\u001b[0m\u001b[0;36m0\u001b[0m\u001b[0;34m]\u001b[0m \u001b[0;34m=\u001b[0m \u001b[0;36m199\u001b[0m\u001b[0;34m\u001b[0m\u001b[0;34m\u001b[0m\u001b[0m\n\u001b[0m\u001b[1;32m     11\u001b[0m \u001b[0mprint\u001b[0m\u001b[0;34m(\u001b[0m\u001b[0;34mf\"modified tuple {my_tuple}\"\u001b[0m\u001b[0;34m)\u001b[0m           \u001b[0;31m#at the end of this code it throws error because tuple not support mutability\u001b[0m\u001b[0;34m\u001b[0m\u001b[0;34m\u001b[0m\u001b[0m\n",
            "\u001b[0;31mTypeError\u001b[0m: 'tuple' object does not support item assignment"
          ]
        }
      ]
    },
    {
      "cell_type": "markdown",
      "source": [
        "# **6. Write a function to demonstrate the behavior of mutable and immutable arguments  ?**\n"
      ],
      "metadata": {
        "id": "Nm4sbUbOHPOB"
      }
    },
    {
      "cell_type": "code",
      "source": [
        "# Function to demonstrate mutable and immutable arguments\n",
        "def demonstrate_mutable_immutable(mutable_list, immutable_int):\n",
        "    # Modify mutable list\n",
        "    mutable_list.append(4)\n",
        "    print(\"Inside function (list):\", mutable_list)\n",
        "\n",
        "    # Try to modify immutable integer\n",
        "    immutable_int += 10\n",
        "    print(\"Inside function (int):\", immutable_int)\n",
        "\n",
        "# Initialize mutable and immutable arguments\n",
        "my_list = [1, 2, 3]   # Mutable (list)\n",
        "my_int = 5             # Immutable (int)\n",
        "\n",
        "# Call the function\n",
        "print(\"Before function call:\")\n",
        "print(\"List:\", my_list)\n",
        "print(\"Int:\", my_int)\n",
        "\n",
        "demonstrate_mutable_immutable(my_list, my_int)\n",
        "\n",
        "# Check values after function call\n",
        "print(\"\\nAfter function call:\")\n",
        "print(\"List:\", my_list)  # List is modified\n",
        "print(\"Int:\", my_int)    # Int remains unchanged\n"
      ],
      "metadata": {
        "colab": {
          "base_uri": "https://localhost:8080/"
        },
        "id": "hiOoqtVFEgDt",
        "outputId": "1372fabc-30e4-490c-dec8-a9c1062f644f"
      },
      "execution_count": null,
      "outputs": [
        {
          "output_type": "stream",
          "name": "stdout",
          "text": [
            "Before function call:\n",
            "List: [1, 2, 3]\n",
            "Int: 5\n",
            "Inside function (list): [1, 2, 3, 4]\n",
            "Inside function (int): 15\n",
            "\n",
            "After function call:\n",
            "List: [1, 2, 3, 4]\n",
            "Int: 5\n"
          ]
        }
      ]
    },
    {
      "cell_type": "markdown",
      "source": [
        "# **7.  Write a program that performs basic arithmetic operations on two user-input numbers   ?**\n"
      ],
      "metadata": {
        "id": "T69VzAkgkA9Y"
      }
    },
    {
      "cell_type": "code",
      "source": [
        "number1 = int(input(\"Enter the first number: \"))\n",
        "number2 = int(input(\"Enter the second number: \"))\n",
        "\n",
        "print(f\"Addition of two numbers is {number1 + number2}\")\n",
        "print(f\"Subtraction of two numbers is {number1 - number2}\")\n",
        "print(f\"Multiplication of two numbers is {number1 * number2}\")\n",
        "\n",
        "# Division with zero check\n",
        "if number2 != 0:\n",
        "    print(f\"Division of two numbers is {number1 / number2}\")\n",
        "else:\n",
        "    print(\"Division: Error! Cannot divide by zero.\")"
      ],
      "metadata": {
        "colab": {
          "base_uri": "https://localhost:8080/"
        },
        "id": "tQyceR8xkY-_",
        "outputId": "e07a98e5-2f2d-45fe-b0d4-84071b4a1b13"
      },
      "execution_count": null,
      "outputs": [
        {
          "output_type": "stream",
          "name": "stdout",
          "text": [
            "Enter the first number: 66\n",
            "Enter the second number: 7\n",
            "Addition of two numbers is 73\n",
            "Subtraction of two numbers is 59\n",
            "Multiplication of two numbers is 462\n",
            "Division of two numbers is 9.428571428571429\n"
          ]
        }
      ]
    },
    {
      "cell_type": "markdown",
      "source": [
        "# **8.  Write a program to demonstrate the use of logical operators   ?**\n"
      ],
      "metadata": {
        "id": "POSdGkFnmCt0"
      }
    },
    {
      "cell_type": "code",
      "source": [
        "a = int(input(\"Enter the first number: \"))\n",
        "b = int(input(\"Enter the second number: \"))\n",
        "\n",
        "# Logical AND\n",
        "print(f\"(a > 0) and (b > 0) → {(a > 0) and (b > 0)}\")\n",
        "\n",
        "# Logical OR\n",
        "print(f\"(a > 0) or (b > 0) → {(a > 0) or (b > 0)}\")\n",
        "\n",
        "# Logical NOT\n",
        "print(f\"not (a > 0) → {not (a > 0)}\")\n",
        "print(f\"not (b > 0) → {not (b > 0)}\")"
      ],
      "metadata": {
        "colab": {
          "base_uri": "https://localhost:8080/"
        },
        "id": "US8M7JBokzr0",
        "outputId": "8fb101a8-65fb-49dd-cc82-65caf39747f4"
      },
      "execution_count": null,
      "outputs": [
        {
          "output_type": "stream",
          "name": "stdout",
          "text": [
            "Enter the first number: 12\n",
            "Enter the second number: 32\n",
            "(a > 0) and (b > 0) → True\n",
            "(a > 0) or (b > 0) → True\n",
            "not (a > 0) → False\n",
            "not (b > 0) → False\n"
          ]
        }
      ]
    },
    {
      "cell_type": "markdown",
      "source": [
        "# **9. Write a Python program to convert user input from string to integer, float, and boolean types   ?**\n"
      ],
      "metadata": {
        "id": "iiPG-lp6s1-h"
      }
    },
    {
      "cell_type": "code",
      "source": [
        "\n",
        "\n",
        "# Program to convert user input to integer, float, and boolean using a for loop\n",
        "\n",
        "# Get user input as a string\n",
        "user_input = input(\"Enter a value: \")\n",
        "\n",
        "# List of conversion functions\n",
        "conversions = [int, float, bool]\n",
        "\n",
        "# Loop through each conversion\n",
        "for convert in conversions:\n",
        "    try:\n",
        "        result = convert(user_input)\n",
        "        print(f\"{convert.__name__.capitalize()}:\", result)\n",
        "    except ValueError:\n",
        "        print(f\"Cannot convert to {convert.__name__}.\")\n"
      ],
      "metadata": {
        "colab": {
          "base_uri": "https://localhost:8080/"
        },
        "id": "uZFtM4wytROG",
        "outputId": "1e7ba69a-7c42-41ca-ea7f-44105f8fed1a"
      },
      "execution_count": null,
      "outputs": [
        {
          "output_type": "stream",
          "name": "stdout",
          "text": [
            "Enter a value: 12\n",
            "Int: 12\n",
            "Float: 12.0\n",
            "Bool: True\n"
          ]
        }
      ]
    },
    {
      "cell_type": "markdown",
      "source": [
        "# **10.  Write code to demonstrate type casting with list elements   ?**"
      ],
      "metadata": {
        "id": "hZrATnPVwPHE"
      }
    },
    {
      "cell_type": "code",
      "source": [
        "\n",
        "# Program to demonstrate type casting with list elements\n",
        "\n",
        "# List with mixed data types (string representations of numbers)\n",
        "data = [\"10\", \"20.5\", \"30\", \"True\", \"False\"]\n",
        "\n",
        "# Empty lists to store converted values\n",
        "int_list = []\n",
        "float_list = []\n",
        "bool_list = []\n",
        "\n",
        "# Type casting using for loop\n",
        "for item in data:\n",
        "    # Convert to int if possible\n",
        "    try:\n",
        "        int_list.append(int(item))\n",
        "    except ValueError:\n",
        "        pass\n",
        "\n",
        "    # Convert to float if possible\n",
        "    try:\n",
        "        float_list.append(float(item))\n",
        "    except ValueError:\n",
        "        pass\n",
        "\n",
        "    # Convert to boolean\n",
        "    bool_list.append(bool(item))\n",
        "\n",
        "# Display the results\n",
        "print(\"Original List:\", data)\n",
        "print(\"Integer List:\", int_list)\n",
        "print(\"Float List:\", float_list)\n",
        "print(\"Boolean List:\", bool_list)\n"
      ],
      "metadata": {
        "colab": {
          "base_uri": "https://localhost:8080/"
        },
        "id": "HLuuMGrLtRsT",
        "outputId": "f1f5f041-561a-4d1b-d7e6-aa15bf72c82b"
      },
      "execution_count": null,
      "outputs": [
        {
          "output_type": "stream",
          "name": "stdout",
          "text": [
            "Original List: ['10', '20.5', '30', 'True', 'False']\n",
            "Integer List: [10, 30]\n",
            "Float List: [10.0, 20.5, 30.0]\n",
            "Boolean List: [True, True, True, True, True]\n"
          ]
        }
      ]
    },
    {
      "cell_type": "markdown",
      "source": [
        "# **11.   Write a program that checks if a number is positive, negative, or zero.  ?**"
      ],
      "metadata": {
        "id": "WxFzYqv6wg1M"
      }
    },
    {
      "cell_type": "code",
      "source": [
        "# Program for  if a number is positive, negative, or zero\n",
        "\n",
        "# Get user input\n",
        "num = float(input(\"Enter  number: \"))\n",
        "\n",
        "# Check the number's sign\n",
        "if num > 0:\n",
        "    print(\"The given number is positive.\")\n",
        "elif num < 0:\n",
        "    print(\"The given number is negative.\")\n",
        "else:\n",
        "    print(\"The given number is zero.\")"
      ],
      "metadata": {
        "colab": {
          "base_uri": "https://localhost:8080/"
        },
        "id": "7jAOx9wkwmKC",
        "outputId": "08807902-39c3-4562-c552-8c7e8c522aec"
      },
      "execution_count": null,
      "outputs": [
        {
          "output_type": "stream",
          "name": "stdout",
          "text": [
            "Enter a number: -12\n",
            "The number is negative.\n"
          ]
        }
      ]
    },
    {
      "cell_type": "markdown",
      "source": [
        "# **12.  Write a for loop to print numbers from 1 to 10. ?**"
      ],
      "metadata": {
        "id": "0C9C3kU0zILU"
      }
    },
    {
      "cell_type": "code",
      "source": [
        "\n",
        "for i in range(1, 11):\n",
        "    print(i)\n"
      ],
      "metadata": {
        "colab": {
          "base_uri": "https://localhost:8080/"
        },
        "id": "34LxEqzPwrvX",
        "outputId": "3e8ca55b-61b0-4d2f-ea17-b8f1f69f9bc2"
      },
      "execution_count": null,
      "outputs": [
        {
          "output_type": "stream",
          "name": "stdout",
          "text": [
            "1\n",
            "2\n",
            "3\n",
            "4\n",
            "5\n",
            "6\n",
            "7\n",
            "8\n",
            "9\n",
            "10\n"
          ]
        }
      ]
    },
    {
      "cell_type": "markdown",
      "source": [
        "# **13.   Write a Python program to find the sum of all even numbers between 1 and 50.  ?**\n",
        "\n",
        "*   List item\n",
        "*   List item\n",
        "\n"
      ],
      "metadata": {
        "id": "vNgxqh3tzbXs"
      }
    },
    {
      "cell_type": "code",
      "source": [
        "total = 0\n",
        "for i in range(2, 51, 2):\n",
        "    total += i\n",
        "\n",
        "print(\"Sum of even numbers from 1 to 50 :\", total)\n"
      ],
      "metadata": {
        "colab": {
          "base_uri": "https://localhost:8080/"
        },
        "id": "JB_Mpk1jzXCu",
        "outputId": "93df8619-cd3c-4c19-ba83-4346841e95f4"
      },
      "execution_count": null,
      "outputs": [
        {
          "output_type": "stream",
          "name": "stdout",
          "text": [
            "Sum of even numbers from 1 to 50 is: 650\n"
          ]
        }
      ]
    },
    {
      "cell_type": "markdown",
      "source": [
        "# **14.   Write a program to reverse a string using a while loop ?**"
      ],
      "metadata": {
        "id": "4suMmNoozpmJ"
      }
    },
    {
      "cell_type": "code",
      "source": [
        "# Get user input\n",
        "stringData = input(\"Enter a string: \")\n",
        "\n",
        "# Initialize variables\n",
        "reversed_str = \"\"\n",
        "index = len(stringData) - 1\n",
        "\n",
        "# While loop to reverse the string\n",
        "while index >= 0:\n",
        "    reversed_str += stringData[index]\n",
        "    index -= 1\n",
        "\n",
        "# Display the reversed string\n",
        "print(\"Reversed string:\", reversed_str)"
      ],
      "metadata": {
        "colab": {
          "base_uri": "https://localhost:8080/"
        },
        "id": "RcYXMFgTzmIB",
        "outputId": "20d1eaf4-9701-42dc-afd5-307d513511c1"
      },
      "execution_count": null,
      "outputs": [
        {
          "output_type": "stream",
          "name": "stdout",
          "text": [
            "Enter a string: hye\n",
            "Reversed string: eyh\n"
          ]
        }
      ]
    },
    {
      "cell_type": "markdown",
      "source": [
        "# **15.   Write a Python program to calculate the factorial of a number provided by the user using a while loop. ?**"
      ],
      "metadata": {
        "id": "KlecdRRu0i6v"
      }
    },
    {
      "cell_type": "code",
      "source": [
        "# Get user input\n",
        "number = int(input(\"Enter a positive integer: \"))\n",
        "\n",
        "# Initialize variables\n",
        "factorial = 1\n",
        "i = number\n",
        "\n",
        "# While loop to calculate factorial\n",
        "while i > 0:\n",
        "    factorial *= i\n",
        "    i -= 1\n",
        "\n",
        "# Display the result\n",
        "print(f\"Factorial of {number} is:\", factorial)"
      ],
      "metadata": {
        "colab": {
          "base_uri": "https://localhost:8080/"
        },
        "id": "d0s29cXi0YBx",
        "outputId": "a27f4667-c29e-4b62-e282-129083f99549"
      },
      "execution_count": null,
      "outputs": [
        {
          "output_type": "stream",
          "name": "stdout",
          "text": [
            "Enter a positive integer: 5\n",
            "Factorial of 5 is: 120\n"
          ]
        }
      ]
    },
    {
      "cell_type": "code",
      "source": [],
      "metadata": {
        "id": "0YGIrZpn0rkD"
      },
      "execution_count": null,
      "outputs": []
    }
  ]
}