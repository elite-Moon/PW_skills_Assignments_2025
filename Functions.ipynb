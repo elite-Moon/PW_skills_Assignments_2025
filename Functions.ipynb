{
  "nbformat": 4,
  "nbformat_minor": 0,
  "metadata": {
    "colab": {
      "provenance": []
    },
    "kernelspec": {
      "name": "python3",
      "display_name": "Python 3"
    },
    "language_info": {
      "name": "python"
    }
  },
  "cells": [
    {
      "cell_type": "markdown",
      "source": [
        "#Functions Questions"
      ],
      "metadata": {
        "id": "CkaC26RolaRh"
      }
    },
    {
      "cell_type": "markdown",
      "source": [
        "#**1 .   What is the difference between a function and a method in Python ?**\n",
        "\n",
        "- **Functions**\n",
        "\n",
        "> A functions is the block of reusable code that perform a specific task, and it does not belong to any object or class by default\n",
        "\n",
        "> Example -\n",
        "```\n",
        "def greet(name):\n",
        "    return f\"Hello, {name}!\"\n",
        "\n",
        "print(greet(\"Alice\"))                          # Output: Hello, Alice!\n",
        "```\n",
        "\n",
        "- **Methods**\n",
        "\n",
        "> A method is a function that is assosiated with an object and called on that object, It belongs to an object (or class) and can access its data.\n",
        "\n",
        "> Example -\n",
        "```\n",
        "message = \"hello\"\n",
        "print(message.upper())                         # Output: HELLO\n",
        "\n",
        "```"
      ],
      "metadata": {
        "id": "RhZiWNiIli5L"
      }
    },
    {
      "cell_type": "markdown",
      "source": [
        "#**2 .    Explain the concept of function arguments and parameters in Python. ?**\n",
        "\n",
        "- **Parameters** - Variables that are defined inside the function definition to receive input values.\n",
        "- example -\n",
        "```\n",
        "def greet(name):                                  # 'name' is a parameter\n",
        "    print(f\"Hello, {name}!\")\n",
        "```\n",
        "\n",
        "\n",
        "- **Arguments** - The actual value passed to the function when calling it\n",
        "- example -\n",
        "```\n",
        "greet(\"Alice\")                                    # \"Alice\" is an argument\n",
        "```\n",
        "\n",
        "\n",
        "\n",
        "- name → Parameter (placeholder inside function)\n",
        "\n",
        "- \"Alice\" → Argument (real value we pass)"
      ],
      "metadata": {
        "id": "0mUIh66xosvi"
      }
    },
    {
      "cell_type": "markdown",
      "source": [
        "#**3 .     What are the different ways to define and call a function in Python ?**\n",
        "\n",
        "- To **define** a function in Python, you use the `def` keyword, followed by the function name, parentheses `()`, and a colon `:`. The code block for the function is indented.\n",
        "\n",
        "```python\n",
        "# Function definition\n",
        "def greet(name):\n",
        "    print(f\"Hello, {name}!\")\n",
        "```\n",
        "\n",
        "To **call** a function, you simply use the function's name followed by parentheses containing any required arguments.\n",
        "\n",
        "```python\n",
        "# Function call\n",
        "greet(\"Alice\")\n",
        "```"
      ],
      "metadata": {
        "id": "wXIiHbp0rL3j"
      }
    },
    {
      "cell_type": "markdown",
      "source": [
        "#**4.    What is the purpose of the `return` statement in a Python function ?**\n",
        "\n",
        "-  The return statement in python is used to\n",
        "\n",
        "   > provide a output from the function so it can be stored, used in calculations or passed to another function\n",
        "\n",
        "    > Exit a function and send a value to the caller\n",
        "\n",
        "    > Without return, a function returns None by default."
      ],
      "metadata": {
        "id": "jZNoxyfJE_zi"
      }
    },
    {
      "cell_type": "markdown",
      "source": [
        "#**5. What are iterators in Python and how do they differ from iterables ?**\n",
        "\n",
        "- In python iterators and iterables are related concepts but they are not same\n",
        "\n",
        "- **Iterators** -->\n",
        "  > An iterator is an object that represents a stream of data; it returns one element at a time when you call next() on it. It implements two special methods\n",
        "\n",
        "  > __iter__() → returns the iterator object itself\n",
        "\n",
        "  > __next__() → returns the next value from the sequence; raises StopIteration when there are no more elements.\n",
        "\n",
        "  > example -\n",
        "            \n",
        "            \n",
        "            \n",
        "            my_list = [1, 2, 3]\n",
        "\n",
        "            it = iter(my_list)    # converts iterable to iterator\n",
        "            print(next(it))       # 1\n",
        "            print(next(it))       # 2\n",
        "            print(next(it))       # 3\n",
        "            \n",
        "\n",
        "\n",
        "- **Iterable** -->\n",
        "\n",
        "    > An iterable is any Python object that can return an iterator. These objects can be looped over (using for loops, comprehensions, etc.) because they implement the __iter__() method.\n",
        "\n",
        "    > Examples of Iterables:\n",
        "\n",
        "          Lists: [1, 2, 3]\n",
        "\n",
        "          Tuples: (4, 5, 6)\n",
        "\n",
        "          Strings: \"Hello\"\n",
        "\n",
        "          Sets, dictionaries"
      ],
      "metadata": {
        "id": "Eu1RhBdaTSd6"
      }
    },
    {
      "cell_type": "markdown",
      "source": [
        "#**6. Explain the concept of generators in Python and how they are defined. ?**\n",
        "\n",
        "- A **generator** is a special type of function in Python that returns an iterator. Instead of using `return` to return a value and terminate, generators use the `yield` keyword to produce a sequence of values one at a time.  Each time `yield` is encountered, the generator's state is saved, and the yielded value is returned. The next time the generator is called, it resumes execution from where it left off. This makes generators memory-efficient, especially for large datasets.\n",
        "\n",
        "      \n",
        "      \n",
        "      # A generator function\n",
        "      def countdown(n):\n",
        "          while n > 0:\n",
        "              yield n\n",
        "              n -= 1\n",
        "\n",
        "      # Using the generator\n",
        "      for number in countdown(5):\n",
        "          print(number)\n",
        "      \n",
        "      \n"
      ],
      "metadata": {
        "id": "1r-R3JWdYGnl"
      }
    },
    {
      "cell_type": "markdown",
      "source": [
        "#**7.  What are the advantages of using generators over regular functions?**\n",
        "\n",
        "- Advantages of generators over regular functions\n",
        "- Memory Efficiency (Lazy Evaluation)\n",
        "  >  regular functions returns the entire result at once occupy memmory for all values  \n",
        "\n",
        "  > genrators produces once value at a time only when it requested and use constant values\n",
        "\n",
        "\n",
        "- Infinite Sequences\n",
        "\n",
        "  > Generators can represent infinite sequences without running out of memory.\n",
        "\n",
        "- Better performance\n",
        "  > Since values are generated on demand, it reduces initial computation time.\n",
        "\n",
        "  > No need to create and store the entire list before iteration.\n",
        "\n",
        "- Cleaner code\n",
        "\n",
        "  > Generators are easier to write than custom iterator classes.\n",
        "  \n",
        "  > Example without generator:\n",
        "  > You’d have to create a class, define ```__iter__``` and ```__next__```\n",
        "  With a generator, just use yield.\n",
        "\n",
        "- Pipeline Processing\n",
        "\n",
        "  > Generators allow chaining of operations, making them great for streaming data (like reading big files line by line)."
      ],
      "metadata": {
        "id": "zycEe73eZCK3"
      }
    },
    {
      "cell_type": "markdown",
      "source": [
        "#**8.   What is a lambda function in Python and when is it typically used?**\n",
        "\n",
        "- A lambda function in Python is a small, anonymous function defined using the lambda keyword instead of def.\n",
        "   ```\n",
        "   square = lambda x: x * x\n",
        "   print(square(5))  # Output: 25\n",
        "\n",
        "   ```\n",
        "- When it is used : -\n",
        "\n",
        "  > Lambda functions are commonly used for short, simple operations where defining a full function using def would be unnecessary.\n",
        "  \n",
        "  > As an argument to higher-order functions (like map(), filter(), sorted()):\n",
        "\n",
        "  > For inline, one-time use functions:\n",
        "   ```\n",
        "      add = lambda a, b: a + b\n",
        "      print(add(3, 5))  # 8\n",
        "   ```\n",
        "\n",
        "  > In sorted() with key parameter\n",
        "  ```\n",
        "  names = ['Alice', 'Bob', 'Christina']\n",
        "  sorted_names = sorted(names, key=lambda x: len(x))  # ['Bob', 'Alice', 'Christina']\n",
        "  ```\n",
        "\n",
        "  > With filter()\n",
        "\n",
        "  ```\n",
        "  nums = [1, 2, 3, 4, 5]\n",
        "  evens = list(filter(lambda x: x % 2 == 0, nums))  # [2, 4]\n",
        "  ```\n",
        "\n",
        "\n"
      ],
      "metadata": {
        "id": "eejBsHkAdXOy"
      }
    },
    {
      "cell_type": "markdown",
      "source": [
        "#**9.   Explain the purpose and usage of the `map()` function in Python.**\n",
        "\n",
        "- The map() function in Python is used to apply a function to each element of an iterable (like a list, tuple, or set) and returns a map object (which is an iterator) containing the results.\n",
        "\n",
        "- syntax --> `map(function, iterable)`\n",
        "\n",
        "- function → The function to apply to each element.\n",
        "\n",
        "- iterable → The iterable (list, tuple, etc.) whose elements the function will process.\n",
        "\n",
        "- The purpose of map() is to avoid writing explicit loops and make code more concise and functional.\n",
        "\n",
        "- Example\n",
        "\n",
        "      def square(x):\n",
        "          return x * x\n",
        "\n",
        "      nums = [1, 2, 3, 4]\n",
        "      result = map(square, nums)\n",
        "      print(list(result))  # Output: [1, 4, 9, 16]\n",
        "      \n"
      ],
      "metadata": {
        "id": "44HEdjWcjDTE"
      }
    },
    {
      "cell_type": "markdown",
      "source": [
        "#**10.  What is the difference between `map()`, `reduce()`, and `filter()` functions in Python?**\n",
        "\n",
        "- **map**( )\n",
        "\n",
        "  > Purpose: Applies a function to each element of an iterable and returns an iterator of results.\n",
        "\n",
        "  > Usage: Transformation.\n",
        "\n",
        "  > example -\n",
        "  ```\n",
        "  nums = [1, 2, 3, 4]\n",
        "  result = map(lambda x: x * 2, nums)\n",
        "  print(list(result))  # [2, 4, 6, 8]\n",
        "  ```\n",
        "\n",
        "\n",
        "- filter( )\n",
        "\n",
        "  > Purpose: Filters elements based on a condition (True/False) and returns an iterator of elements that satisfy the condition.\n",
        "\n",
        "  > Usage: Filtering data.\n",
        "\n",
        "  > example -\n",
        "  ```\n",
        "    nums = [1, 2, 3, 4, 5, 6]\n",
        "    result = filter(lambda x: x % 2 == 0, nums)\n",
        "    print(list(result))  # [2, 4, 6]\n",
        "  ```\n",
        "\n",
        "- reduce ( ) - from functools module\n",
        "\n",
        "  > Purpose: Applies a function cumulatively to the elements of an iterable, reducing it to a single value.\n",
        "\n",
        "  > Usage: Aggregation (sum, product, max, etc.)\n",
        "\n",
        "  > example -\n",
        "   ```\n",
        "      from functools import reduce\n",
        "\n",
        "      nums = [1, 2, 3, 4]\n",
        "      result = reduce(lambda x, y: x + y, nums)\n",
        "      print(result)  # 10\n",
        "\n",
        "\n",
        "   ```"
      ],
      "metadata": {
        "id": "7Gh8eyPwl0B0"
      }
    },
    {
      "cell_type": "markdown",
      "source": [
        "#**11.  Using pen & Paper write the internal mechanism for sum operation using  reduce function on this given list:[47,11,42,13]; ?**\n",
        "\n",
        "- Using `reduce()` on the list `[47, 11, 42, 13]` with a sum operation works as follows:\n",
        "\n",
        "1.  The function starts with the first two elements, `47` and `11`.\n",
        "2.  It applies the sum operation: `47 + 11 = 58`.\n",
        "3.  The result, `58`, is then combined with the next element, `42`: `58 + 42 = 100`.\n",
        "4.  This new result, `100`, is combined with the final element, `13`: `100 + 13 = 113`.\n",
        "5.  The final result, `113`, is returned.\n"
      ],
      "metadata": {
        "id": "UgP8CsPFnSPO"
      }
    },
    {
      "cell_type": "markdown",
      "source": [
        "#Practical Questions"
      ],
      "metadata": {
        "id": "xhcDn-QATOtR"
      }
    },
    {
      "cell_type": "markdown",
      "source": [
        "#**1.   Write a Python function that takes a list of numbers as input and returns the sum of all even numbers in the list.?**"
      ],
      "metadata": {
        "id": "_Yb6FC2KUmW4"
      }
    },
    {
      "cell_type": "code",
      "source": [
        "def sum_of_even_numbers(numbers):\n",
        "    even_sum = 0\n",
        "    for num in numbers:\n",
        "        if num % 2 == 0:\n",
        "            even_sum += num\n",
        "    return even_sum\n",
        "\n",
        "# Take input from user\n",
        "user_input = input(\"Enter numbers separated by spaces: \")\n",
        "numbers = list(map(int, user_input.split()))  # Convert input to list of integers\n",
        "\n",
        "print(\"Sum of even numbers:\", sum_of_even_numbers(numbers))\n",
        "\n"
      ],
      "metadata": {
        "colab": {
          "base_uri": "https://localhost:8080/"
        },
        "id": "wmSFLJBVU8nh",
        "outputId": "90e9cc95-8ec1-4cf9-b1b2-13fd6fb3e507"
      },
      "execution_count": null,
      "outputs": [
        {
          "output_type": "stream",
          "name": "stdout",
          "text": [
            "Enter numbers separated by spaces: 1 2 3 4 5 6\n",
            "Sum of even numbers: 12\n"
          ]
        }
      ]
    },
    {
      "cell_type": "markdown",
      "source": [
        "#**2. Create a Python function that accepts a string and returns the reverse of that string. ?**"
      ],
      "metadata": {
        "id": "tY_CarldX-YE"
      }
    },
    {
      "cell_type": "code",
      "source": [
        "def rev_str(text):\n",
        "  return text[::-1]\n",
        "\n",
        "user_input = input(\"Enter a string:\")\n",
        "print(f\"Reverse string of given string is {rev_str(user_input)}\")"
      ],
      "metadata": {
        "colab": {
          "base_uri": "https://localhost:8080/"
        },
        "id": "jfbIfVatXfOz",
        "outputId": "6be65865-644e-414a-c46d-082f4ab068f8"
      },
      "execution_count": null,
      "outputs": [
        {
          "output_type": "stream",
          "name": "stdout",
          "text": [
            "Enter a string:heloooooooooo\n",
            "Reverse string of given string is ooooooooooleh\n"
          ]
        }
      ]
    },
    {
      "cell_type": "markdown",
      "source": [
        "#**3.  Implement a Python function that takes a list of integers and returns a new list containing the squares of each number. ?**"
      ],
      "metadata": {
        "id": "4UrITFfbadvJ"
      }
    },
    {
      "cell_type": "code",
      "source": [
        "def sq_num(numbers):\n",
        "  return [num ** 2 for num in numbers]\n",
        "\n",
        "num = list(map(int, input(\"Enter numbers separated by space: \").split()))\n",
        "print(f\"Squares of given numbers are {sq_num(num)}\")"
      ],
      "metadata": {
        "colab": {
          "base_uri": "https://localhost:8080/"
        },
        "id": "5J0gfy9EctwZ",
        "outputId": "7f8a8cb9-3eed-4ed2-97c3-fc80da273381"
      },
      "execution_count": null,
      "outputs": [
        {
          "output_type": "stream",
          "name": "stdout",
          "text": [
            "Enter numbers separated by space: 1 2 3 5 6 7 8 8 \n",
            "Squares of given numbers are [1, 4, 9, 25, 36, 49, 64, 64]\n"
          ]
        }
      ]
    },
    {
      "cell_type": "markdown",
      "source": [
        "#**4.  Write a Python function that checks if a given number is prime or not from 1 to 200 ?**"
      ],
      "metadata": {
        "id": "0l0LrTv-g_QM"
      }
    },
    {
      "cell_type": "code",
      "source": [
        "def is_prime(n):\n",
        "    if n <= 1:\n",
        "        return False\n",
        "    for i in range(2, int(n**0.5) + 1):\n",
        "        if n % i == 0:\n",
        "            return False\n",
        "    return True\n",
        "\n",
        "# Example:\n",
        "for number in range(1, 201):\n",
        "    if is_prime(number):\n",
        "        print(number, end=\" \")"
      ],
      "metadata": {
        "colab": {
          "base_uri": "https://localhost:8080/"
        },
        "id": "SK9v7Gf0aKKL",
        "outputId": "1098af0e-0ebb-411c-fc44-63620129d3c7"
      },
      "execution_count": null,
      "outputs": [
        {
          "output_type": "stream",
          "name": "stdout",
          "text": [
            "2 3 5 7 11 13 17 19 23 29 31 37 41 43 47 53 59 61 67 71 73 79 83 89 97 101 103 107 109 113 127 131 137 139 149 151 157 163 167 173 179 181 191 193 197 199 "
          ]
        }
      ]
    },
    {
      "cell_type": "markdown",
      "source": [
        "#**5.  Create an iterator class in Python that generates the Fibonacci sequence up to a specified number of terms. ?**"
      ],
      "metadata": {
        "id": "GluNrkEjhUkm"
      }
    },
    {
      "cell_type": "code",
      "source": [
        "class FibonacciIterator:\n",
        "    def __init__(self, n_terms):\n",
        "        self.n_terms = n_terms\n",
        "        self.count = 0\n",
        "        self.a, self.b = 0, 1\n",
        "\n",
        "    def __iter__(self):\n",
        "        return self\n",
        "\n",
        "    def __next__(self):\n",
        "        if self.count >= self.n_terms:\n",
        "            raise StopIteration\n",
        "        if self.count == 0:\n",
        "            self.count += 1\n",
        "            return self.a\n",
        "        elif self.count == 1:\n",
        "            self.count += 1\n",
        "            return self.b\n",
        "        else:\n",
        "            self.a, self.b = self.b, self.a + self.b\n",
        "            self.count += 1\n",
        "            return self.b\n",
        "\n",
        "\n",
        "# Example usage:\n",
        "fib = FibonacciIterator(10)  # Generate first 10 Fibonacci numbers\n",
        "for num in fib:\n",
        "    print(num, end=\" \")\n"
      ],
      "metadata": {
        "colab": {
          "base_uri": "https://localhost:8080/"
        },
        "id": "wkk39LUihRTm",
        "outputId": "32c1e234-6733-477b-fbe0-214e77399f73"
      },
      "execution_count": null,
      "outputs": [
        {
          "output_type": "stream",
          "name": "stdout",
          "text": [
            "0 1 1 2 3 5 8 13 21 34 "
          ]
        }
      ]
    },
    {
      "cell_type": "markdown",
      "source": [
        "#**6. Write a generator function in Python that yields the powers of 2 up to a given exponent. ?**"
      ],
      "metadata": {
        "id": "k156db-wiVC1"
      }
    },
    {
      "cell_type": "code",
      "source": [
        "def power_of_two(n):\n",
        "  for i in range(n + 1):\n",
        "    yield 2 ** i\n",
        "\n",
        "for value in power_of_two(5):\n",
        "   print(value,end = \" \")"
      ],
      "metadata": {
        "colab": {
          "base_uri": "https://localhost:8080/"
        },
        "id": "fVBSSDgLi425",
        "outputId": "c153ca8c-990b-4f4a-b209-11ead5e54e15"
      },
      "execution_count": null,
      "outputs": [
        {
          "output_type": "stream",
          "name": "stdout",
          "text": [
            "1 2 4 8 16 32 "
          ]
        }
      ]
    },
    {
      "cell_type": "markdown",
      "source": [
        "#**7. Implement a generator function that reads a file line by line and yields each line as a string. ?**"
      ],
      "metadata": {
        "id": "PlmpLSgBjjXy"
      }
    },
    {
      "cell_type": "code",
      "source": [
        "def read_file_line_by_line(file_path):\n",
        "    with open(file_path, 'r') as file:\n",
        "        for line in file:\n",
        "            yield line.strip()\n",
        "\n",
        "# Example usage:\n",
        "with open(\"sample.txt\", \"w\") as f:\n",
        "    f.write(\"Line 1\\n\")\n",
        "    f.write(\"Line 2\\n\")\n",
        "    f.write(\"Line 3\\n\")\n",
        "\n",
        "print(\"\\nReading file line by line:\")\n",
        "for line in read_file_line_by_line(\"sample.txt\"):\n",
        "    print(line)\n"
      ],
      "metadata": {
        "colab": {
          "base_uri": "https://localhost:8080/"
        },
        "id": "Pk94wsrNjaUs",
        "outputId": "eb5a5919-40e0-4e03-f5c8-edfe617bb70d"
      },
      "execution_count": null,
      "outputs": [
        {
          "output_type": "stream",
          "name": "stdout",
          "text": [
            "\n",
            "Reading file line by line:\n",
            "Line 1\n",
            "Line 2\n",
            "Line 3\n"
          ]
        }
      ]
    },
    {
      "cell_type": "markdown",
      "source": [
        "#**8.  Use a lambda function in Python to sort a list of tuples based on the second element of each tuple ?**"
      ],
      "metadata": {
        "id": "oFTSZNG6n8OE"
      }
    },
    {
      "cell_type": "code",
      "source": [
        "data = [('apple' , 3),('banana' , 1) , ('kiwi',2)]\n",
        "sorted_data = sorted(data, key = lambda x: x[1])\n",
        "\n",
        "print(f\"Sorted list based on second element: {sorted_data}\")"
      ],
      "metadata": {
        "colab": {
          "base_uri": "https://localhost:8080/"
        },
        "id": "bb0fvFl2kS4S",
        "outputId": "81be2183-5ad1-4792-9324-5b3215cb6ce3"
      },
      "execution_count": null,
      "outputs": [
        {
          "output_type": "stream",
          "name": "stdout",
          "text": [
            "Sorted list based on second element: [('banana', 1), ('kiwi', 2), ('apple', 3)]\n"
          ]
        }
      ]
    },
    {
      "cell_type": "markdown",
      "source": [
        "#**9. Write a Python program that uses `map()` to convert a list of temperatures from Celsius to Fahrenheit. ?**"
      ],
      "metadata": {
        "id": "dsa5mTsQpu8B"
      }
    },
    {
      "cell_type": "code",
      "source": [
        "celcius = [10,0,-11,25]\n",
        "\n",
        "farenheit = list(map(lambda c: (c*9/5) + 32 , celcius))\n",
        "\n",
        "print(f\"Farenheit temp are {farenheit}\")"
      ],
      "metadata": {
        "id": "sRd91WIBo7WD",
        "colab": {
          "base_uri": "https://localhost:8080/",
          "height": 0
        },
        "outputId": "5b76fc12-42d3-423b-f2a5-d1af8e5570be"
      },
      "execution_count": 22,
      "outputs": [
        {
          "output_type": "stream",
          "name": "stdout",
          "text": [
            "Farenheit temp are [50.0, 32.0, 12.2, 77.0]\n"
          ]
        }
      ]
    },
    {
      "cell_type": "markdown",
      "source": [
        "#**10. Create a Python program that uses `filter()` to remove all the vowels from a given string. ?**"
      ],
      "metadata": {
        "id": "xMmJNULPscyt"
      }
    },
    {
      "cell_type": "code",
      "source": [
        "text = \"Hello this is python example\"\n",
        "\n",
        "vowels = \"aeiouAEIOU\"\n",
        "\n",
        "filter_text = \"\".join(filter(lambda ch: ch not in vowels, text))\n",
        "\n",
        "print(f\"original string: {text}\")\n",
        "print(f\"string without vowel: {filter_text}\")"
      ],
      "metadata": {
        "colab": {
          "base_uri": "https://localhost:8080/",
          "height": 0
        },
        "id": "Rh57L43PsTsl",
        "outputId": "efb41f10-d8db-49eb-d69b-9c1909a4da4e"
      },
      "execution_count": 25,
      "outputs": [
        {
          "output_type": "stream",
          "name": "stdout",
          "text": [
            "original string: Hello this is python example\n",
            "string without vowel: Hll ths s pythn xmpl\n"
          ]
        }
      ]
    },
    {
      "cell_type": "markdown",
      "source": [
        "## 11. Imagine an accounting routine used in a book shop. It works on a list with sublists, which look like this:\n",
        "\n",
        "| Order Number | Book Title and Author              | Quantity | Price per Item |\n",
        "|--------------|------------------------------------|----------|----------------|\n",
        "| 34587        | Learning Python, Mark Lutz        | 4        | 40.95          |\n",
        "| 98762        | Programming Python, Mark Lutz     | 5        | 56.80          |\n",
        "| 77226        | Head First Python, Paul Barry     | 3        | 32.95          |\n",
        "| 88112        | Einführung in Python3, Bernd Klein| 3        | 24.99          |\n",
        "\n",
        "---\n",
        "Write a Python program, which returns a list with 2-tuples. Each tuple consists of the order number and the\n",
        "product of the price per item and the quantity. The product should be increased by 10,- € if the value of the\n",
        "order is smaller than 100,00 €.\n",
        "\n",
        "Write a Python program using lambda and map.\n"
      ],
      "metadata": {
        "id": "bqUheLk9vL1P"
      }
    },
    {
      "cell_type": "code",
      "source": [
        "orders = [\n",
        "    [12345, 12.50, 10],\n",
        "    [56789, 5.00, 20],\n",
        "    [98765, 100.00, 1],\n",
        "    [45678, 9.99, 5],\n",
        "    [11223, 20.00, 3]\n",
        "]\n",
        "\n",
        "def cal_value(order):\n",
        "    order_number = order[0]\n",
        "    price = order[1]\n",
        "    quantity = order[2]\n",
        "    total_value = price * quantity\n",
        "    if total_value < 100:\n",
        "        total_value += 10\n",
        "    return (order_number, total_value)\n",
        "\n",
        "result = list(map(lambda order: cal_value(order), orders))\n",
        "\n",
        "print(f\"Original order list: {orders}\")\n",
        "print(f\"Processed order list: {result}\")"
      ],
      "metadata": {
        "colab": {
          "base_uri": "https://localhost:8080/",
          "height": 0
        },
        "id": "qMAtovXVu-W1",
        "outputId": "92814d4b-d9d5-40ce-8262-5b41fccc7e6c"
      },
      "execution_count": 29,
      "outputs": [
        {
          "output_type": "stream",
          "name": "stdout",
          "text": [
            "Original order list: [[12345, 12.5, 10], [56789, 5.0, 20], [98765, 100.0, 1], [45678, 9.99, 5], [11223, 20.0, 3]]\n",
            "Processed order list: [(12345, 125.0), (56789, 100.0), (98765, 100.0), (45678, 59.95), (11223, 70.0)]\n"
          ]
        }
      ]
    },
    {
      "cell_type": "code",
      "source": [],
      "metadata": {
        "id": "j0PRa7RRwkSD"
      },
      "execution_count": null,
      "outputs": []
    }
  ]
}